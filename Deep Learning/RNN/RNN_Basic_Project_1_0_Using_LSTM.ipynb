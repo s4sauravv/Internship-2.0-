{
  "nbformat": 4,
  "nbformat_minor": 0,
  "metadata": {
    "colab": {
      "provenance": []
    },
    "kernelspec": {
      "name": "python3",
      "display_name": "Python 3"
    },
    "language_info": {
      "name": "python"
    }
  },
  "cells": [
    {
      "cell_type": "code",
      "execution_count": 1,
      "metadata": {
        "id": "PG11vvH6A7wL"
      },
      "outputs": [],
      "source": [
        "import numpy as np\n",
        "from tensorflow.keras.models import Sequential\n",
        "from tensorflow.keras.layers import LSTM, Dense\n",
        "from tensorflow.keras.preprocessing.text import Tokenizer\n",
        "from tensorflow.keras.preprocessing.sequence import pad_sequences"
      ]
    },
    {
      "cell_type": "code",
      "source": [
        "# Example input text\n",
        "input_text = '''\n",
        "Hello, how are you?\n",
        "I'm doing great, thank you!\n",
        "What are your plans for the weekend?\n",
        "'''"
      ],
      "metadata": {
        "id": "ls13gFXPA813"
      },
      "execution_count": 2,
      "outputs": []
    },
    {
      "cell_type": "code",
      "source": [
        "# Preprocess the input text\n",
        "tokenizer = Tokenizer()\n",
        "tokenizer.fit_on_texts([input_text])\n",
        "sequences = tokenizer.texts_to_sequences([input_text])\n",
        "vocab_size = len(tokenizer.word_index) + 1\n"
      ],
      "metadata": {
        "id": "G7Ysb1tWA86e"
      },
      "execution_count": 3,
      "outputs": []
    },
    {
      "cell_type": "code",
      "source": [
        "# Generate input and output sequences\n",
        "input_sequences = []\n",
        "output_sequences = []\n",
        "for sequence in sequences:\n",
        "    for i in range(1, len(sequence)):\n",
        "        input_seq = sequence[:i]\n",
        "        output_seq = sequence[i]\n",
        "        input_sequences.append(input_seq)\n",
        "        output_sequences.append(output_seq)\n"
      ],
      "metadata": {
        "id": "xS8tNPWCA88x"
      },
      "execution_count": 4,
      "outputs": []
    },
    {
      "cell_type": "code",
      "source": [
        "# Pad sequences to ensure uniform length\n",
        "max_sequence_length = max([len(seq) for seq in input_sequences])\n",
        "input_sequences = pad_sequences(input_sequences, maxlen=max_sequence_length)"
      ],
      "metadata": {
        "id": "J6RjyCWcA8_O"
      },
      "execution_count": 5,
      "outputs": []
    },
    {
      "cell_type": "code",
      "source": [
        "# Reshape input sequences to 3-dimensional\n",
        "input_sequences = np.reshape(input_sequences, (len(input_sequences), max_sequence_length, 1))"
      ],
      "metadata": {
        "id": "gFtqsuZfA9By"
      },
      "execution_count": 6,
      "outputs": []
    },
    {
      "cell_type": "code",
      "source": [
        "# Convert output sequences to one-hot encoding\n",
        "output_sequences = np.array(output_sequences)\n",
        "output_sequences = np.eye(vocab_size)[output_sequences]"
      ],
      "metadata": {
        "id": "Wp2FhrgPA9JG"
      },
      "execution_count": 7,
      "outputs": []
    },
    {
      "cell_type": "code",
      "source": [
        "# Build the RNN model\n",
        "model = Sequential()\n",
        "model.add(LSTM(units=128, input_shape=(max_sequence_length, 1)))\n",
        "model.add(Dense(units=vocab_size, activation='softmax'))"
      ],
      "metadata": {
        "id": "FHk9iWh2A9N0"
      },
      "execution_count": 8,
      "outputs": []
    },
    {
      "cell_type": "code",
      "source": [
        "# Compile the model\n",
        "model.compile(optimizer='adam', loss='categorical_crossentropy')\n"
      ],
      "metadata": {
        "id": "KhngjXfyA9Qx"
      },
      "execution_count": 9,
      "outputs": []
    },
    {
      "cell_type": "code",
      "source": [
        "# Train the model\n",
        "model.fit(input_sequences, output_sequences, epochs=50)\n"
      ],
      "metadata": {
        "colab": {
          "base_uri": "https://localhost:8080/"
        },
        "id": "KHwwBGSgA9TZ",
        "outputId": "4a337381-f45a-41d8-b2ae-8fd4c6bf9a57"
      },
      "execution_count": 10,
      "outputs": [
        {
          "output_type": "stream",
          "name": "stdout",
          "text": [
            "Epoch 1/50\n",
            "1/1 [==============================] - 3s 3s/step - loss: 2.7944\n",
            "Epoch 2/50\n",
            "1/1 [==============================] - 0s 41ms/step - loss: 2.7452\n",
            "Epoch 3/50\n",
            "1/1 [==============================] - 0s 34ms/step - loss: 2.7014\n",
            "Epoch 4/50\n",
            "1/1 [==============================] - 0s 34ms/step - loss: 2.6622\n",
            "Epoch 5/50\n",
            "1/1 [==============================] - 0s 35ms/step - loss: 2.6270\n",
            "Epoch 6/50\n",
            "1/1 [==============================] - 0s 35ms/step - loss: 2.5951\n",
            "Epoch 7/50\n",
            "1/1 [==============================] - 0s 43ms/step - loss: 2.5658\n",
            "Epoch 8/50\n",
            "1/1 [==============================] - 0s 36ms/step - loss: 2.5387\n",
            "Epoch 9/50\n",
            "1/1 [==============================] - 0s 33ms/step - loss: 2.5131\n",
            "Epoch 10/50\n",
            "1/1 [==============================] - 0s 36ms/step - loss: 2.4885\n",
            "Epoch 11/50\n",
            "1/1 [==============================] - 0s 34ms/step - loss: 2.4646\n",
            "Epoch 12/50\n",
            "1/1 [==============================] - 0s 30ms/step - loss: 2.4408\n",
            "Epoch 13/50\n",
            "1/1 [==============================] - 0s 35ms/step - loss: 2.4169\n",
            "Epoch 14/50\n",
            "1/1 [==============================] - 0s 37ms/step - loss: 2.3925\n",
            "Epoch 15/50\n",
            "1/1 [==============================] - 0s 34ms/step - loss: 2.3674\n",
            "Epoch 16/50\n",
            "1/1 [==============================] - 0s 33ms/step - loss: 2.3413\n",
            "Epoch 17/50\n",
            "1/1 [==============================] - 0s 33ms/step - loss: 2.3137\n",
            "Epoch 18/50\n",
            "1/1 [==============================] - 0s 31ms/step - loss: 2.2841\n",
            "Epoch 19/50\n",
            "1/1 [==============================] - 0s 33ms/step - loss: 2.2522\n",
            "Epoch 20/50\n",
            "1/1 [==============================] - 0s 35ms/step - loss: 2.2177\n",
            "Epoch 21/50\n",
            "1/1 [==============================] - 0s 39ms/step - loss: 2.1804\n",
            "Epoch 22/50\n",
            "1/1 [==============================] - 0s 33ms/step - loss: 2.1404\n",
            "Epoch 23/50\n",
            "1/1 [==============================] - 0s 31ms/step - loss: 2.0980\n",
            "Epoch 24/50\n",
            "1/1 [==============================] - 0s 32ms/step - loss: 2.0537\n",
            "Epoch 25/50\n",
            "1/1 [==============================] - 0s 32ms/step - loss: 2.0073\n",
            "Epoch 26/50\n",
            "1/1 [==============================] - 0s 31ms/step - loss: 1.9586\n",
            "Epoch 27/50\n",
            "1/1 [==============================] - 0s 32ms/step - loss: 1.9075\n",
            "Epoch 28/50\n",
            "1/1 [==============================] - 0s 34ms/step - loss: 1.8553\n",
            "Epoch 29/50\n",
            "1/1 [==============================] - 0s 35ms/step - loss: 1.8033\n",
            "Epoch 30/50\n",
            "1/1 [==============================] - 0s 43ms/step - loss: 1.7523\n",
            "Epoch 31/50\n",
            "1/1 [==============================] - 0s 38ms/step - loss: 1.7027\n",
            "Epoch 32/50\n",
            "1/1 [==============================] - 0s 43ms/step - loss: 1.6543\n",
            "Epoch 33/50\n",
            "1/1 [==============================] - 0s 39ms/step - loss: 1.6065\n",
            "Epoch 34/50\n",
            "1/1 [==============================] - 0s 36ms/step - loss: 1.5586\n",
            "Epoch 35/50\n",
            "1/1 [==============================] - 0s 46ms/step - loss: 1.5109\n",
            "Epoch 36/50\n",
            "1/1 [==============================] - 0s 45ms/step - loss: 1.4629\n",
            "Epoch 37/50\n",
            "1/1 [==============================] - 0s 37ms/step - loss: 1.4158\n",
            "Epoch 38/50\n",
            "1/1 [==============================] - 0s 35ms/step - loss: 1.3704\n",
            "Epoch 39/50\n",
            "1/1 [==============================] - 0s 38ms/step - loss: 1.3264\n",
            "Epoch 40/50\n",
            "1/1 [==============================] - 0s 42ms/step - loss: 1.2826\n",
            "Epoch 41/50\n",
            "1/1 [==============================] - 0s 40ms/step - loss: 1.2386\n",
            "Epoch 42/50\n",
            "1/1 [==============================] - 0s 42ms/step - loss: 1.1956\n",
            "Epoch 43/50\n",
            "1/1 [==============================] - 0s 46ms/step - loss: 1.1540\n",
            "Epoch 44/50\n",
            "1/1 [==============================] - 0s 39ms/step - loss: 1.1135\n",
            "Epoch 45/50\n",
            "1/1 [==============================] - 0s 40ms/step - loss: 1.0751\n",
            "Epoch 46/50\n",
            "1/1 [==============================] - 0s 39ms/step - loss: 1.0382\n",
            "Epoch 47/50\n",
            "1/1 [==============================] - 0s 45ms/step - loss: 1.0017\n",
            "Epoch 48/50\n",
            "1/1 [==============================] - 0s 43ms/step - loss: 0.9648\n",
            "Epoch 49/50\n",
            "1/1 [==============================] - 0s 37ms/step - loss: 0.9278\n",
            "Epoch 50/50\n",
            "1/1 [==============================] - 0s 37ms/step - loss: 0.8926\n"
          ]
        },
        {
          "output_type": "execute_result",
          "data": {
            "text/plain": [
              "<keras.callbacks.History at 0x7f5fca0c75e0>"
            ]
          },
          "metadata": {},
          "execution_count": 10
        }
      ]
    },
    {
      "cell_type": "code",
      "source": [
        "# Generate new text\n",
        "seed_text = \"Hello,\"\n",
        "num_words = 10\n",
        "for _ in range(num_words):\n",
        "    encoded = tokenizer.texts_to_sequences([seed_text])[0]\n",
        "    encoded = pad_sequences([encoded], maxlen=max_sequence_length)\n",
        "    encoded = np.reshape(encoded, (1, max_sequence_length, 1))\n",
        "    predicted_probs = model.predict(encoded)\n",
        "    predicted_index = np.argmax(predicted_probs)\n",
        "    output_word = \"\"\n",
        "    for word, index in tokenizer.word_index.items():\n",
        "        if index == predicted_index:\n",
        "            output_word = word\n",
        "            break\n",
        "    seed_text += \" \" + output_word\n",
        "\n",
        "print(\"Generated Text:\", seed_text)\n"
      ],
      "metadata": {
        "colab": {
          "base_uri": "https://localhost:8080/"
        },
        "id": "_PhNkuXSA9WH",
        "outputId": "239b09eb-b45d-47ff-ec9f-989b7f94fe95"
      },
      "execution_count": 12,
      "outputs": [
        {
          "output_type": "stream",
          "name": "stdout",
          "text": [
            "1/1 [==============================] - 0s 442ms/step\n",
            "1/1 [==============================] - 0s 24ms/step\n",
            "1/1 [==============================] - 0s 23ms/step\n",
            "1/1 [==============================] - 0s 25ms/step\n",
            "1/1 [==============================] - 0s 25ms/step\n",
            "1/1 [==============================] - 0s 24ms/step\n",
            "1/1 [==============================] - 0s 25ms/step\n",
            "1/1 [==============================] - 0s 23ms/step\n",
            "1/1 [==============================] - 0s 25ms/step\n",
            "1/1 [==============================] - 0s 24ms/step\n",
            "Generated Text: Hello, how how i'm doing great thank you what are are\n"
          ]
        }
      ]
    },
    {
      "cell_type": "code",
      "source": [
        "#Intern at Pranathi\n",
        "#Student of DataTrained - Saurav\n",
        "#Date -> 23-05-2023\n",
        "#Time -> 15:25"
      ],
      "metadata": {
        "id": "eg36oAd3A9eH"
      },
      "execution_count": 13,
      "outputs": []
    }
  ]
}