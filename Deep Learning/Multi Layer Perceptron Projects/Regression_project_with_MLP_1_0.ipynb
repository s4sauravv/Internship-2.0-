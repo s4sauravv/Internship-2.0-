{
  "nbformat": 4,
  "nbformat_minor": 0,
  "metadata": {
    "colab": {
      "provenance": []
    },
    "kernelspec": {
      "name": "python3",
      "display_name": "Python 3"
    },
    "language_info": {
      "name": "python"
    }
  },
  "cells": [
    {
      "cell_type": "code",
      "source": [
        "import pandas as pd\n",
        "import numpy as np"
      ],
      "metadata": {
        "id": "7tXaRhjpeBWc"
      },
      "execution_count": 52,
      "outputs": []
    },
    {
      "cell_type": "code",
      "source": [
        "import pandas as pd\n",
        "from scipy.stats import zscore\n",
        "from sklearn.model_selection import train_test_split\n",
        "import matplotlib.pyplot as plt"
      ],
      "metadata": {
        "id": "wQkMGCCNfky3"
      },
      "execution_count": 53,
      "outputs": []
    },
    {
      "cell_type": "code",
      "source": [
        "# Read the data set\n",
        "data = pd.read_csv(\n",
        "    \"https://data.heatonresearch.com/data/t81-558/jh-simple-dataset.csv\",\n",
        "    na_values=['NA','?'])"
      ],
      "metadata": {
        "id": "qM5mfMwmeBbE"
      },
      "execution_count": 54,
      "outputs": []
    },
    {
      "cell_type": "code",
      "source": [
        "data.head()"
      ],
      "metadata": {
        "colab": {
          "base_uri": "https://localhost:8080/",
          "height": 206
        },
        "id": "rzqx-ohheKLT",
        "outputId": "23e42ded-6956-4162-be7b-56cf57ccaac6"
      },
      "execution_count": 55,
      "outputs": [
        {
          "output_type": "execute_result",
          "data": {
            "text/plain": [
              "   id job area   income     aspect  subscriptions  dist_healthy  save_rate  \\\n",
              "0   1  vv    c  50876.0  13.100000              1      9.017895         35   \n",
              "1   2  kd    c  60369.0  18.625000              2      7.766643         59   \n",
              "2   3  pe    c  55126.0  34.766667              1      3.632069          6   \n",
              "3   4  11    c  51690.0  15.808333              1      5.372942         16   \n",
              "4   5  kl    d  28347.0  40.941667              3      3.822477         20   \n",
              "\n",
              "   dist_unhealthy  age  pop_dense  retail_dense     crime product  \n",
              "0       11.738935   49   0.885827      0.492126  0.071100       b  \n",
              "1        6.805396   51   0.874016      0.342520  0.400809       c  \n",
              "2       13.671772   44   0.944882      0.724409  0.207723       b  \n",
              "3        4.333286   50   0.889764      0.444882  0.361216       b  \n",
              "4        5.967121   38   0.744094      0.661417  0.068033       a  "
            ],
            "text/html": [
              "\n",
              "  <div id=\"df-8ed62f0f-46b5-450f-8a38-b168220f8749\">\n",
              "    <div class=\"colab-df-container\">\n",
              "      <div>\n",
              "<style scoped>\n",
              "    .dataframe tbody tr th:only-of-type {\n",
              "        vertical-align: middle;\n",
              "    }\n",
              "\n",
              "    .dataframe tbody tr th {\n",
              "        vertical-align: top;\n",
              "    }\n",
              "\n",
              "    .dataframe thead th {\n",
              "        text-align: right;\n",
              "    }\n",
              "</style>\n",
              "<table border=\"1\" class=\"dataframe\">\n",
              "  <thead>\n",
              "    <tr style=\"text-align: right;\">\n",
              "      <th></th>\n",
              "      <th>id</th>\n",
              "      <th>job</th>\n",
              "      <th>area</th>\n",
              "      <th>income</th>\n",
              "      <th>aspect</th>\n",
              "      <th>subscriptions</th>\n",
              "      <th>dist_healthy</th>\n",
              "      <th>save_rate</th>\n",
              "      <th>dist_unhealthy</th>\n",
              "      <th>age</th>\n",
              "      <th>pop_dense</th>\n",
              "      <th>retail_dense</th>\n",
              "      <th>crime</th>\n",
              "      <th>product</th>\n",
              "    </tr>\n",
              "  </thead>\n",
              "  <tbody>\n",
              "    <tr>\n",
              "      <th>0</th>\n",
              "      <td>1</td>\n",
              "      <td>vv</td>\n",
              "      <td>c</td>\n",
              "      <td>50876.0</td>\n",
              "      <td>13.100000</td>\n",
              "      <td>1</td>\n",
              "      <td>9.017895</td>\n",
              "      <td>35</td>\n",
              "      <td>11.738935</td>\n",
              "      <td>49</td>\n",
              "      <td>0.885827</td>\n",
              "      <td>0.492126</td>\n",
              "      <td>0.071100</td>\n",
              "      <td>b</td>\n",
              "    </tr>\n",
              "    <tr>\n",
              "      <th>1</th>\n",
              "      <td>2</td>\n",
              "      <td>kd</td>\n",
              "      <td>c</td>\n",
              "      <td>60369.0</td>\n",
              "      <td>18.625000</td>\n",
              "      <td>2</td>\n",
              "      <td>7.766643</td>\n",
              "      <td>59</td>\n",
              "      <td>6.805396</td>\n",
              "      <td>51</td>\n",
              "      <td>0.874016</td>\n",
              "      <td>0.342520</td>\n",
              "      <td>0.400809</td>\n",
              "      <td>c</td>\n",
              "    </tr>\n",
              "    <tr>\n",
              "      <th>2</th>\n",
              "      <td>3</td>\n",
              "      <td>pe</td>\n",
              "      <td>c</td>\n",
              "      <td>55126.0</td>\n",
              "      <td>34.766667</td>\n",
              "      <td>1</td>\n",
              "      <td>3.632069</td>\n",
              "      <td>6</td>\n",
              "      <td>13.671772</td>\n",
              "      <td>44</td>\n",
              "      <td>0.944882</td>\n",
              "      <td>0.724409</td>\n",
              "      <td>0.207723</td>\n",
              "      <td>b</td>\n",
              "    </tr>\n",
              "    <tr>\n",
              "      <th>3</th>\n",
              "      <td>4</td>\n",
              "      <td>11</td>\n",
              "      <td>c</td>\n",
              "      <td>51690.0</td>\n",
              "      <td>15.808333</td>\n",
              "      <td>1</td>\n",
              "      <td>5.372942</td>\n",
              "      <td>16</td>\n",
              "      <td>4.333286</td>\n",
              "      <td>50</td>\n",
              "      <td>0.889764</td>\n",
              "      <td>0.444882</td>\n",
              "      <td>0.361216</td>\n",
              "      <td>b</td>\n",
              "    </tr>\n",
              "    <tr>\n",
              "      <th>4</th>\n",
              "      <td>5</td>\n",
              "      <td>kl</td>\n",
              "      <td>d</td>\n",
              "      <td>28347.0</td>\n",
              "      <td>40.941667</td>\n",
              "      <td>3</td>\n",
              "      <td>3.822477</td>\n",
              "      <td>20</td>\n",
              "      <td>5.967121</td>\n",
              "      <td>38</td>\n",
              "      <td>0.744094</td>\n",
              "      <td>0.661417</td>\n",
              "      <td>0.068033</td>\n",
              "      <td>a</td>\n",
              "    </tr>\n",
              "  </tbody>\n",
              "</table>\n",
              "</div>\n",
              "      <button class=\"colab-df-convert\" onclick=\"convertToInteractive('df-8ed62f0f-46b5-450f-8a38-b168220f8749')\"\n",
              "              title=\"Convert this dataframe to an interactive table.\"\n",
              "              style=\"display:none;\">\n",
              "        \n",
              "  <svg xmlns=\"http://www.w3.org/2000/svg\" height=\"24px\"viewBox=\"0 0 24 24\"\n",
              "       width=\"24px\">\n",
              "    <path d=\"M0 0h24v24H0V0z\" fill=\"none\"/>\n",
              "    <path d=\"M18.56 5.44l.94 2.06.94-2.06 2.06-.94-2.06-.94-.94-2.06-.94 2.06-2.06.94zm-11 1L8.5 8.5l.94-2.06 2.06-.94-2.06-.94L8.5 2.5l-.94 2.06-2.06.94zm10 10l.94 2.06.94-2.06 2.06-.94-2.06-.94-.94-2.06-.94 2.06-2.06.94z\"/><path d=\"M17.41 7.96l-1.37-1.37c-.4-.4-.92-.59-1.43-.59-.52 0-1.04.2-1.43.59L10.3 9.45l-7.72 7.72c-.78.78-.78 2.05 0 2.83L4 21.41c.39.39.9.59 1.41.59.51 0 1.02-.2 1.41-.59l7.78-7.78 2.81-2.81c.8-.78.8-2.07 0-2.86zM5.41 20L4 18.59l7.72-7.72 1.47 1.35L5.41 20z\"/>\n",
              "  </svg>\n",
              "      </button>\n",
              "      \n",
              "  <style>\n",
              "    .colab-df-container {\n",
              "      display:flex;\n",
              "      flex-wrap:wrap;\n",
              "      gap: 12px;\n",
              "    }\n",
              "\n",
              "    .colab-df-convert {\n",
              "      background-color: #E8F0FE;\n",
              "      border: none;\n",
              "      border-radius: 50%;\n",
              "      cursor: pointer;\n",
              "      display: none;\n",
              "      fill: #1967D2;\n",
              "      height: 32px;\n",
              "      padding: 0 0 0 0;\n",
              "      width: 32px;\n",
              "    }\n",
              "\n",
              "    .colab-df-convert:hover {\n",
              "      background-color: #E2EBFA;\n",
              "      box-shadow: 0px 1px 2px rgba(60, 64, 67, 0.3), 0px 1px 3px 1px rgba(60, 64, 67, 0.15);\n",
              "      fill: #174EA6;\n",
              "    }\n",
              "\n",
              "    [theme=dark] .colab-df-convert {\n",
              "      background-color: #3B4455;\n",
              "      fill: #D2E3FC;\n",
              "    }\n",
              "\n",
              "    [theme=dark] .colab-df-convert:hover {\n",
              "      background-color: #434B5C;\n",
              "      box-shadow: 0px 1px 3px 1px rgba(0, 0, 0, 0.15);\n",
              "      filter: drop-shadow(0px 1px 2px rgba(0, 0, 0, 0.3));\n",
              "      fill: #FFFFFF;\n",
              "    }\n",
              "  </style>\n",
              "\n",
              "      <script>\n",
              "        const buttonEl =\n",
              "          document.querySelector('#df-8ed62f0f-46b5-450f-8a38-b168220f8749 button.colab-df-convert');\n",
              "        buttonEl.style.display =\n",
              "          google.colab.kernel.accessAllowed ? 'block' : 'none';\n",
              "\n",
              "        async function convertToInteractive(key) {\n",
              "          const element = document.querySelector('#df-8ed62f0f-46b5-450f-8a38-b168220f8749');\n",
              "          const dataTable =\n",
              "            await google.colab.kernel.invokeFunction('convertToInteractive',\n",
              "                                                     [key], {});\n",
              "          if (!dataTable) return;\n",
              "\n",
              "          const docLinkHtml = 'Like what you see? Visit the ' +\n",
              "            '<a target=\"_blank\" href=https://colab.research.google.com/notebooks/data_table.ipynb>data table notebook</a>'\n",
              "            + ' to learn more about interactive tables.';\n",
              "          element.innerHTML = '';\n",
              "          dataTable['output_type'] = 'display_data';\n",
              "          await google.colab.output.renderOutput(dataTable, element);\n",
              "          const docLink = document.createElement('div');\n",
              "          docLink.innerHTML = docLinkHtml;\n",
              "          element.appendChild(docLink);\n",
              "        }\n",
              "      </script>\n",
              "    </div>\n",
              "  </div>\n",
              "  "
            ]
          },
          "metadata": {},
          "execution_count": 55
        }
      ]
    },
    {
      "cell_type": "code",
      "source": [
        "#Lets check the shape of the dataste\n",
        "data.shape"
      ],
      "metadata": {
        "colab": {
          "base_uri": "https://localhost:8080/"
        },
        "id": "K3ca-nejiEdy",
        "outputId": "5b433da4-85db-469b-be9a-c5e98f6b197c"
      },
      "execution_count": 56,
      "outputs": [
        {
          "output_type": "execute_result",
          "data": {
            "text/plain": [
              "(2000, 14)"
            ]
          },
          "metadata": {},
          "execution_count": 56
        }
      ]
    },
    {
      "cell_type": "code",
      "source": [
        "#Lets check for isnull\n",
        "data.isna().sum()"
      ],
      "metadata": {
        "colab": {
          "base_uri": "https://localhost:8080/"
        },
        "id": "otYS--eciJ4t",
        "outputId": "6af68c50-589e-4799-c52a-5b8901a37e1b"
      },
      "execution_count": 57,
      "outputs": [
        {
          "output_type": "execute_result",
          "data": {
            "text/plain": [
              "id                 0\n",
              "job                0\n",
              "area               0\n",
              "income            59\n",
              "aspect             0\n",
              "subscriptions      0\n",
              "dist_healthy       0\n",
              "save_rate          0\n",
              "dist_unhealthy     0\n",
              "age                0\n",
              "pop_dense          0\n",
              "retail_dense       0\n",
              "crime              0\n",
              "product            0\n",
              "dtype: int64"
            ]
          },
          "metadata": {},
          "execution_count": 57
        }
      ]
    },
    {
      "cell_type": "code",
      "source": [
        "# Generate dummies for job\n",
        "data = pd.concat([data,pd.get_dummies(df['job'],prefix=\"job\")],axis=1)\n",
        "data.drop('job', axis=1, inplace=True)\n"
      ],
      "metadata": {
        "id": "arOKx9vVeQS9"
      },
      "execution_count": 58,
      "outputs": []
    },
    {
      "cell_type": "code",
      "source": [
        "# Generate dummies for area\n",
        "data = pd.concat([data,pd.get_dummies(data['area'],prefix=\"area\")],axis=1)\n",
        "data.drop('area', axis=1, inplace=True)\n"
      ],
      "metadata": {
        "id": "5HwCIDRUeewz"
      },
      "execution_count": 59,
      "outputs": []
    },
    {
      "cell_type": "code",
      "source": [
        "data.head()"
      ],
      "metadata": {
        "colab": {
          "base_uri": "https://localhost:8080/",
          "height": 300
        },
        "id": "9Ytlsu3NenDF",
        "outputId": "96f9fa94-5648-4a89-9b1b-cfed40d90a0a"
      },
      "execution_count": 60,
      "outputs": [
        {
          "output_type": "execute_result",
          "data": {
            "text/plain": [
              "   id   income     aspect  subscriptions  dist_healthy  save_rate  \\\n",
              "0   1  50876.0  13.100000              1      9.017895         35   \n",
              "1   2  60369.0  18.625000              2      7.766643         59   \n",
              "2   3  55126.0  34.766667              1      3.632069          6   \n",
              "3   4  51690.0  15.808333              1      5.372942         16   \n",
              "4   5  28347.0  40.941667              3      3.822477         20   \n",
              "\n",
              "   dist_unhealthy  age  pop_dense  retail_dense  ...  job_qp job_qw  job_rn  \\\n",
              "0       11.738935   49   0.885827      0.492126  ...       0      0       0   \n",
              "1        6.805396   51   0.874016      0.342520  ...       0      0       0   \n",
              "2       13.671772   44   0.944882      0.724409  ...       0      0       0   \n",
              "3        4.333286   50   0.889764      0.444882  ...       0      0       0   \n",
              "4        5.967121   38   0.744094      0.661417  ...       0      0       0   \n",
              "\n",
              "   job_sa  job_vv  job_zz  area_a  area_b  area_c  area_d  \n",
              "0       0       1       0       0       0       1       0  \n",
              "1       0       0       0       0       0       1       0  \n",
              "2       0       0       0       0       0       1       0  \n",
              "3       0       0       0       0       0       1       0  \n",
              "4       0       0       0       0       0       0       1  \n",
              "\n",
              "[5 rows x 49 columns]"
            ],
            "text/html": [
              "\n",
              "  <div id=\"df-7c0f4b3c-697d-407f-972a-3dbde1da547e\">\n",
              "    <div class=\"colab-df-container\">\n",
              "      <div>\n",
              "<style scoped>\n",
              "    .dataframe tbody tr th:only-of-type {\n",
              "        vertical-align: middle;\n",
              "    }\n",
              "\n",
              "    .dataframe tbody tr th {\n",
              "        vertical-align: top;\n",
              "    }\n",
              "\n",
              "    .dataframe thead th {\n",
              "        text-align: right;\n",
              "    }\n",
              "</style>\n",
              "<table border=\"1\" class=\"dataframe\">\n",
              "  <thead>\n",
              "    <tr style=\"text-align: right;\">\n",
              "      <th></th>\n",
              "      <th>id</th>\n",
              "      <th>income</th>\n",
              "      <th>aspect</th>\n",
              "      <th>subscriptions</th>\n",
              "      <th>dist_healthy</th>\n",
              "      <th>save_rate</th>\n",
              "      <th>dist_unhealthy</th>\n",
              "      <th>age</th>\n",
              "      <th>pop_dense</th>\n",
              "      <th>retail_dense</th>\n",
              "      <th>...</th>\n",
              "      <th>job_qp</th>\n",
              "      <th>job_qw</th>\n",
              "      <th>job_rn</th>\n",
              "      <th>job_sa</th>\n",
              "      <th>job_vv</th>\n",
              "      <th>job_zz</th>\n",
              "      <th>area_a</th>\n",
              "      <th>area_b</th>\n",
              "      <th>area_c</th>\n",
              "      <th>area_d</th>\n",
              "    </tr>\n",
              "  </thead>\n",
              "  <tbody>\n",
              "    <tr>\n",
              "      <th>0</th>\n",
              "      <td>1</td>\n",
              "      <td>50876.0</td>\n",
              "      <td>13.100000</td>\n",
              "      <td>1</td>\n",
              "      <td>9.017895</td>\n",
              "      <td>35</td>\n",
              "      <td>11.738935</td>\n",
              "      <td>49</td>\n",
              "      <td>0.885827</td>\n",
              "      <td>0.492126</td>\n",
              "      <td>...</td>\n",
              "      <td>0</td>\n",
              "      <td>0</td>\n",
              "      <td>0</td>\n",
              "      <td>0</td>\n",
              "      <td>1</td>\n",
              "      <td>0</td>\n",
              "      <td>0</td>\n",
              "      <td>0</td>\n",
              "      <td>1</td>\n",
              "      <td>0</td>\n",
              "    </tr>\n",
              "    <tr>\n",
              "      <th>1</th>\n",
              "      <td>2</td>\n",
              "      <td>60369.0</td>\n",
              "      <td>18.625000</td>\n",
              "      <td>2</td>\n",
              "      <td>7.766643</td>\n",
              "      <td>59</td>\n",
              "      <td>6.805396</td>\n",
              "      <td>51</td>\n",
              "      <td>0.874016</td>\n",
              "      <td>0.342520</td>\n",
              "      <td>...</td>\n",
              "      <td>0</td>\n",
              "      <td>0</td>\n",
              "      <td>0</td>\n",
              "      <td>0</td>\n",
              "      <td>0</td>\n",
              "      <td>0</td>\n",
              "      <td>0</td>\n",
              "      <td>0</td>\n",
              "      <td>1</td>\n",
              "      <td>0</td>\n",
              "    </tr>\n",
              "    <tr>\n",
              "      <th>2</th>\n",
              "      <td>3</td>\n",
              "      <td>55126.0</td>\n",
              "      <td>34.766667</td>\n",
              "      <td>1</td>\n",
              "      <td>3.632069</td>\n",
              "      <td>6</td>\n",
              "      <td>13.671772</td>\n",
              "      <td>44</td>\n",
              "      <td>0.944882</td>\n",
              "      <td>0.724409</td>\n",
              "      <td>...</td>\n",
              "      <td>0</td>\n",
              "      <td>0</td>\n",
              "      <td>0</td>\n",
              "      <td>0</td>\n",
              "      <td>0</td>\n",
              "      <td>0</td>\n",
              "      <td>0</td>\n",
              "      <td>0</td>\n",
              "      <td>1</td>\n",
              "      <td>0</td>\n",
              "    </tr>\n",
              "    <tr>\n",
              "      <th>3</th>\n",
              "      <td>4</td>\n",
              "      <td>51690.0</td>\n",
              "      <td>15.808333</td>\n",
              "      <td>1</td>\n",
              "      <td>5.372942</td>\n",
              "      <td>16</td>\n",
              "      <td>4.333286</td>\n",
              "      <td>50</td>\n",
              "      <td>0.889764</td>\n",
              "      <td>0.444882</td>\n",
              "      <td>...</td>\n",
              "      <td>0</td>\n",
              "      <td>0</td>\n",
              "      <td>0</td>\n",
              "      <td>0</td>\n",
              "      <td>0</td>\n",
              "      <td>0</td>\n",
              "      <td>0</td>\n",
              "      <td>0</td>\n",
              "      <td>1</td>\n",
              "      <td>0</td>\n",
              "    </tr>\n",
              "    <tr>\n",
              "      <th>4</th>\n",
              "      <td>5</td>\n",
              "      <td>28347.0</td>\n",
              "      <td>40.941667</td>\n",
              "      <td>3</td>\n",
              "      <td>3.822477</td>\n",
              "      <td>20</td>\n",
              "      <td>5.967121</td>\n",
              "      <td>38</td>\n",
              "      <td>0.744094</td>\n",
              "      <td>0.661417</td>\n",
              "      <td>...</td>\n",
              "      <td>0</td>\n",
              "      <td>0</td>\n",
              "      <td>0</td>\n",
              "      <td>0</td>\n",
              "      <td>0</td>\n",
              "      <td>0</td>\n",
              "      <td>0</td>\n",
              "      <td>0</td>\n",
              "      <td>0</td>\n",
              "      <td>1</td>\n",
              "    </tr>\n",
              "  </tbody>\n",
              "</table>\n",
              "<p>5 rows × 49 columns</p>\n",
              "</div>\n",
              "      <button class=\"colab-df-convert\" onclick=\"convertToInteractive('df-7c0f4b3c-697d-407f-972a-3dbde1da547e')\"\n",
              "              title=\"Convert this dataframe to an interactive table.\"\n",
              "              style=\"display:none;\">\n",
              "        \n",
              "  <svg xmlns=\"http://www.w3.org/2000/svg\" height=\"24px\"viewBox=\"0 0 24 24\"\n",
              "       width=\"24px\">\n",
              "    <path d=\"M0 0h24v24H0V0z\" fill=\"none\"/>\n",
              "    <path d=\"M18.56 5.44l.94 2.06.94-2.06 2.06-.94-2.06-.94-.94-2.06-.94 2.06-2.06.94zm-11 1L8.5 8.5l.94-2.06 2.06-.94-2.06-.94L8.5 2.5l-.94 2.06-2.06.94zm10 10l.94 2.06.94-2.06 2.06-.94-2.06-.94-.94-2.06-.94 2.06-2.06.94z\"/><path d=\"M17.41 7.96l-1.37-1.37c-.4-.4-.92-.59-1.43-.59-.52 0-1.04.2-1.43.59L10.3 9.45l-7.72 7.72c-.78.78-.78 2.05 0 2.83L4 21.41c.39.39.9.59 1.41.59.51 0 1.02-.2 1.41-.59l7.78-7.78 2.81-2.81c.8-.78.8-2.07 0-2.86zM5.41 20L4 18.59l7.72-7.72 1.47 1.35L5.41 20z\"/>\n",
              "  </svg>\n",
              "      </button>\n",
              "      \n",
              "  <style>\n",
              "    .colab-df-container {\n",
              "      display:flex;\n",
              "      flex-wrap:wrap;\n",
              "      gap: 12px;\n",
              "    }\n",
              "\n",
              "    .colab-df-convert {\n",
              "      background-color: #E8F0FE;\n",
              "      border: none;\n",
              "      border-radius: 50%;\n",
              "      cursor: pointer;\n",
              "      display: none;\n",
              "      fill: #1967D2;\n",
              "      height: 32px;\n",
              "      padding: 0 0 0 0;\n",
              "      width: 32px;\n",
              "    }\n",
              "\n",
              "    .colab-df-convert:hover {\n",
              "      background-color: #E2EBFA;\n",
              "      box-shadow: 0px 1px 2px rgba(60, 64, 67, 0.3), 0px 1px 3px 1px rgba(60, 64, 67, 0.15);\n",
              "      fill: #174EA6;\n",
              "    }\n",
              "\n",
              "    [theme=dark] .colab-df-convert {\n",
              "      background-color: #3B4455;\n",
              "      fill: #D2E3FC;\n",
              "    }\n",
              "\n",
              "    [theme=dark] .colab-df-convert:hover {\n",
              "      background-color: #434B5C;\n",
              "      box-shadow: 0px 1px 3px 1px rgba(0, 0, 0, 0.15);\n",
              "      filter: drop-shadow(0px 1px 2px rgba(0, 0, 0, 0.3));\n",
              "      fill: #FFFFFF;\n",
              "    }\n",
              "  </style>\n",
              "\n",
              "      <script>\n",
              "        const buttonEl =\n",
              "          document.querySelector('#df-7c0f4b3c-697d-407f-972a-3dbde1da547e button.colab-df-convert');\n",
              "        buttonEl.style.display =\n",
              "          google.colab.kernel.accessAllowed ? 'block' : 'none';\n",
              "\n",
              "        async function convertToInteractive(key) {\n",
              "          const element = document.querySelector('#df-7c0f4b3c-697d-407f-972a-3dbde1da547e');\n",
              "          const dataTable =\n",
              "            await google.colab.kernel.invokeFunction('convertToInteractive',\n",
              "                                                     [key], {});\n",
              "          if (!dataTable) return;\n",
              "\n",
              "          const docLinkHtml = 'Like what you see? Visit the ' +\n",
              "            '<a target=\"_blank\" href=https://colab.research.google.com/notebooks/data_table.ipynb>data table notebook</a>'\n",
              "            + ' to learn more about interactive tables.';\n",
              "          element.innerHTML = '';\n",
              "          dataTable['output_type'] = 'display_data';\n",
              "          await google.colab.output.renderOutput(dataTable, element);\n",
              "          const docLink = document.createElement('div');\n",
              "          docLink.innerHTML = docLinkHtml;\n",
              "          element.appendChild(docLink);\n",
              "        }\n",
              "      </script>\n",
              "    </div>\n",
              "  </div>\n",
              "  "
            ]
          },
          "metadata": {},
          "execution_count": 60
        }
      ]
    },
    {
      "cell_type": "code",
      "source": [
        "# Generate dummies for product\n",
        "data = pd.concat([data,pd.get_dummies(data['product'],prefix=\"product\")],axis=1)\n",
        "data.drop('product', axis=1, inplace=True)"
      ],
      "metadata": {
        "id": "TSdLvdDee84c"
      },
      "execution_count": 61,
      "outputs": []
    },
    {
      "cell_type": "code",
      "source": [
        "# Missing values for income\n",
        "med = data['income'].median()\n",
        "data['income'] = data['income'].fillna(med)\n"
      ],
      "metadata": {
        "id": "uWRhI3ZIfOOl"
      },
      "execution_count": 62,
      "outputs": []
    },
    {
      "cell_type": "code",
      "source": [
        "# Standardize ranges\n",
        "data['income'] = zscore(data['income'])\n",
        "data['aspect'] = zscore(data['aspect'])\n",
        "data['save_rate'] = zscore(data['save_rate'])\n",
        "data['subscriptions'] = zscore(data['subscriptions'])"
      ],
      "metadata": {
        "id": "zMFxvHbmfcOs"
      },
      "execution_count": 66,
      "outputs": []
    },
    {
      "cell_type": "code",
      "source": [
        "# Convert to numpy - Classification\n",
        "x_columns = data.columns.drop('age').drop('id')\n"
      ],
      "metadata": {
        "id": "MasPARmtfguE"
      },
      "execution_count": 67,
      "outputs": []
    },
    {
      "cell_type": "code",
      "source": [
        "x = data[x_columns].values\n",
        "y = data['age'].values\n"
      ],
      "metadata": {
        "id": "_4MuGWbwgAM-"
      },
      "execution_count": 68,
      "outputs": []
    },
    {
      "cell_type": "code",
      "source": [
        "# Create train/test\n",
        "x_train, x_test, y_train, y_test = train_test_split(    \n",
        "    x, y, test_size=0.25, random_state=42)"
      ],
      "metadata": {
        "id": "FDyMmERqf9mu"
      },
      "execution_count": 69,
      "outputs": []
    },
    {
      "cell_type": "markdown",
      "source": [
        "Next, we create a neural network to fit the data we just loaded."
      ],
      "metadata": {
        "id": "aNQ68cEmgPBO"
      }
    },
    {
      "cell_type": "code",
      "source": [
        "from tensorflow.keras.models import Sequential\n",
        "from tensorflow.keras.layers import Dense, Activation\n",
        "from tensorflow.keras.callbacks import EarlyStopping\n",
        "\n",
        "# Build the neural network\n",
        "model = Sequential()\n",
        "model.add(Dense(25, input_dim=x.shape[1], activation='relu')) # Hidden 1\n",
        "model.add(Dense(10, activation='relu')) # Hidden 2\n",
        "model.add(Dense(1)) # Output\n",
        "model.compile(loss='mean_squared_error', optimizer='adam')\n",
        "monitor = EarlyStopping(monitor='val_loss', min_delta=1e-3, \n",
        "                        patience=5, verbose=1, mode='auto', \n",
        "                        restore_best_weights=True)\n"
      ],
      "metadata": {
        "id": "QwcsEStVgKhE"
      },
      "execution_count": 70,
      "outputs": []
    },
    {
      "cell_type": "code",
      "source": [
        "model.fit(x_train,y_train,validation_data=(x_test,y_test),\n",
        "          callbacks=[monitor],verbose=2,epochs=100)"
      ],
      "metadata": {
        "colab": {
          "base_uri": "https://localhost:8080/"
        },
        "id": "2hBd5veegcJF",
        "outputId": "2cbe4011-58cb-4c74-e56b-7caf69bc19b6"
      },
      "execution_count": 71,
      "outputs": [
        {
          "output_type": "stream",
          "name": "stdout",
          "text": [
            "Epoch 1/100\n",
            "47/47 - 1s - loss: 2006.0483 - val_loss: 1709.3187 - 1s/epoch - 26ms/step\n",
            "Epoch 2/100\n",
            "47/47 - 0s - loss: 1352.8806 - val_loss: 891.8115 - 123ms/epoch - 3ms/step\n",
            "Epoch 3/100\n",
            "47/47 - 0s - loss: 535.6667 - val_loss: 283.9444 - 179ms/epoch - 4ms/step\n",
            "Epoch 4/100\n",
            "47/47 - 0s - loss: 264.9841 - val_loss: 231.3433 - 168ms/epoch - 4ms/step\n",
            "Epoch 5/100\n",
            "47/47 - 0s - loss: 209.2895 - val_loss: 181.0500 - 129ms/epoch - 3ms/step\n",
            "Epoch 6/100\n",
            "47/47 - 0s - loss: 159.0199 - val_loss: 138.3301 - 134ms/epoch - 3ms/step\n",
            "Epoch 7/100\n",
            "47/47 - 0s - loss: 120.4654 - val_loss: 106.8155 - 120ms/epoch - 3ms/step\n",
            "Epoch 8/100\n",
            "47/47 - 0s - loss: 92.5583 - val_loss: 84.1011 - 206ms/epoch - 4ms/step\n",
            "Epoch 9/100\n",
            "47/47 - 0s - loss: 72.4590 - val_loss: 68.4774 - 240ms/epoch - 5ms/step\n",
            "Epoch 10/100\n",
            "47/47 - 0s - loss: 58.6904 - val_loss: 56.5671 - 183ms/epoch - 4ms/step\n",
            "Epoch 11/100\n",
            "47/47 - 0s - loss: 48.2168 - val_loss: 47.2123 - 241ms/epoch - 5ms/step\n",
            "Epoch 12/100\n",
            "47/47 - 0s - loss: 40.1327 - val_loss: 39.9965 - 223ms/epoch - 5ms/step\n",
            "Epoch 13/100\n",
            "47/47 - 0s - loss: 33.5306 - val_loss: 34.1280 - 211ms/epoch - 4ms/step\n",
            "Epoch 14/100\n",
            "47/47 - 0s - loss: 28.2404 - val_loss: 29.6931 - 213ms/epoch - 5ms/step\n",
            "Epoch 15/100\n",
            "47/47 - 0s - loss: 24.2585 - val_loss: 25.6128 - 213ms/epoch - 5ms/step\n",
            "Epoch 16/100\n",
            "47/47 - 0s - loss: 20.9516 - val_loss: 22.2119 - 174ms/epoch - 4ms/step\n",
            "Epoch 17/100\n",
            "47/47 - 0s - loss: 18.3772 - val_loss: 19.7901 - 187ms/epoch - 4ms/step\n",
            "Epoch 18/100\n",
            "47/47 - 0s - loss: 16.3527 - val_loss: 17.8037 - 219ms/epoch - 5ms/step\n",
            "Epoch 19/100\n",
            "47/47 - 0s - loss: 15.0221 - val_loss: 16.2440 - 197ms/epoch - 4ms/step\n",
            "Epoch 20/100\n",
            "47/47 - 0s - loss: 13.7609 - val_loss: 15.0676 - 201ms/epoch - 4ms/step\n",
            "Epoch 21/100\n",
            "47/47 - 0s - loss: 13.0050 - val_loss: 14.1657 - 172ms/epoch - 4ms/step\n",
            "Epoch 22/100\n",
            "47/47 - 0s - loss: 12.2828 - val_loss: 13.3658 - 161ms/epoch - 3ms/step\n",
            "Epoch 23/100\n",
            "47/47 - 0s - loss: 11.7114 - val_loss: 12.9363 - 127ms/epoch - 3ms/step\n",
            "Epoch 24/100\n",
            "47/47 - 0s - loss: 11.1912 - val_loss: 12.3451 - 123ms/epoch - 3ms/step\n",
            "Epoch 25/100\n",
            "47/47 - 0s - loss: 10.8335 - val_loss: 11.7437 - 124ms/epoch - 3ms/step\n",
            "Epoch 26/100\n",
            "47/47 - 0s - loss: 10.4150 - val_loss: 11.4416 - 123ms/epoch - 3ms/step\n",
            "Epoch 27/100\n",
            "47/47 - 0s - loss: 9.9373 - val_loss: 11.1180 - 127ms/epoch - 3ms/step\n",
            "Epoch 28/100\n",
            "47/47 - 0s - loss: 9.7597 - val_loss: 10.6654 - 177ms/epoch - 4ms/step\n",
            "Epoch 29/100\n",
            "47/47 - 0s - loss: 9.3390 - val_loss: 9.9969 - 165ms/epoch - 4ms/step\n",
            "Epoch 30/100\n",
            "47/47 - 0s - loss: 8.9513 - val_loss: 9.5508 - 128ms/epoch - 3ms/step\n",
            "Epoch 31/100\n",
            "47/47 - 0s - loss: 8.6318 - val_loss: 9.1942 - 124ms/epoch - 3ms/step\n",
            "Epoch 32/100\n",
            "47/47 - 0s - loss: 8.3093 - val_loss: 8.9511 - 127ms/epoch - 3ms/step\n",
            "Epoch 33/100\n",
            "47/47 - 0s - loss: 8.0109 - val_loss: 8.5743 - 167ms/epoch - 4ms/step\n",
            "Epoch 34/100\n",
            "47/47 - 0s - loss: 7.6839 - val_loss: 8.2663 - 135ms/epoch - 3ms/step\n",
            "Epoch 35/100\n",
            "47/47 - 0s - loss: 7.4917 - val_loss: 7.8899 - 134ms/epoch - 3ms/step\n",
            "Epoch 36/100\n",
            "47/47 - 0s - loss: 7.1290 - val_loss: 7.5616 - 130ms/epoch - 3ms/step\n",
            "Epoch 37/100\n",
            "47/47 - 0s - loss: 6.7971 - val_loss: 7.2076 - 162ms/epoch - 3ms/step\n",
            "Epoch 38/100\n",
            "47/47 - 0s - loss: 6.6553 - val_loss: 6.8912 - 122ms/epoch - 3ms/step\n",
            "Epoch 39/100\n",
            "47/47 - 0s - loss: 6.1904 - val_loss: 6.6526 - 167ms/epoch - 4ms/step\n",
            "Epoch 40/100\n",
            "47/47 - 0s - loss: 5.9772 - val_loss: 6.3611 - 124ms/epoch - 3ms/step\n",
            "Epoch 41/100\n",
            "47/47 - 0s - loss: 5.6823 - val_loss: 6.2247 - 167ms/epoch - 4ms/step\n",
            "Epoch 42/100\n",
            "47/47 - 0s - loss: 5.4004 - val_loss: 5.8334 - 132ms/epoch - 3ms/step\n",
            "Epoch 43/100\n",
            "47/47 - 0s - loss: 5.1960 - val_loss: 5.6031 - 122ms/epoch - 3ms/step\n",
            "Epoch 44/100\n",
            "47/47 - 0s - loss: 4.8864 - val_loss: 5.3350 - 129ms/epoch - 3ms/step\n",
            "Epoch 45/100\n",
            "47/47 - 0s - loss: 4.6564 - val_loss: 5.2985 - 183ms/epoch - 4ms/step\n",
            "Epoch 46/100\n",
            "47/47 - 0s - loss: 4.4710 - val_loss: 4.8517 - 166ms/epoch - 4ms/step\n",
            "Epoch 47/100\n",
            "47/47 - 0s - loss: 4.2731 - val_loss: 4.5970 - 129ms/epoch - 3ms/step\n",
            "Epoch 48/100\n",
            "47/47 - 0s - loss: 3.9563 - val_loss: 4.3531 - 169ms/epoch - 4ms/step\n",
            "Epoch 49/100\n",
            "47/47 - 0s - loss: 3.7520 - val_loss: 4.1954 - 138ms/epoch - 3ms/step\n",
            "Epoch 50/100\n",
            "47/47 - 0s - loss: 3.5824 - val_loss: 3.8942 - 164ms/epoch - 3ms/step\n",
            "Epoch 51/100\n",
            "47/47 - 0s - loss: 3.3710 - val_loss: 3.7261 - 129ms/epoch - 3ms/step\n",
            "Epoch 52/100\n",
            "47/47 - 0s - loss: 3.0904 - val_loss: 3.4573 - 171ms/epoch - 4ms/step\n",
            "Epoch 53/100\n",
            "47/47 - 0s - loss: 2.9210 - val_loss: 3.2753 - 122ms/epoch - 3ms/step\n",
            "Epoch 54/100\n",
            "47/47 - 0s - loss: 2.7260 - val_loss: 3.0615 - 125ms/epoch - 3ms/step\n",
            "Epoch 55/100\n",
            "47/47 - 0s - loss: 2.6257 - val_loss: 2.9064 - 126ms/epoch - 3ms/step\n",
            "Epoch 56/100\n",
            "47/47 - 0s - loss: 2.3884 - val_loss: 2.7253 - 125ms/epoch - 3ms/step\n",
            "Epoch 57/100\n",
            "47/47 - 0s - loss: 2.2624 - val_loss: 2.5531 - 122ms/epoch - 3ms/step\n",
            "Epoch 58/100\n",
            "47/47 - 0s - loss: 2.0782 - val_loss: 2.4666 - 126ms/epoch - 3ms/step\n",
            "Epoch 59/100\n",
            "47/47 - 0s - loss: 1.9460 - val_loss: 2.2776 - 166ms/epoch - 4ms/step\n",
            "Epoch 60/100\n",
            "47/47 - 0s - loss: 1.8261 - val_loss: 2.1653 - 126ms/epoch - 3ms/step\n",
            "Epoch 61/100\n",
            "47/47 - 0s - loss: 1.7601 - val_loss: 2.0592 - 121ms/epoch - 3ms/step\n",
            "Epoch 62/100\n",
            "47/47 - 0s - loss: 1.6159 - val_loss: 1.9226 - 119ms/epoch - 3ms/step\n",
            "Epoch 63/100\n",
            "47/47 - 0s - loss: 1.4978 - val_loss: 1.8569 - 133ms/epoch - 3ms/step\n",
            "Epoch 64/100\n",
            "47/47 - 0s - loss: 1.4380 - val_loss: 1.8243 - 123ms/epoch - 3ms/step\n",
            "Epoch 65/100\n",
            "47/47 - 0s - loss: 1.3275 - val_loss: 1.7858 - 138ms/epoch - 3ms/step\n",
            "Epoch 66/100\n",
            "47/47 - 0s - loss: 1.2648 - val_loss: 1.6597 - 165ms/epoch - 4ms/step\n",
            "Epoch 67/100\n",
            "47/47 - 0s - loss: 1.2132 - val_loss: 1.5625 - 124ms/epoch - 3ms/step\n",
            "Epoch 68/100\n",
            "47/47 - 0s - loss: 1.1194 - val_loss: 1.4918 - 121ms/epoch - 3ms/step\n",
            "Epoch 69/100\n",
            "47/47 - 0s - loss: 1.0921 - val_loss: 1.4768 - 123ms/epoch - 3ms/step\n",
            "Epoch 70/100\n",
            "47/47 - 0s - loss: 1.0163 - val_loss: 1.3169 - 133ms/epoch - 3ms/step\n",
            "Epoch 71/100\n",
            "47/47 - 0s - loss: 0.9581 - val_loss: 1.2518 - 132ms/epoch - 3ms/step\n",
            "Epoch 72/100\n",
            "47/47 - 0s - loss: 0.9061 - val_loss: 1.3580 - 128ms/epoch - 3ms/step\n",
            "Epoch 73/100\n",
            "47/47 - 0s - loss: 0.9191 - val_loss: 1.1680 - 122ms/epoch - 3ms/step\n",
            "Epoch 74/100\n",
            "47/47 - 0s - loss: 0.8339 - val_loss: 1.1249 - 129ms/epoch - 3ms/step\n",
            "Epoch 75/100\n",
            "47/47 - 0s - loss: 0.8002 - val_loss: 1.1564 - 125ms/epoch - 3ms/step\n",
            "Epoch 76/100\n",
            "47/47 - 0s - loss: 0.7841 - val_loss: 1.0582 - 122ms/epoch - 3ms/step\n",
            "Epoch 77/100\n",
            "47/47 - 0s - loss: 0.7535 - val_loss: 1.0475 - 128ms/epoch - 3ms/step\n",
            "Epoch 78/100\n",
            "47/47 - 0s - loss: 0.7211 - val_loss: 1.0814 - 125ms/epoch - 3ms/step\n",
            "Epoch 79/100\n",
            "47/47 - 0s - loss: 0.7107 - val_loss: 1.0185 - 130ms/epoch - 3ms/step\n",
            "Epoch 80/100\n",
            "47/47 - 0s - loss: 0.6678 - val_loss: 0.9515 - 139ms/epoch - 3ms/step\n",
            "Epoch 81/100\n",
            "47/47 - 0s - loss: 0.6405 - val_loss: 0.9211 - 162ms/epoch - 3ms/step\n",
            "Epoch 82/100\n",
            "47/47 - 0s - loss: 0.6603 - val_loss: 0.9469 - 128ms/epoch - 3ms/step\n",
            "Epoch 83/100\n",
            "47/47 - 0s - loss: 0.6350 - val_loss: 0.9457 - 171ms/epoch - 4ms/step\n",
            "Epoch 84/100\n",
            "47/47 - 0s - loss: 0.5934 - val_loss: 0.8567 - 130ms/epoch - 3ms/step\n",
            "Epoch 85/100\n",
            "47/47 - 0s - loss: 0.5838 - val_loss: 0.8862 - 141ms/epoch - 3ms/step\n",
            "Epoch 86/100\n",
            "47/47 - 0s - loss: 0.5677 - val_loss: 0.8362 - 135ms/epoch - 3ms/step\n",
            "Epoch 87/100\n",
            "47/47 - 0s - loss: 0.5544 - val_loss: 0.8240 - 126ms/epoch - 3ms/step\n",
            "Epoch 88/100\n",
            "47/47 - 0s - loss: 0.5582 - val_loss: 0.8303 - 119ms/epoch - 3ms/step\n",
            "Epoch 89/100\n",
            "47/47 - 0s - loss: 0.5394 - val_loss: 0.8174 - 177ms/epoch - 4ms/step\n",
            "Epoch 90/100\n",
            "47/47 - 0s - loss: 0.5395 - val_loss: 0.7854 - 128ms/epoch - 3ms/step\n",
            "Epoch 91/100\n",
            "47/47 - 0s - loss: 0.5411 - val_loss: 0.7846 - 240ms/epoch - 5ms/step\n",
            "Epoch 92/100\n",
            "47/47 - 0s - loss: 0.5268 - val_loss: 0.7757 - 185ms/epoch - 4ms/step\n",
            "Epoch 93/100\n",
            "47/47 - 0s - loss: 0.5311 - val_loss: 0.7595 - 217ms/epoch - 5ms/step\n",
            "Epoch 94/100\n",
            "47/47 - 0s - loss: 0.5535 - val_loss: 0.8873 - 207ms/epoch - 4ms/step\n",
            "Epoch 95/100\n",
            "47/47 - 0s - loss: 0.5650 - val_loss: 0.7476 - 208ms/epoch - 4ms/step\n",
            "Epoch 96/100\n",
            "47/47 - 0s - loss: 0.4977 - val_loss: 0.7536 - 173ms/epoch - 4ms/step\n",
            "Epoch 97/100\n",
            "47/47 - 0s - loss: 0.4884 - val_loss: 0.7443 - 222ms/epoch - 5ms/step\n",
            "Epoch 98/100\n",
            "47/47 - 0s - loss: 0.4939 - val_loss: 0.7289 - 219ms/epoch - 5ms/step\n",
            "Epoch 99/100\n",
            "47/47 - 0s - loss: 0.5236 - val_loss: 0.7323 - 173ms/epoch - 4ms/step\n",
            "Epoch 100/100\n",
            "47/47 - 0s - loss: 0.4972 - val_loss: 0.7116 - 163ms/epoch - 3ms/step\n"
          ]
        },
        {
          "output_type": "execute_result",
          "data": {
            "text/plain": [
              "<keras.callbacks.History at 0x7f95eee01810>"
            ]
          },
          "metadata": {},
          "execution_count": 71
        }
      ]
    },
    {
      "cell_type": "code",
      "source": [
        "from sklearn import metrics\n",
        "\n",
        "# Predict\n",
        "pred = model.predict(x_test)\n",
        "\n",
        "# Measure R-squared\n",
        "r2_score = metrics.r2_score(y_test, pred)\n",
        "\n",
        "# Transform R-squared into an accuracy-like score\n",
        "accuracy_score = (1 - r2_score) * 100\n",
        "\n",
        "print(\"Accuracy Score: {:.2f}%\".format(accuracy_score))\n"
      ],
      "metadata": {
        "colab": {
          "base_uri": "https://localhost:8080/"
        },
        "id": "Xjcet5R8geIU",
        "outputId": "248d117c-6017-4d29-ec72-efe852ece944"
      },
      "execution_count": 72,
      "outputs": [
        {
          "output_type": "stream",
          "name": "stdout",
          "text": [
            "16/16 [==============================] - 0s 2ms/step\n",
            "Accuracy Score: 4.92%\n"
          ]
        }
      ]
    },
    {
      "cell_type": "code",
      "source": [
        "import numpy as np\n",
        "\n",
        "# Measure RMSE error.  RMSE is common for regression.\n",
        "score = np.sqrt(metrics.mean_squared_error(pred,y_test))\n",
        "print(\"Final score (RMSE): {}\".format(score))"
      ],
      "metadata": {
        "colab": {
          "base_uri": "https://localhost:8080/"
        },
        "id": "HagCzOpjgnq9",
        "outputId": "a4b144bf-0e72-4b63-a034-ca837d0e1adc"
      },
      "execution_count": 73,
      "outputs": [
        {
          "output_type": "stream",
          "name": "stdout",
          "text": [
            "Final score (RMSE): 0.8435456135023898\n"
          ]
        }
      ]
    },
    {
      "cell_type": "code",
      "source": [
        "# Regression chart.\n",
        "def chart_regression(pred, y, sort=True):\n",
        "    t = pd.DataFrame({'pred': pred, 'y': y.flatten()})\n",
        "    if sort:\n",
        "        t.sort_values(by=['y'], inplace=True)\n",
        "    plt.plot(t['y'].tolist(), label='expected')\n",
        "    plt.plot(t['pred'].tolist(), label='prediction')\n",
        "    plt.ylabel('output')\n",
        "    plt.legend()\n",
        "    plt.show()\n",
        "    \n",
        "# Plot the chart\n",
        "chart_regression(pred.flatten(),y_test)"
      ],
      "metadata": {
        "colab": {
          "base_uri": "https://localhost:8080/",
          "height": 430
        },
        "id": "ydJUexz0hBpO",
        "outputId": "6902c21d-8ba8-401c-d9f0-a0d1773d1ecd"
      },
      "execution_count": 74,
      "outputs": [
        {
          "output_type": "display_data",
          "data": {
            "text/plain": [
              "<Figure size 640x480 with 1 Axes>"
            ],
            "image/png": "[encoded data removed]"
          },
          "metadata": {}
        }
      ]
    },
    {
      "cell_type": "code",
      "source": [
        "#Intern at Pranathi\n",
        "#Student of DataTrained\n",
        "#Date -> 4-05-2023\n",
        "#Time -> 22:54"
      ],
      "metadata": {
        "id": "PBdsfaBmgxZP"
      },
      "execution_count": 33,
      "outputs": []
    },
    {
      "cell_type": "code",
      "source": [],
      "metadata": {
        "id": "LSlo1ycYg8BV"
      },
      "execution_count": null,
      "outputs": []
    }
  ]
}