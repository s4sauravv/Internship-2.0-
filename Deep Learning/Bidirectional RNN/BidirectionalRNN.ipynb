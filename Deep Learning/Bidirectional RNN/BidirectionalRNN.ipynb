{
  "nbformat": 4,
  "nbformat_minor": 0,
  "metadata": {
    "colab": {
      "provenance": []
    },
    "kernelspec": {
      "name": "python3",
      "display_name": "Python 3"
    },
    "language_info": {
      "name": "python"
    }
  },
  "cells": [
    {
      "cell_type": "markdown",
      "source": [
        "# **RNN**"
      ],
      "metadata": {
        "id": "SB1o5tjMSoCT"
      }
    },
    {
      "cell_type": "code",
      "execution_count": 16,
      "metadata": {
        "id": "yEG7qcKGK_7O"
      },
      "outputs": [],
      "source": [
        "#lets import necessory libraries\n",
        "import tensorflow as tf\n",
        "from tensorflow.keras.datasets import imdb\n",
        "from tensorflow.keras.preprocessing.sequence import pad_sequences\n",
        "from tensorflow.keras.models import Sequential\n",
        "from tensorflow.keras.layers import Embedding,Bidirectional,SimpleRNN,GRU,Dense,LSTM"
      ]
    },
    {
      "cell_type": "code",
      "source": [
        "#Load the IMDB dataset\n",
        "num_words=10000 #Number of words to keep\n",
        "(x_train,y_train),(x_test,y_test)=imdb.load_data(num_words=num_words)"
      ],
      "metadata": {
        "colab": {
          "base_uri": "https://localhost:8080/"
        },
        "id": "0hI2quSoMXpY",
        "outputId": "b4170207-7cd2-4d23-f845-0a0766926054"
      },
      "execution_count": 4,
      "outputs": [
        {
          "output_type": "stream",
          "name": "stdout",
          "text": [
            "Downloading data from https://storage.googleapis.com/tensorflow/tf-keras-datasets/imdb.npz\n",
            "17464789/17464789 [==============================] - 0s 0us/step\n"
          ]
        }
      ]
    },
    {
      "cell_type": "code",
      "source": [
        "#Pad Sequences\n",
        "maxlen=100\n",
        "x_train=pad_sequences(x_train,maxlen=maxlen,padding='post',truncating='post')\n",
        "x_test=pad_sequences(x_test,maxlen=maxlen,padding='post',truncating='post')"
      ],
      "metadata": {
        "id": "HFHmGBljQz-j"
      },
      "execution_count": 7,
      "outputs": []
    },
    {
      "cell_type": "code",
      "source": [
        "#Build a bidirectional model\n",
        "embedding_dim=32 #Direction of embedding layer\n",
        "model=Sequential([Embedding(input_dim=num_words,output_dim=embedding_dim,input_length=maxlen),\n",
        "                  SimpleRNN(5),\n",
        "                  Dense(1,activation='sigmoid')])#Binary classificaton"
      ],
      "metadata": {
        "id": "cZGeQ3VtQ3g6"
      },
      "execution_count": 8,
      "outputs": []
    },
    {
      "cell_type": "code",
      "source": [
        "#compile the model\n",
        "model.compile(optimizer='adam',loss='binary_crossentropy',metrics=['accuracy'])\n",
        "\n",
        "#display model architecture\n",
        "model.summary()"
      ],
      "metadata": {
        "colab": {
          "base_uri": "https://localhost:8080/"
        },
        "id": "1RFVEUTPSRt5",
        "outputId": "08160084-417e-426c-9125-4183f4bd27a2"
      },
      "execution_count": 10,
      "outputs": [
        {
          "output_type": "stream",
          "name": "stdout",
          "text": [
            "Model: \"sequential\"\n",
            "_________________________________________________________________\n",
            " Layer (type)                Output Shape              Param #   \n",
            "=================================================================\n",
            " embedding (Embedding)       (None, 100, 32)           320000    \n",
            "                                                                 \n",
            " simple_rnn (SimpleRNN)      (None, 5)                 190       \n",
            "                                                                 \n",
            " dense (Dense)               (None, 1)                 6         \n",
            "                                                                 \n",
            "=================================================================\n",
            "Total params: 320196 (1.22 MB)\n",
            "Trainable params: 320196 (1.22 MB)\n",
            "Non-trainable params: 0 (0.00 Byte)\n",
            "_________________________________________________________________\n"
          ]
        }
      ]
    },
    {
      "cell_type": "markdown",
      "source": [
        "# Bidirectional RNN"
      ],
      "metadata": {
        "id": "bucRQyLsSwiM"
      }
    },
    {
      "cell_type": "code",
      "source": [
        "model=Sequential([Embedding(input_dim=num_words,output_dim=embedding_dim,input_length=maxlen),\n",
        "                  Bidirectional(SimpleRNN(5)),\n",
        "                  Dense(1,activation='sigmoid')])\n",
        "#compile the model\n",
        "model.compile(optimizer='adam',loss='binary_crossentropy',metrics=['accuracy'])\n",
        "#display model architecture\n",
        "model.summary()\n"
      ],
      "metadata": {
        "colab": {
          "base_uri": "https://localhost:8080/"
        },
        "id": "qic-ZP1iShjG",
        "outputId": "f9c11e62-c61e-42a0-8a99-2652f13c019f"
      },
      "execution_count": 14,
      "outputs": [
        {
          "output_type": "stream",
          "name": "stdout",
          "text": [
            "Model: \"sequential_3\"\n",
            "_________________________________________________________________\n",
            " Layer (type)                Output Shape              Param #   \n",
            "=================================================================\n",
            " embedding_3 (Embedding)     (None, 100, 32)           320000    \n",
            "                                                                 \n",
            " bidirectional_2 (Bidirecti  (None, 10)                380       \n",
            " onal)                                                           \n",
            "                                                                 \n",
            " dense_3 (Dense)             (None, 1)                 11        \n",
            "                                                                 \n",
            "=================================================================\n",
            "Total params: 320391 (1.22 MB)\n",
            "Trainable params: 320391 (1.22 MB)\n",
            "Non-trainable params: 0 (0.00 Byte)\n",
            "_________________________________________________________________\n"
          ]
        }
      ]
    },
    {
      "cell_type": "markdown",
      "source": [
        "## Bidirectional LSTM"
      ],
      "metadata": {
        "id": "u7jrhpkBTnbu"
      }
    },
    {
      "cell_type": "code",
      "source": [
        "model=Sequential([Embedding(input_dim=num_words,output_dim=embedding_dim,input_length=maxlen),\n",
        "                  Bidirectional(LSTM(5)),\n",
        "                  Dense(1,activation='sigmoid')])\n",
        "#compile the model\n",
        "model.compile(optimizer='adam',loss='binary_crossentropy',metrics=['accuracy'])\n",
        "#display model architecture\n",
        "model.summary()\n"
      ],
      "metadata": {
        "colab": {
          "base_uri": "https://localhost:8080/"
        },
        "id": "1cN2gYstTbPi",
        "outputId": "5a9e4ca7-b2a3-4324-a064-0b5bf9d11004"
      },
      "execution_count": 17,
      "outputs": [
        {
          "output_type": "stream",
          "name": "stdout",
          "text": [
            "Model: \"sequential_4\"\n",
            "_________________________________________________________________\n",
            " Layer (type)                Output Shape              Param #   \n",
            "=================================================================\n",
            " embedding_5 (Embedding)     (None, 100, 32)           320000    \n",
            "                                                                 \n",
            " bidirectional_3 (Bidirecti  (None, 10)                1520      \n",
            " onal)                                                           \n",
            "                                                                 \n",
            " dense_4 (Dense)             (None, 1)                 11        \n",
            "                                                                 \n",
            "=================================================================\n",
            "Total params: 321531 (1.23 MB)\n",
            "Trainable params: 321531 (1.23 MB)\n",
            "Non-trainable params: 0 (0.00 Byte)\n",
            "_________________________________________________________________\n"
          ]
        }
      ]
    },
    {
      "cell_type": "markdown",
      "source": [
        "# Bidirectional GRU\n"
      ],
      "metadata": {
        "id": "Im_QzaTNT8Zx"
      }
    },
    {
      "cell_type": "code",
      "source": [
        "model=Sequential([Embedding(input_dim=num_words,output_dim=embedding_dim,input_length=maxlen),\n",
        "                  Bidirectional(GRU(5)),\n",
        "                  Dense(1,activation='sigmoid')])\n",
        "#compile the model\n",
        "model.compile(optimizer='adam',loss='binary_crossentropy',metrics=['accuracy'])\n",
        "#display model architecture\n",
        "model.summary()\n"
      ],
      "metadata": {
        "colab": {
          "base_uri": "https://localhost:8080/"
        },
        "id": "rYFfoaH0Twyj",
        "outputId": "ba8a9b30-6a26-4efc-f0c1-971ddb7f7073"
      },
      "execution_count": 19,
      "outputs": [
        {
          "output_type": "stream",
          "name": "stdout",
          "text": [
            "Model: \"sequential_6\"\n",
            "_________________________________________________________________\n",
            " Layer (type)                Output Shape              Param #   \n",
            "=================================================================\n",
            " embedding_7 (Embedding)     (None, 100, 32)           320000    \n",
            "                                                                 \n",
            " bidirectional_5 (Bidirecti  (None, 10)                1170      \n",
            " onal)                                                           \n",
            "                                                                 \n",
            " dense_6 (Dense)             (None, 1)                 11        \n",
            "                                                                 \n",
            "=================================================================\n",
            "Total params: 321181 (1.23 MB)\n",
            "Trainable params: 321181 (1.23 MB)\n",
            "Non-trainable params: 0 (0.00 Byte)\n",
            "_________________________________________________________________\n"
          ]
        }
      ]
    },
    {
      "cell_type": "code",
      "source": [
        "#Machine Learning Engineer - Saurav\n",
        "#Date -> 20-Feb-2024\n",
        "#Time-> 12:30PM"
      ],
      "metadata": {
        "id": "D42ydI1xUApB"
      },
      "execution_count": 20,
      "outputs": []
    },
    {
      "cell_type": "code",
      "source": [],
      "metadata": {
        "id": "BCoMmW9OUK9K"
      },
      "execution_count": null,
      "outputs": []
    }
  ]
}