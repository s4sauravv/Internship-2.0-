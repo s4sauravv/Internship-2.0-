{
 "cells": [
  {
   "cell_type": "code",
   "execution_count": 62,
   "id": "a60c66c8",
   "metadata": {},
   "outputs": [],
   "source": [
    "#Lets import necessory libraries\n",
    "import pandas as ps\n",
    "import numpy as np\n",
    "\n",
    "#For Visualization\n",
    "import seaborn as sns\n",
    "import matplotlib.pyplot as plt\n",
    "\n",
    "#import plotly\n",
    "import warnings\n",
    "warnings.filterwarnings('ignore')"
   ]
  },
  {
   "cell_type": "code",
   "execution_count": 63,
   "id": "61dfb2fb",
   "metadata": {},
   "outputs": [
    {
     "data": {
      "text/html": [
       "<div>\n",
       "<style scoped>\n",
       "    .dataframe tbody tr th:only-of-type {\n",
       "        vertical-align: middle;\n",
       "    }\n",
       "\n",
       "    .dataframe tbody tr th {\n",
       "        vertical-align: top;\n",
       "    }\n",
       "\n",
       "    .dataframe thead th {\n",
       "        text-align: right;\n",
       "    }\n",
       "</style>\n",
       "<table border=\"1\" class=\"dataframe\">\n",
       "  <thead>\n",
       "    <tr style=\"text-align: right;\">\n",
       "      <th></th>\n",
       "      <th>id</th>\n",
       "      <th>age</th>\n",
       "      <th>gender</th>\n",
       "      <th>height</th>\n",
       "      <th>weight</th>\n",
       "      <th>ap_hi</th>\n",
       "      <th>ap_lo</th>\n",
       "      <th>cholesterol</th>\n",
       "      <th>gluc</th>\n",
       "      <th>smoke</th>\n",
       "      <th>alco</th>\n",
       "      <th>active</th>\n",
       "      <th>cardio</th>\n",
       "    </tr>\n",
       "  </thead>\n",
       "  <tbody>\n",
       "    <tr>\n",
       "      <th>0</th>\n",
       "      <td>988</td>\n",
       "      <td>22469</td>\n",
       "      <td>1</td>\n",
       "      <td>155</td>\n",
       "      <td>69.0</td>\n",
       "      <td>130</td>\n",
       "      <td>80</td>\n",
       "      <td>2</td>\n",
       "      <td>2</td>\n",
       "      <td>0</td>\n",
       "      <td>0</td>\n",
       "      <td>1</td>\n",
       "      <td>0</td>\n",
       "    </tr>\n",
       "    <tr>\n",
       "      <th>1</th>\n",
       "      <td>989</td>\n",
       "      <td>14648</td>\n",
       "      <td>1</td>\n",
       "      <td>163</td>\n",
       "      <td>71.0</td>\n",
       "      <td>110</td>\n",
       "      <td>70</td>\n",
       "      <td>1</td>\n",
       "      <td>1</td>\n",
       "      <td>0</td>\n",
       "      <td>0</td>\n",
       "      <td>1</td>\n",
       "      <td>1</td>\n",
       "    </tr>\n",
       "    <tr>\n",
       "      <th>2</th>\n",
       "      <td>990</td>\n",
       "      <td>21901</td>\n",
       "      <td>1</td>\n",
       "      <td>165</td>\n",
       "      <td>70.0</td>\n",
       "      <td>120</td>\n",
       "      <td>80</td>\n",
       "      <td>1</td>\n",
       "      <td>1</td>\n",
       "      <td>0</td>\n",
       "      <td>0</td>\n",
       "      <td>1</td>\n",
       "      <td>0</td>\n",
       "    </tr>\n",
       "    <tr>\n",
       "      <th>3</th>\n",
       "      <td>991</td>\n",
       "      <td>14549</td>\n",
       "      <td>2</td>\n",
       "      <td>165</td>\n",
       "      <td>85.0</td>\n",
       "      <td>120</td>\n",
       "      <td>80</td>\n",
       "      <td>1</td>\n",
       "      <td>1</td>\n",
       "      <td>1</td>\n",
       "      <td>1</td>\n",
       "      <td>1</td>\n",
       "      <td>0</td>\n",
       "    </tr>\n",
       "    <tr>\n",
       "      <th>4</th>\n",
       "      <td>992</td>\n",
       "      <td>23393</td>\n",
       "      <td>1</td>\n",
       "      <td>155</td>\n",
       "      <td>62.0</td>\n",
       "      <td>120</td>\n",
       "      <td>80</td>\n",
       "      <td>1</td>\n",
       "      <td>1</td>\n",
       "      <td>0</td>\n",
       "      <td>0</td>\n",
       "      <td>1</td>\n",
       "      <td>0</td>\n",
       "    </tr>\n",
       "  </tbody>\n",
       "</table>\n",
       "</div>"
      ],
      "text/plain": [
       "    id    age  gender  height  weight  ap_hi  ap_lo  cholesterol  gluc  smoke  \\\n",
       "0  988  22469       1     155    69.0    130     80            2     2      0   \n",
       "1  989  14648       1     163    71.0    110     70            1     1      0   \n",
       "2  990  21901       1     165    70.0    120     80            1     1      0   \n",
       "3  991  14549       2     165    85.0    120     80            1     1      1   \n",
       "4  992  23393       1     155    62.0    120     80            1     1      0   \n",
       "\n",
       "   alco  active  cardio  \n",
       "0     0       1       0  \n",
       "1     0       1       1  \n",
       "2     0       1       0  \n",
       "3     1       1       0  \n",
       "4     0       1       0  "
      ]
     },
     "execution_count": 63,
     "metadata": {},
     "output_type": "execute_result"
    }
   ],
   "source": [
    "#Lets load the dataset\n",
    "data=ps.read_csv('https://raw.githubusercontent.com/training-ml/Files/main/cardio_train.csv',sep=';')\n",
    "data.head()"
   ]
  },
  {
   "cell_type": "code",
   "execution_count": 64,
   "id": "eba84124",
   "metadata": {},
   "outputs": [
    {
     "data": {
      "text/plain": [
       "(69301, 13)"
      ]
     },
     "execution_count": 64,
     "metadata": {},
     "output_type": "execute_result"
    }
   ],
   "source": [
    "#Lets check the shape of the dataset\n",
    "data.shape"
   ]
  },
  {
   "cell_type": "markdown",
   "id": "ea769f0a",
   "metadata": {},
   "source": [
    "So, Here we have 506 Rows and 14 Columns"
   ]
  },
  {
   "cell_type": "code",
   "execution_count": 65,
   "id": "e3150340",
   "metadata": {},
   "outputs": [
    {
     "data": {
      "text/plain": [
       "id               int64\n",
       "age              int64\n",
       "gender           int64\n",
       "height           int64\n",
       "weight         float64\n",
       "ap_hi            int64\n",
       "ap_lo            int64\n",
       "cholesterol      int64\n",
       "gluc             int64\n",
       "smoke            int64\n",
       "alco             int64\n",
       "active           int64\n",
       "cardio           int64\n",
       "dtype: object"
      ]
     },
     "execution_count": 65,
     "metadata": {},
     "output_type": "execute_result"
    }
   ],
   "source": [
    "#Lets check the datatype of the dataset\n",
    "data.dtypes"
   ]
  },
  {
   "cell_type": "markdown",
   "id": "e039a05e",
   "metadata": {},
   "source": [
    "So, Here we have almost float values and 4 integer values."
   ]
  },
  {
   "cell_type": "code",
   "execution_count": 66,
   "id": "789c508a",
   "metadata": {},
   "outputs": [
    {
     "data": {
      "image/png": "[encoded data removed]",
      "text/plain": [
       "<Figure size 2000x1500 with 2 Axes>"
      ]
     },
     "metadata": {},
     "output_type": "display_data"
    }
   ],
   "source": [
    "#Lets check for is null usinh heatmap\n",
    "plt.figure(figsize=(20,15),facecolor='red')\n",
    "sns.heatmap(data.isnull())\n",
    "plt.savefig('isnull.png')"
   ]
  },
  {
   "cell_type": "markdown",
   "id": "15fd65ee",
   "metadata": {},
   "source": [
    "We dont have null values . We are good to proceed"
   ]
  },
  {
   "cell_type": "code",
   "execution_count": 67,
   "id": "26edcdc1",
   "metadata": {},
   "outputs": [
    {
     "data": {
      "text/plain": [
       "0"
      ]
     },
     "execution_count": 67,
     "metadata": {},
     "output_type": "execute_result"
    }
   ],
   "source": [
    "#Lets check once again  the null\n",
    "data.isna().sum().sum()"
   ]
  },
  {
   "cell_type": "markdown",
   "id": "3524d182",
   "metadata": {},
   "source": [
    "# Model building\n"
   ]
  },
  {
   "cell_type": "code",
   "execution_count": 68,
   "id": "51d0bc72",
   "metadata": {},
   "outputs": [],
   "source": [
    "#Lets separate the feature and label for train test split\n",
    "x=data.drop(columns='cardio')\n",
    "y=data['cardio']"
   ]
  },
  {
   "cell_type": "markdown",
   "id": "6674a9f2",
   "metadata": {},
   "source": [
    "## Reciprocal transformation\n",
    "\n",
    "A reciprocal transformation is a mathematical process that involves calculating the reciprocal (or inverse) of a set of numbers.\n",
    "\n",
    "The reciprocal of a number is simply 1 divided by that number. For example, the reciprocal of 2 is 1/2, and the reciprocal of 10 is 1/10.\n",
    "\n",
    "In data analysis and statistics, a reciprocal transformation is often used to transform data that is highly skewed or has a large dynamic range. This is because the reciprocal transformation can compress the range of large values and expand the range of small values, making the data more evenly distributed.\n",
    "\n",
    "However, it's important to note that the reciprocal transformation can also have some downsides, such as amplifying small values and compressing large values. As with any data transformation, it's important to carefully consider the implications of the transformation on the data before using it in a machine learning model or any other analysis."
   ]
  },
  {
   "cell_type": "code",
   "execution_count": 69,
   "id": "1fa2bdf5",
   "metadata": {},
   "outputs": [
    {
     "name": "stdout",
     "output_type": "stream",
     "text": [
      "Original Data:\n",
      "           id    age  gender  height  weight  ap_hi  ap_lo  cholesterol  gluc  \\\n",
      "0        988  22469       1     155    69.0    130     80            2     2   \n",
      "1        989  14648       1     163    71.0    110     70            1     1   \n",
      "2        990  21901       1     165    70.0    120     80            1     1   \n",
      "3        991  14549       2     165    85.0    120     80            1     1   \n",
      "4        992  23393       1     155    62.0    120     80            1     1   \n",
      "...      ...    ...     ...     ...     ...    ...    ...          ...   ...   \n",
      "69296  99993  19240       2     168    76.0    120     80            1     1   \n",
      "69297  99995  22601       1     158   126.0    140     90            2     2   \n",
      "69298  99996  19066       2     183   105.0    180     90            3     1   \n",
      "69299  99998  22431       1     163    72.0    135     80            1     2   \n",
      "69300  99999  20540       1     170    72.0    120     80            2     1   \n",
      "\n",
      "       smoke  alco  active  cardio  \n",
      "0          0     0       1       0  \n",
      "1          0     0       1       1  \n",
      "2          0     0       1       0  \n",
      "3          1     1       1       0  \n",
      "4          0     0       1       0  \n",
      "...      ...   ...     ...     ...  \n",
      "69296      1     0       1       0  \n",
      "69297      0     0       1       1  \n",
      "69298      0     1       0       1  \n",
      "69299      0     0       0       1  \n",
      "69300      0     0       1       0  \n",
      "\n",
      "[69301 rows x 13 columns]\n",
      "Reciprocal Transformed Data:\n",
      "        id  age  gender  height    weight  ap_hi  ap_lo  cholesterol  gluc  \\\n",
      "0       0    0       1       0  0.014493      0      0            0     0   \n",
      "1       0    0       1       0  0.014085      0      0            1     1   \n",
      "2       0    0       1       0  0.014286      0      0            1     1   \n",
      "3       0    0       0       0  0.011765      0      0            1     1   \n",
      "4       0    0       1       0  0.016129      0      0            1     1   \n",
      "...    ..  ...     ...     ...       ...    ...    ...          ...   ...   \n",
      "69296   0    0       0       0  0.013158      0      0            1     1   \n",
      "69297   0    0       1       0  0.007937      0      0            0     0   \n",
      "69298   0    0       0       0  0.009524      0      0            0     1   \n",
      "69299   0    0       1       0  0.013889      0      0            1     0   \n",
      "69300   0    0       1       0  0.013889      0      0            0     1   \n",
      "\n",
      "                     smoke                 alco               active  \n",
      "0     -9223372036854775808 -9223372036854775808                    1  \n",
      "1     -9223372036854775808 -9223372036854775808                    1  \n",
      "2     -9223372036854775808 -9223372036854775808                    1  \n",
      "3                        1                    1                    1  \n",
      "4     -9223372036854775808 -9223372036854775808                    1  \n",
      "...                    ...                  ...                  ...  \n",
      "69296                    1 -9223372036854775808                    1  \n",
      "69297 -9223372036854775808 -9223372036854775808                    1  \n",
      "69298 -9223372036854775808                    1 -9223372036854775808  \n",
      "69299 -9223372036854775808 -9223372036854775808 -9223372036854775808  \n",
      "69300 -9223372036854775808 -9223372036854775808                    1  \n",
      "\n",
      "[69301 rows x 12 columns]\n"
     ]
    }
   ],
   "source": [
    "# Perform a reciprocal transformation on the data\n",
    "reciprocal_data = np.reciprocal(x)\n",
    "\n",
    "print(\"Original Data:\\n\", data)\n",
    "print(\"Reciprocal Transformed Data:\\n\", reciprocal_data)"
   ]
  },
  {
   "cell_type": "markdown",
   "id": "dd128a5d",
   "metadata": {},
   "source": [
    "As you can see, the np.reciprocal() function takes the reciprocal of each element in the input array and returns a new array with the transformed values. we can then use this transformed data for further analysis or modeling."
   ]
  },
  {
   "cell_type": "markdown",
   "id": "d020abb6",
   "metadata": {},
   "source": [
    "# Square Root transformation"
   ]
  },
  {
   "cell_type": "markdown",
   "id": "7c74dbee",
   "metadata": {},
   "source": [
    "Square root transformation is a mathematical process that is used to transform data with a skewed distribution into a more symmetrical distribution. It involves taking the square root of each data point to reduce the scale of the data and make extreme values less extreme. This can help to reveal patterns in the data that may not be visible in the original form.\n",
    "\n",
    "Square root transformation is often used in statistical analysis, particularly in regression analysis, to transform variables that have a skewed distribution, such as counts or positive continuous variables, into a more normally distributed form, which is required by many statistical tests and models. By performing this transformation, the data becomes more suitable for analysis and modeling."
   ]
  },
  {
   "cell_type": "code",
   "execution_count": 70,
   "id": "0b4f0d9b",
   "metadata": {},
   "outputs": [
    {
     "name": "stdout",
     "output_type": "stream",
     "text": [
      "Original data:           id    age  gender  height  weight  ap_hi  ap_lo  cholesterol  gluc  \\\n",
      "0        988  22469       1     155    69.0    130     80            2     2   \n",
      "1        989  14648       1     163    71.0    110     70            1     1   \n",
      "2        990  21901       1     165    70.0    120     80            1     1   \n",
      "3        991  14549       2     165    85.0    120     80            1     1   \n",
      "4        992  23393       1     155    62.0    120     80            1     1   \n",
      "...      ...    ...     ...     ...     ...    ...    ...          ...   ...   \n",
      "69296  99993  19240       2     168    76.0    120     80            1     1   \n",
      "69297  99995  22601       1     158   126.0    140     90            2     2   \n",
      "69298  99996  19066       2     183   105.0    180     90            3     1   \n",
      "69299  99998  22431       1     163    72.0    135     80            1     2   \n",
      "69300  99999  20540       1     170    72.0    120     80            2     1   \n",
      "\n",
      "       smoke  alco  active  cardio  \n",
      "0          0     0       1       0  \n",
      "1          0     0       1       1  \n",
      "2          0     0       1       0  \n",
      "3          1     1       1       0  \n",
      "4          0     0       1       0  \n",
      "...      ...   ...     ...     ...  \n",
      "69296      1     0       1       0  \n",
      "69297      0     0       1       1  \n",
      "69298      0     1       0       1  \n",
      "69299      0     0       0       1  \n",
      "69300      0     0       1       0  \n",
      "\n",
      "[69301 rows x 13 columns]\n",
      "Square root transformed data:                id         age    gender     height     weight      ap_hi  \\\n",
      "0       31.432467  149.896631  1.000000  12.449900   8.306624  11.401754   \n",
      "1       31.448370  121.028922  1.000000  12.767145   8.426150  10.488088   \n",
      "2       31.464265  147.989865  1.000000  12.845233   8.366600  10.954451   \n",
      "3       31.480152  120.619236  1.414214  12.845233   9.219544  10.954451   \n",
      "4       31.496031  152.947703  1.000000  12.449900   7.874008  10.954451   \n",
      "...           ...         ...       ...        ...        ...        ...   \n",
      "69296  316.216698  138.708327  1.414214  12.961481   8.717798  10.954451   \n",
      "69297  316.219860  150.336290  1.000000  12.569805  11.224972  11.832160   \n",
      "69298  316.221441  138.079687  1.414214  13.527749  10.246951  13.416408   \n",
      "69299  316.224604  149.769823  1.000000  12.767145   8.485281  11.618950   \n",
      "69300  316.226185  143.317829  1.000000  13.038405   8.485281  10.954451   \n",
      "\n",
      "          ap_lo  cholesterol      gluc  smoke  alco  active  \n",
      "0      8.944272     1.414214  1.414214    0.0   0.0     1.0  \n",
      "1      8.366600     1.000000  1.000000    0.0   0.0     1.0  \n",
      "2      8.944272     1.000000  1.000000    0.0   0.0     1.0  \n",
      "3      8.944272     1.000000  1.000000    1.0   1.0     1.0  \n",
      "4      8.944272     1.000000  1.000000    0.0   0.0     1.0  \n",
      "...         ...          ...       ...    ...   ...     ...  \n",
      "69296  8.944272     1.000000  1.000000    1.0   0.0     1.0  \n",
      "69297  9.486833     1.414214  1.414214    0.0   0.0     1.0  \n",
      "69298  9.486833     1.732051  1.000000    0.0   1.0     0.0  \n",
      "69299  8.944272     1.000000  1.414214    0.0   0.0     0.0  \n",
      "69300  8.944272     1.414214  1.000000    0.0   0.0     1.0  \n",
      "\n",
      "[69301 rows x 12 columns]\n"
     ]
    }
   ],
   "source": [
    "# apply square root transformation using numpy's sqrt function\n",
    "sqrt_data = np.sqrt(x)\n",
    "\n",
    "# print the original data and the transformed data\n",
    "print(\"Original data:\", data)\n",
    "print(\"Square root transformed data:\", sqrt_data)"
   ]
  },
  {
   "cell_type": "markdown",
   "id": "097dd41f",
   "metadata": {},
   "source": [
    "As we can see, the np.sqrt() function takes the square root of each element in the input array and returns a new array with the transformed values. we can then use this transformed data for further analysis or modeling."
   ]
  },
  {
   "cell_type": "markdown",
   "id": "66e4b30b",
   "metadata": {},
   "source": [
    "# Exponential Transformation"
   ]
  },
  {
   "cell_type": "markdown",
   "id": "1f13faf1",
   "metadata": {},
   "source": [
    "Exponential transformation is a mathematical process that is used to transform data with a skewed distribution into a more symmetrical distribution. It involves taking the exponential function of each data point, which can make extreme values less extreme and bring out patterns that may not be visible in the original data.\n",
    "\n",
    "Exponential transformation is often used in statistical analysis, particularly in regression analysis, to transform variables that have a skewed distribution, such as prices or growth rates, into a more normally distributed form, which is required by many statistical tests and models. By performing this transformation, the data becomes more suitable for analysis and modeling."
   ]
  },
  {
   "cell_type": "code",
   "execution_count": 71,
   "id": "7cbd5e5c",
   "metadata": {},
   "outputs": [
    {
     "name": "stdout",
     "output_type": "stream",
     "text": [
      "Original data:           id    age  gender  height  weight  ap_hi  ap_lo  cholesterol  gluc  \\\n",
      "0        988  22469       1     155    69.0    130     80            2     2   \n",
      "1        989  14648       1     163    71.0    110     70            1     1   \n",
      "2        990  21901       1     165    70.0    120     80            1     1   \n",
      "3        991  14549       2     165    85.0    120     80            1     1   \n",
      "4        992  23393       1     155    62.0    120     80            1     1   \n",
      "...      ...    ...     ...     ...     ...    ...    ...          ...   ...   \n",
      "69296  99993  19240       2     168    76.0    120     80            1     1   \n",
      "69297  99995  22601       1     158   126.0    140     90            2     2   \n",
      "69298  99996  19066       2     183   105.0    180     90            3     1   \n",
      "69299  99998  22431       1     163    72.0    135     80            1     2   \n",
      "69300  99999  20540       1     170    72.0    120     80            2     1   \n",
      "\n",
      "       smoke  alco  active  \n",
      "0          0     0       1  \n",
      "1          0     0       1  \n",
      "2          0     0       1  \n",
      "3          1     1       1  \n",
      "4          0     0       1  \n",
      "...      ...   ...     ...  \n",
      "69296      1     0       1  \n",
      "69297      0     0       1  \n",
      "69298      0     1       0  \n",
      "69299      0     0       0  \n",
      "69300      0     0       1  \n",
      "\n",
      "[69301 rows x 12 columns]\n",
      "Exponentially transformed data:         id  age    gender        height        weight         ap_hi  \\\n",
      "0      inf  inf  2.718282  2.068448e+67  9.253782e+29  2.872650e+56   \n",
      "1      inf  inf  2.718282  6.165958e+70  6.837671e+30  5.920972e+47   \n",
      "2      inf  inf  2.718282  4.556061e+71  2.515439e+30  1.304181e+52   \n",
      "3      inf  inf  7.389056  4.556061e+71  8.223013e+36  1.304181e+52   \n",
      "4      inf  inf  2.718282  2.068448e+67  8.438357e+26  1.304181e+52   \n",
      "...    ...  ...       ...           ...           ...           ...   \n",
      "69296  inf  inf  7.389056  9.151093e+72  1.014800e+33  1.304181e+52   \n",
      "69297  inf  inf  2.718282  4.154590e+68  5.261441e+54  6.327432e+60   \n",
      "69298  inf  inf  7.389056  2.991508e+79  3.989520e+45  1.489384e+78   \n",
      "69299  inf  inf  2.718282  6.165958e+70  1.858672e+31  4.263390e+58   \n",
      "69300  inf  inf  2.718282  6.761794e+73  1.858672e+31  1.304181e+52   \n",
      "\n",
      "              ap_lo  cholesterol      gluc     smoke      alco    active  \n",
      "0      5.540622e+34     7.389056  7.389056  1.000000  1.000000  2.718282  \n",
      "1      2.515439e+30     2.718282  2.718282  1.000000  1.000000  2.718282  \n",
      "2      5.540622e+34     2.718282  2.718282  1.000000  1.000000  2.718282  \n",
      "3      5.540622e+34     2.718282  2.718282  2.718282  2.718282  2.718282  \n",
      "4      5.540622e+34     2.718282  2.718282  1.000000  1.000000  2.718282  \n",
      "...             ...          ...       ...       ...       ...       ...  \n",
      "69296  5.540622e+34     2.718282  2.718282  2.718282  1.000000  2.718282  \n",
      "69297  1.220403e+39     7.389056  7.389056  1.000000  1.000000  2.718282  \n",
      "69298  1.220403e+39    20.085537  2.718282  1.000000  2.718282  1.000000  \n",
      "69299  5.540622e+34     2.718282  7.389056  1.000000  1.000000  1.000000  \n",
      "69300  5.540622e+34     7.389056  2.718282  1.000000  1.000000  2.718282  \n",
      "\n",
      "[69301 rows x 12 columns]\n"
     ]
    }
   ],
   "source": [
    "# apply exponential transformation using numpy's exp function\n",
    "exp_data = np.exp(x)\n",
    "\n",
    "# print the original data and the transformed data\n",
    "print(\"Original data:\", x)\n",
    "print(\"Exponentially transformed data:\", exp_data)"
   ]
  },
  {
   "cell_type": "markdown",
   "id": "b60f7483",
   "metadata": {},
   "source": [
    "As we can see, the np.exp() function takes the exponential of each element in the input array and returns a new array with the transformed values. we can then use this transformed data for further analysis or modeling."
   ]
  },
  {
   "cell_type": "markdown",
   "id": "993c901f",
   "metadata": {},
   "source": [
    "# Robust Scaler\n",
    "The RobustScaler is a preprocessing technique in machine learning that scales the features of a dataset using statistics that are robust to outliers. It works by centering the data around the median and scaling it using the interquartile range (IQR).\n",
    "\n",
    "Here's an overview of how the RobustScaler works:\n",
    "\n",
    "Calculate the median and interquartile range (IQR) for each feature in the dataset.\n",
    "Subtract the median from each feature value to center the data around 0.\n",
    "Divide each feature value by the IQR to scale the data.\n",
    "The RobustScaler is useful when dealing with datasets that contain outliers or data points that are significantly different from the rest of the dataset. Using standard scaling techniques like the StandardScaler on such datasets can result in skewed results. In such cases, the RobustScaler can be used to scale the data in a way that is robust to these outliers."
   ]
  },
  {
   "cell_type": "code",
   "execution_count": 72,
   "id": "56698267",
   "metadata": {},
   "outputs": [
    {
     "name": "stdout",
     "output_type": "stream",
     "text": [
      "Original Data:\n",
      " [[ 1  2  3]\n",
      " [ 4  5  6]\n",
      " [ 7  8  9]\n",
      " [10 20 30]]\n",
      "Scaled Data:\n",
      " [[-1.         -0.66666667 -0.5       ]\n",
      " [-0.33333333 -0.22222222 -0.16666667]\n",
      " [ 0.33333333  0.22222222  0.16666667]\n",
      " [ 1.          2.          2.5       ]]\n"
     ]
    }
   ],
   "source": [
    "from sklearn.preprocessing import RobustScaler\n",
    "\n",
    "\n",
    "# Create sample data with outliers\n",
    "data = np.array([[1, 2, 3], [4, 5, 6], [7, 8, 9], [10, 20, 30]])\n",
    "\n",
    "# Create a RobustScaler object\n",
    "scaler = RobustScaler()\n",
    "\n",
    "# Fit the scaler to the data\n",
    "scaler.fit(data)\n",
    "\n",
    "# Transform the data\n",
    "scaled_data = scaler.transform(data)\n",
    "\n",
    "print(\"Original Data:\\n\", data)\n",
    "print(\"Scaled Data:\\n\", scaled_data)"
   ]
  },
  {
   "cell_type": "markdown",
   "id": "c42fe071",
   "metadata": {},
   "source": [
    "In this example, we create a sample data array with some outliers, create a RobustScaler object, fit it to the data using the fit() method, and then transform the data using the transform() method. The output of the code will be the original and scaled data arrays.\n",
    "\n",
    "Note that the RobustScaler scales each feature independently, so the resulting scaled data will have the same number of columns as the original data."
   ]
  },
  {
   "cell_type": "code",
   "execution_count": null,
   "id": "31319620",
   "metadata": {},
   "outputs": [],
   "source": [
    "#Intern at Pranathi\n",
    "#Student of DataTrained - Saurav\n",
    "#Date -30-3-2023\n",
    "#Time -14:40"
   ]
  }
 ],
 "metadata": {
  "kernelspec": {
   "display_name": "Python 3 (ipykernel)",
   "language": "python",
   "name": "python3"
  },
  "language_info": {
   "codemirror_mode": {
    "name": "ipython",
    "version": 3
   },
   "file_extension": ".py",
   "mimetype": "text/x-python",
   "name": "python",
   "nbconvert_exporter": "python",
   "pygments_lexer": "ipython3",
   "version": "3.9.13"
  }
 },
 "nbformat": 4,
 "nbformat_minor": 5
}
