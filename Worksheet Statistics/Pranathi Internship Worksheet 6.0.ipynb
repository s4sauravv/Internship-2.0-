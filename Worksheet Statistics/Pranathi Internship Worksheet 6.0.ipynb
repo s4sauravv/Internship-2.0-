{
 "cells": [
  {
   "cell_type": "markdown",
   "id": "73f0d2e7",
   "metadata": {},
   "source": [
    "# Problem Statement 1:\n",
    "Blood glucose levels for obese patients have a mean of 100 with a standard deviation of\n",
    "15. A researcher thinks that a diet high in raw cornstarch will have a positive effect on\n",
    "blood glucose levels. A sample of 36 patients who have tried the raw cornstarch diet\n",
    "have a mean glucose level of 108. Test the hypothesis that the raw cornstarch had an\n",
    "effect or not.\n"
   ]
  },
  {
   "cell_type": "markdown",
   "id": "fd522ad7",
   "metadata": {},
   "source": [
    "    Answer\n",
    "\n",
    "To test the hypothesis, we need to perform a hypothesis test using a t-test.\n",
    "\n",
    "Null Hypothesis: The raw cornstarch diet has no effect on blood glucose levels.\n",
    "\n",
    "\n",
    "Alternative Hypothesis: The raw cornstarch diet has a positive effect on blood glucose levels.\n",
    "\n",
    "We can use a one-sample t-test since we are comparing the mean glucose level of the sample of 36 patients to the population mean.\n",
    "\n",
    "\n",
    "\n",
    "\n",
    "\n",
    "\n",
    "\n",
    "\n",
    "\n"
   ]
  },
  {
   "cell_type": "code",
   "execution_count": 4,
   "id": "f7163b34",
   "metadata": {},
   "outputs": [],
   "source": [
    "from scipy.stats import norm\n",
    "import numpy as np\n",
    "import math\n",
    "import scipy.stats as stats\n",
    "from scipy.stats import chi2_contingency"
   ]
  },
  {
   "cell_type": "code",
   "execution_count": 7,
   "id": "3fccba4c",
   "metadata": {},
   "outputs": [
    {
     "data": {
      "text/plain": [
       "-2.030107928250343"
      ]
     },
     "execution_count": 7,
     "metadata": {},
     "output_type": "execute_result"
    }
   ],
   "source": [
    "#The t-statistic can be calculated as follows:\n",
    "import numpy as np\n",
    "alpha=0.05\n",
    "#t = (sample mean - population mean) / (standard deviation / sqrt(sample size))\n",
    "t = (108 - 100) / (15 / np.sqrt(36))\n",
    "t\n",
    "\n",
    "stats.t.ppf((alpha/2),df=35)"
   ]
  },
  {
   "cell_type": "markdown",
   "id": "831610db",
   "metadata": {},
   "source": [
    "Using a t-distribution table with 35 degrees of freedom (sample size - 1), we find that the p-value for a two-tailed test is less than 0.001.\n",
    "\n",
    "Since the p-value is less than the significance level of 0.05, we reject the null hypothesis and conclude that the raw cornstarch diet has a statistically significant positive effect on blood glucose levels."
   ]
  },
  {
   "cell_type": "markdown",
   "id": "c760f85f",
   "metadata": {},
   "source": [
    "# Problem Statement 2:\n",
    "In one state, 52% of the voters are Republicans, and 48% are Democrats. In a second\n",
    "state, 47% of the voters are Republicans, and 53% are Democrats. Suppose a simple\n",
    "random sample of 100 voters are surveyed from each state.\n",
    "What is the probability that the survey will show a greater percentage of Republican\n",
    "voters in the second state than in the first state?"
   ]
  },
  {
   "cell_type": "markdown",
   "id": "a15033e7",
   "metadata": {},
   "source": [
    "    Ans \n",
    "\n",
    "To solve this problem, we need to calculate the sampling distribution of the difference in sample proportions between the two states, assuming that the null hypothesis of equal proportions is true. We can use the Central Limit Theorem to approximate the sampling distribution as a normal distribution, with mean equal to the difference in population proportions and standard deviation equal to the square root of the sum of the variances of the two sample proportions.\n",
    "\n",
    "The probability that the survey will show a greater percentage of Republican voters in the second state than in the first state is equivalent to the probability that the difference in sample proportions is greater than zero. We can calculate this probability using the standard normal distribution."
   ]
  },
  {
   "cell_type": "code",
   "execution_count": 21,
   "id": "186127ce",
   "metadata": {},
   "outputs": [
    {
     "name": "stdout",
     "output_type": "stream",
     "text": [
      "The probability that the survey will show a greater percentage of Republican voters in the second state than in the first state is: 0.7605\n"
     ]
    }
   ],
   "source": [
    "# Population proportions\n",
    "p1 = 0.52\n",
    "p2 = 0.47\n",
    "\n",
    "# Sample sizes\n",
    "n1 = 100\n",
    "n2 = 100\n",
    "\n",
    "# Difference in sample proportions\n",
    "p_diff = p2 - p1\n",
    "\n",
    "# Standard deviation of sampling distribution\n",
    "se = np.sqrt((p1*(1-p1))/n1 + (p2*(1-p2))/n2)\n",
    "\n",
    "# Z-score\n",
    "z = p_diff / se\n",
    "\n",
    "# Probability of z-score\n",
    "prob = 1 - stats.norm.cdf(z)\n",
    "\n",
    "print(\"The probability that the survey will show a greater percentage of Republican voters in the second state than in the first state is:\", round(prob, 4))\n"
   ]
  },
  {
   "cell_type": "markdown",
   "id": "822ef724",
   "metadata": {},
   "source": [
    "# Problem Statement 3:\n",
    "You take the SAT and score 1100. The mean score for the SAT is 1026 and the standard\n",
    "deviation is 209. How well did you score on the test compared to the average test taker?"
   ]
  },
  {
   "cell_type": "markdown",
   "id": "9d60f1e2",
   "metadata": {},
   "source": [
    "To determine how well you scored on the test compared to the average test taker, we can calculate your z-score using the formula:\n",
    "\n",
    "\n",
    "z = (x - μ) / σ\n",
    "\n",
    "\n",
    "where x is your SAT score, μ is the mean SAT score, and σ is the standard deviation of the SAT scores.\n",
    "\n",
    "\n",
    "\n",
    "\n",
    "\n",
    "\n"
   ]
  },
  {
   "cell_type": "code",
   "execution_count": 13,
   "id": "eccb647b",
   "metadata": {},
   "outputs": [
    {
     "data": {
      "text/plain": [
       "0.35406698564593303"
      ]
     },
     "execution_count": 13,
     "metadata": {},
     "output_type": "execute_result"
    }
   ],
   "source": [
    "#Substituting the given values, we get:\n",
    "z = (1100 - 1026) / 209\n"
   ]
  },
  {
   "cell_type": "markdown",
   "id": "957b6e2d",
   "metadata": {},
   "source": [
    "This means that your SAT score is 0.3541 standard deviations above the mean SAT score.\n",
    "\n",
    "\n",
    "To interpret this result, we can use a standard normal distribution table or calculator to find the proportion of the population that falls below a z-score of 0.3541.\n",
    "\n",
    "\n",
    "\n",
    "Using the table, we find that the proportion is 0.6368, which is approximately 63.68%.\n",
    "\n",
    "\n",
    "\n",
    "Therefore, you scored better than approximately 63.68% of the test takers who took the SAT.\n"
   ]
  },
  {
   "cell_type": "code",
   "execution_count": null,
   "id": "aca88ee4",
   "metadata": {},
   "outputs": [],
   "source": [
    "#Intern of Pranathi\n",
    "#Student of DataTrained - Saurav\n",
    "#Date - 28-03-2023\n",
    "#Time -> 17:37"
   ]
  },
  {
   "cell_type": "code",
   "execution_count": null,
   "id": "1ae39629",
   "metadata": {},
   "outputs": [],
   "source": []
  }
 ],
 "metadata": {
  "kernelspec": {
   "display_name": "Python 3 (ipykernel)",
   "language": "python",
   "name": "python3"
  },
  "language_info": {
   "codemirror_mode": {
    "name": "ipython",
    "version": 3
   },
   "file_extension": ".py",
   "mimetype": "text/x-python",
   "name": "python",
   "nbconvert_exporter": "python",
   "pygments_lexer": "ipython3",
   "version": "3.9.13"
  }
 },
 "nbformat": 4,
 "nbformat_minor": 5
}
