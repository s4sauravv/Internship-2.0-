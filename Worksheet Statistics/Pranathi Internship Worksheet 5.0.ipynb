{
 "cells": [
  {
   "cell_type": "markdown",
   "id": "10adc7a3",
   "metadata": {},
   "source": [
    "# Problem Statement 1:\n",
    "\n",
    "\n",
    "In each of the following situations, state whether it is a correctly stated hypothesis\n",
    "testing problem and why?\n",
    "\n",
    "\n",
    "1. 𝐻0: 𝜇 = 25, 𝐻1: 𝜇 ≠ 25\n",
    "\n",
    "\n",
    "2. 𝐻0: 𝜎 > 10, 𝐻1: 𝜎 = 10\n",
    "\n",
    "\n",
    "3. 𝐻0: 𝑥 = 50, 𝐻1: 𝑥 ≠ 50\n",
    "\n",
    "\n",
    "4. 𝐻0: 𝑝 = 0.1, 𝐻1: 𝑝 = 0.5\n",
    "\n",
    "\n",
    "5. 𝐻0: 𝑠 = 30, 𝐻1: 𝑠 > 30"
   ]
  },
  {
   "cell_type": "markdown",
   "id": "b7e7530c",
   "metadata": {},
   "source": [
    "# 𝐻0: 𝜇 = 25, 𝐻1: 𝜇 ≠ 25\n",
    "\n",
    "Yes, this is a correctly stated hypothesis testing problem.\n",
    "\n",
    "𝐻0: 𝜇 = 25 is the null hypothesis which states that the population mean is equal to 25.\n",
    "\n",
    "\n",
    "𝐻1: 𝜇 ≠ 25 is the alternative hypothesis which states that the population mean is not equal to 25.\n",
    "\n",
    "\n",
    "The null hypothesis always represents the assumption that we are trying to test, while the alternative hypothesis represents the opposite of the null hypothesis. In this case, we are testing whether the population mean is equal to 25 or not.\n",
    "\n",
    "The null hypothesis is usually tested against the alternative hypothesis using some statistical test, and based on the outcome of the test, we can either reject or fail to reject the null hypothesis."
   ]
  },
  {
   "cell_type": "markdown",
   "id": "95c7fc57",
   "metadata": {},
   "source": [
    "# 𝐻0: 𝜎 > 10, 𝐻1: 𝜎 = 10\n",
    "\n",
    "No, this is not a correctly stated hypothesis testing problem.\n",
    "\n",
    "The null hypothesis 𝐻0 should always include an equality sign, which represents the assumption  that we are testing. The alternative hypothesis should always represent the opposite of the null hypothesis.\n",
    "\n",
    "In this case, 𝐻0: 𝜎 > 10 means that the population standard deviation is greater than 10. This is not an assumption that can be directly tested using statistical tests. Moreover, the alternative hypothesis 𝐻1: 𝜎 = 10 means that the population standard deviation is exactly equal to 10, which is unlikely to be true.\n",
    "\n",
    "A correctly stated hypothesis testing problem for testing the population standard deviation would be:\n",
    "\n",
    "𝐻0: 𝜎 = 10 (null hypothesis: population standard deviation is equal to 10)\n",
    "\n",
    "\n",
    "𝐻1: 𝜎 ≠ 10 (alternative hypothesis: population standard deviation is not equal to 10)\n",
    "\n",
    "\n",
    "\n",
    "In this case, we are testing whether the population standard deviation is equal to 10 or not, and we can use statistical tests such as the chi-square test or the F-test to test the null hypothesis against the alternative hypothesis."
   ]
  },
  {
   "cell_type": "markdown",
   "id": "b8c00c9f",
   "metadata": {},
   "source": [
    "# 𝐻0: 𝑥 = 50, 𝐻1: 𝑥 ≠ 50\n",
    "\n",
    "\n",
    "No, this is not a correctly stated hypothesis testing problem.\n",
    "\n",
    "The symbol 𝑥 usually represents a sample statistic, such as the sample mean or sample proportion, while 𝜇 represents the population mean. In hypothesis testing, we are usually interested in making inferences about the population parameters based on the sample statistics.\n",
    "\n",
    "In this case, 𝐻0: 𝑥 = 50 means that the sample mean is equal to 50. However, this does not provide any information about the population mean, which is what we are interested in testing. Moreover, the alternative hypothesis 𝐻1: 𝑥 ≠ 50 means that the sample mean is not equal to 50, which is always true to some extent due to sampling variability.\n",
    "\n",
    "A correctly stated hypothesis testing problem would be:\n",
    "\n",
    "𝐻0: 𝜇 = 50 (null hypothesis: population mean is equal to 50)\n",
    "\n",
    "\n",
    "𝐻1: 𝜇 ≠ 50 (alternative hypothesis: population mean is not equal to 50)\n",
    "\n",
    "\n",
    "In this case, we are testing whether the population mean is equal to 50 or not, based on the sample statistics. We can use statistical tests such as the t-test or z-test to test the null hypothesis against the alternative hypothesis."
   ]
  },
  {
   "cell_type": "markdown",
   "id": "b4951395",
   "metadata": {},
   "source": [
    "# 𝐻0: 𝑝 = 0.1, 𝐻1: 𝑝 = 0.5\n",
    "\n",
    "\n",
    "\n",
    "Yes, this is a correctly stated hypothesis testing problem.\n",
    "\n",
    "𝐻0: 𝑝 = 0.1 is the null hypothesis, which states that the population proportion is equal to 0.1.\n",
    "\n",
    "\n",
    "\n",
    "𝐻1: 𝑝 = 0.5 is the alternative hypothesis, which states that the population proportion is equal to 0.5.\n",
    "\n",
    "\n",
    "\n",
    "This hypothesis testing problem involves testing the null hypothesis that the population proportion is 0.1 against the alternative hypothesis that the population proportion is 0.5. The symbol 𝑝 represents the population proportion, which is the proportion of individuals in a population that have a certain characteristic or meet a certain criterion.\n",
    "\n",
    "We can use statistical tests such as the z-test or the chi-square test to test the null hypothesis against the alternative hypothesis. The outcome of the test will help us decide whether to reject or fail to reject the null hypothesis."
   ]
  },
  {
   "cell_type": "markdown",
   "id": "bfba2563",
   "metadata": {},
   "source": [
    "# 𝐻0: 𝑠 = 30, 𝐻1: 𝑠 > 30\n",
    "\n",
    "\n",
    "No, this is not a correctly stated hypothesis testing problem.\n",
    "\n",
    "The symbol 𝑠 usually represents the sample standard deviation, while 𝜎 represents the population standard deviation. In hypothesis testing, we are usually interested in making inferences about the population parameters based on the sample statistics.\n",
    "\n",
    "In this case, 𝐻0: 𝑠 = 30 means that the sample standard deviation is equal to 30. However, this does not provide any information about the population standard deviation, which is what we are interested in testing. Moreover, the alternative hypothesis 𝐻1: 𝑠 > 30 means that the sample standard deviation is greater than 30, which is always true to some extent due to sampling variability.\n",
    "\n",
    "A correctly stated hypothesis testing problem would be:\n",
    "\n",
    "𝐻0: 𝜎 = 30 (null hypothesis: population standard deviation is equal to 30)\n",
    "\n",
    "\n",
    "\n",
    "𝐻1: 𝜎 > 30 (alternative hypothesis: population standard deviation is greater than 30)\n",
    "\n",
    "\n",
    "\n",
    "In this case, we are testing whether the population standard deviation is equal to 30 or greater than 30, based on the sample statistics. We can use statistical tests such as the chi-square test or the F-test to test the null hypothesis against the alternative hypothesis."
   ]
  },
  {
   "cell_type": "markdown",
   "id": "d6af49cb",
   "metadata": {},
   "source": [
    "# Problem Statement 2:\n",
    "\n",
    "\n",
    "The college bookstore tells prospective students that the average cost of its textbooks is Rs. 52 with a standard deviation of Rs. 4.50. A group of smart statistics students thinks that the average cost is higher. To test the bookstore’s claim against their alternative, the students will select a random sample of size 100. Assume that the mean from their random sample is Rs. 52.80. Perform a hypothesis test at the 5% level of significance and state your decision."
   ]
  },
  {
   "cell_type": "code",
   "execution_count": 6,
   "id": "7f5a1b2a",
   "metadata": {},
   "outputs": [
    {
     "name": "stdout",
     "output_type": "stream",
     "text": [
      "Z score is:1.7777777777777715\n",
      "Critical region is -1.9599639845400545, 1.9599639845400545\n"
     ]
    }
   ],
   "source": [
    "from scipy.stats import norm\n",
    "import numpy as np\n",
    "import math\n",
    "import scipy.stats as stats\n",
    "from scipy.stats import chi2_contingency\n",
    "\n",
    "p_mean = 52\n",
    "p_std = 4.50\n",
    "n = 100\n",
    "sample_mean = 52.80\n",
    "\n",
    "SE = p_std/n**0.5\n",
    "Z = (sample_mean-p_mean)/SE\n",
    "print(f\"Z score is:{Z}\")\n",
    "alpha=0.05  #test_significance\n",
    "print(f\"Critical region is {norm.ppf(alpha/2)}, {-norm.ppf(alpha/2)}\") #Percent Point Function"
   ]
  },
  {
   "cell_type": "markdown",
   "id": "e819282f",
   "metadata": {},
   "source": [
    "From above we can conclude we can accept null hypothesis since z_score<critical region"
   ]
  },
  {
   "cell_type": "markdown",
   "id": "e7dfad4e",
   "metadata": {},
   "source": [
    "# Problem Statement 3:\n",
    "A certain chemical pollutant in the Genesee River has been constant for several\n",
    "years with mean μ = 34 ppm (parts per million) and standard deviation σ = 8 ppm. A\n",
    "group of factory representatives whose companies discharge liquids into the river is\n",
    "now claiming that they have lowered the average with improved filtration devices. A\n",
    "group of environmentalists will test to see if this is true at the 1% level of\n",
    "significance. Assume \\ that their sample of size 50 gives a mean of 32.5 ppm.\n",
    "Perform a hypothesis test at the 1% level of significance and state your decision."
   ]
  },
  {
   "cell_type": "code",
   "execution_count": 7,
   "id": "1d58d2a1",
   "metadata": {},
   "outputs": [
    {
     "name": "stdout",
     "output_type": "stream",
     "text": [
      "Z score is:-1.3258252147247767\n",
      "Critical region is -2.575829303548901, 2.575829303548901\n"
     ]
    }
   ],
   "source": [
    "p_mean = 34\n",
    "p_std = 8\n",
    "n = 50\n",
    "sample_mean = 32.5\n",
    "\n",
    "SE = p_std/n**0.5   #standard Error\n",
    "Z = (sample_mean-p_mean)/SE\n",
    "print(f\"Z score is:{Z}\")\n",
    "alpha=0.01\n",
    "print(f\"Critical region is {norm.ppf(alpha/2)}, {-norm.ppf(alpha/2)}\")"
   ]
  },
  {
   "cell_type": "markdown",
   "id": "9292154f",
   "metadata": {},
   "source": [
    "From above we can conclude we can accept null hypothesis since critical_region<Z_score"
   ]
  },
  {
   "cell_type": "markdown",
   "id": "8b3cda95",
   "metadata": {},
   "source": [
    "# Problem Statement 4:\n",
    "\n",
    "\n",
    "Based on population figures and other general information on the U.S. population,\n",
    "suppose it has been estimated that, on average, a family of four in the U.S. spends\n",
    "about $1135 annually on dental expenditures. Suppose further that a regional dental\n",
    "association wants to test to determine if this figure is accurate for their area of\n",
    "country. To test this, 22 families of 4 are randomly selected from the population in\n",
    "that area of the country and a log is kept of the family’s dental expenditure for one\n",
    "year. The resulting data are given below. Assuming, that dental expenditure is\n",
    "normally distributed in the population, use the data and an alpha of 0.5 to test the\n",
    "dental association’s hypothesis.\n",
    "\n",
    "\n",
    "\n",
    "1008, 812, 1117, 1323, 1308, 1415, 831, 1021, 1287, 851, 930, 730, 699,\n",
    "872, 913, 944, 954, 987, 1695, 995, 1003, 994"
   ]
  },
  {
   "cell_type": "code",
   "execution_count": 99,
   "id": "71436bbe",
   "metadata": {},
   "outputs": [
    {
     "name": "stdout",
     "output_type": "stream",
     "text": [
      "t_Score is-2.070747228595759\n",
      "Critical Region is -0.6863519891164291 0.6863519891164291\n"
     ]
    }
   ],
   "source": [
    "given_data=[1323, 1308, 1415, 831, 1021, 1287, 851, 930, 730, 699, 872, 913, 944, 954, 987, 1695, 995, 1003, 994]\n",
    "p_mean =1135\n",
    "sample_std = np.std(given_data)\n",
    "n=22\n",
    "sample_mean = np.sum(given_data,axis=0)/len(given_data)\n",
    "SE = sample_std/n**0.5\n",
    "alpha = 0.5\n",
    "test_1 = (sample_mean-p_mean)/SE\n",
    "print(f\"t_Score is{test_1}\")\n",
    "print(f\"Critical Region is {stats.t.ppf((alpha/2),df=21)} {stats.t.ppf(1-(alpha/2),df=21)}\")"
   ]
  },
  {
   "cell_type": "markdown",
   "id": "2ac33858",
   "metadata": {},
   "source": [
    "We reject null hypothesis alpha=0.5 since it lies within critical region"
   ]
  },
  {
   "cell_type": "markdown",
   "id": "e9b93698",
   "metadata": {},
   "source": [
    "# Problem Statement 5:\n",
    "In a report prepared by the Economic Research Department of a major bank the\n",
    "Department manager maintains that the average annual family income on Metropolis\n",
    "is 48,432. What do you conclude about the validity of the report if a random sample\n",
    "of 400 families shows and average income of 48,574 with a standard deviation of\n",
    "2000?\n"
   ]
  },
  {
   "cell_type": "code",
   "execution_count": 103,
   "id": "d4e38b6d",
   "metadata": {},
   "outputs": [
    {
     "name": "stdout",
     "output_type": "stream",
     "text": [
      "Critical region is -1.9599639845400545 1.9599639845400545\n"
     ]
    }
   ],
   "source": [
    "p_mean = 48432\n",
    "p_std = 2000\n",
    "n =400\n",
    "sample_mean =48574\n",
    "\n",
    "SE = p_std/n**0.5\n",
    "Z = (sample_mean-p_mean)/SE\n",
    "alpha=0.05\n",
    "print(f\"Critical region is {st.norm.ppf(alpha/2)} {-st.norm.ppf(alpha/2)}\")#Percent point function"
   ]
  },
  {
   "cell_type": "markdown",
   "id": "80ff0857",
   "metadata": {},
   "source": [
    "We accept null hypothesis at alpha=0.05 since z_score<critical_region"
   ]
  },
  {
   "cell_type": "markdown",
   "id": "acbd39d5",
   "metadata": {},
   "source": [
    "# Problem Statement 6:\n",
    "Suppose that in past years the average price per square foot for warehouses in the\n",
    "United States has been  32.28. A national real estate investor wants to determine\n",
    "whether that figure has changed now. The investor hires a researcher who randomly\n",
    "samples 19 warehouses that are for sale across the United States and finds that the\n",
    "mean price per square foot is 31.67, with a standard deviation of $1.29. assume\n",
    "that the prices of warehouse footage are normally distributed in population. If the\n",
    "researcher uses a 5% level of significance, what statistical conclusion can be\n",
    "reached? What are the hypotheses?"
   ]
  },
  {
   "cell_type": "markdown",
   "id": "e51508e4",
   "metadata": {},
   "source": [
    "# Critical Value Formula\n",
    "t = [x – μ] / [s / √ (n)]"
   ]
  },
  {
   "cell_type": "code",
   "execution_count": 29,
   "id": "a8c9fa1d",
   "metadata": {},
   "outputs": [
    {
     "name": "stdout",
     "output_type": "stream",
     "text": [
      "t_score is -2.06\n",
      "Critical region is -2.1 2.1\n"
     ]
    }
   ],
   "source": [
    "p_mean =32.28\n",
    "n=19\n",
    "sample_mean =31.67\n",
    "sample_std =1.29\n",
    "alpha =0.05\n",
    "\n",
    "SE=sample_std/(n**0.5)\n",
    "t=(sample_mean-p_mean)/SE\n",
    "print(f\"t_score is {round((t),2)}\")\n",
    "print(f\"Critical region is {round(stats.t.ppf((alpha/2),df=18),2)} {-round(stats.t.ppf((alpha/2),df=18),2)}\")#Percent point function"
   ]
  },
  {
   "cell_type": "markdown",
   "id": "fb9eed13",
   "metadata": {},
   "source": [
    "Since the test statistic (-2.06) is greater than the critical value (-2.1), we fail to reject the null hypothesis. There is not enough evidence to conclude that the population mean price per square foot for warehouses has changed from $32.28."
   ]
  },
  {
   "cell_type": "markdown",
   "id": "80668732",
   "metadata": {},
   "source": [
    "# Problem Statement 7:\n",
    "Fill in the blank spaces in the table and draw your conclusions from it"
   ]
  },
  {
   "attachments": {
    "image.png": {
     "image/png": "[encoded data removed]"
    }
   },
   "cell_type": "markdown",
   "id": "d9cd35c6",
   "metadata": {},
   "source": [
    "![image.png](attachment:image.png)"
   ]
  },
  {
   "cell_type": "markdown",
   "id": "2001b85b",
   "metadata": {},
   "source": [
    "# Problem Statement 8:\n",
    "\n",
    "\n",
    "Find the t-score for a sample size of 16 taken from a population with mean 10 when\n",
    "the sample mean is 12 and the sample standard deviation is 1.5."
   ]
  },
  {
   "cell_type": "code",
   "execution_count": 33,
   "id": "5f208580",
   "metadata": {},
   "outputs": [
    {
     "data": {
      "text/plain": [
       "5.333333333333333"
      ]
     },
     "execution_count": 33,
     "metadata": {},
     "output_type": "execute_result"
    }
   ],
   "source": [
    "sample_mean=12\n",
    "mean=10\n",
    "std=1.5\n",
    "sample_size=16\n",
    "\n",
    "t=(sample_mean-mean)/(std/np.sqrt(16))\n",
    "t"
   ]
  },
  {
   "cell_type": "markdown",
   "id": "893fd8db",
   "metadata": {},
   "source": [
    "Therefore, the t-score for this sample is 5.33."
   ]
  },
  {
   "cell_type": "markdown",
   "id": "1e12b03c",
   "metadata": {},
   "source": [
    "# Problem Statement 9:\n",
    "\n",
    "Find the t-score below which we can expect 99% of sample means will fall if samples\n",
    "of size 16 are taken from a normally distributed population."
   ]
  },
  {
   "cell_type": "markdown",
   "id": "bb4ca5b3",
   "metadata": {},
   "source": [
    "We need to use the t-distribution table and look for the value of t such that the area to the left of it under the t-distribution curve is 0.005, since we want to find the t-score below which 99% of the sample means will fall.\n",
    "\n",
    "Using a table or calculator, with 15 degrees of freedom (n-1=16-1), we find that the t-value for a one-tailed test with a probability of 0.005 is approximately 2.947.\n",
    "\n",
    "Therefore, the t-score below which we can expect 99% of sample means will fall if samples of size 16 are taken from a normally distributed population is approximately -2.947 (since it is a one-tailed test)."
   ]
  },
  {
   "cell_type": "code",
   "execution_count": 35,
   "id": "99733b84",
   "metadata": {},
   "outputs": [
    {
     "name": "stdout",
     "output_type": "stream",
     "text": [
      "T Score is  {2.946712883338615}\n"
     ]
    }
   ],
   "source": [
    "sample_size=16\n",
    "\n",
    "alpha=(1-0.99)/2\n",
    "\n",
    "print(\"T Score is \",{stats.t.ppf(1-alpha,df=15)})\n",
    "\n"
   ]
  },
  {
   "cell_type": "markdown",
   "id": "d373e391",
   "metadata": {},
   "source": [
    "# Problem Statement 10:\n",
    "If a random sample of size 25 drawn from a normal population gives a mean of 60\n",
    "and a standard deviation of 4, find the range of t-scores where we can expect to find\n",
    "the middle 95% of all sample means. Compute the probability that (−𝑡0.05 <𝑡<𝑡0.10).\n"
   ]
  },
  {
   "cell_type": "code",
   "execution_count": 36,
   "id": "632478e7",
   "metadata": {},
   "outputs": [
    {
     "name": "stdout",
     "output_type": "stream",
     "text": [
      "Range is : 61.651118849302414 58.348881150697586\n"
     ]
    }
   ],
   "source": [
    "n=25\n",
    "std=4\n",
    "mean=60\n",
    "alpha=(1-0.95)/2\n",
    "t_score=stats.t.ppf(1-alpha,df=24)\n",
    "print(f\"Range is : {mean+t_score*(std/(n**0.5))} {mean-t_score*(std/(n**0.5))}\")"
   ]
  },
  {
   "cell_type": "code",
   "execution_count": 37,
   "id": "758799ae",
   "metadata": {},
   "outputs": [
    {
     "name": "stdout",
     "output_type": "stream",
     "text": [
      "probability that (−𝑡0.05 <𝑡<𝑡0.10) is 0.05914441613731247\n"
     ]
    }
   ],
   "source": [
    "p=stats.t.cdf(0.1,df=24)-stats.t.cdf(-0.05,df=24)\n",
    "print(f\"probability that (−𝑡0.05 <𝑡<𝑡0.10) is {p}\")"
   ]
  },
  {
   "cell_type": "markdown",
   "id": "152df479",
   "metadata": {},
   "source": [
    "# Problem Statement 11:\n",
    "Two-tailed test for difference between two population means\n",
    "Is there evidence to conclude that the number of people travelling from Bangalore to\n",
    "Chennai is different from the number of people travelling from Bangalore to Hosur in\n",
    "a week, given the following:\n",
    "\n",
    "\n",
    "Population 1: Bangalore to Chennai  n1 = 1200\n",
    "\n",
    "\n",
    "x1 = 452\n",
    "\n",
    "\n",
    "s1 = 212\n",
    "\n",
    "\n",
    "Population 2: Bangalore to Hosur  n2 = 800\n",
    "\n",
    "\n",
    "x2 = 523\n",
    "\n",
    "\n",
    "s2 = 185\n"
   ]
  },
  {
   "cell_type": "code",
   "execution_count": 96,
   "id": "8e561deb",
   "metadata": {},
   "outputs": [
    {
     "name": "stdout",
     "output_type": "stream",
     "text": [
      "Z_Score is -7.926428526759299\n",
      "Critical region is -1.9599639845400545 1.9599639845400545\n"
     ]
    }
   ],
   "source": [
    "sample1_mean=452\n",
    "sample2_mean=523\n",
    "number_of_peoples1=1200\n",
    "number_of_peoples2=800\n",
    "\n",
    "sample_std1=212\n",
    "sample_std2=185\n",
    "alpha=0.05\n",
    "\n",
    "\n",
    "#Substituting the given values, we have:\n",
    "t = (sample1_mean - sample2_mean) / np.sqrt((sample_std1**2 / number_of_peoples1) + (sample_std2**2 / number_of_peoples2))\n",
    "\n",
    "t\n",
    "#The degrees of freedom for the t-distribution are given by:\n",
    "#df = (s1^2 / n1 + s2^2 / n2)^2 / ((s1^2 / n1)^2 / (n1 - 1) + (s2^2 / n2)^2 / (n2 - 1))\n",
    "print(f\"Z_Score is {t}\")\n",
    "print(f\"Critical region is {st.norm.ppf(alpha/2)} {-st.norm.ppf(alpha/2)}\")#Person Point Function"
   ]
  },
  {
   "cell_type": "markdown",
   "id": "8096b4f4",
   "metadata": {},
   "source": [
    "# Problem Statement 12:\n",
    "Is there evidence to conclude that the number of people preferring Duracell battery is\n",
    "different from the number of people preferring Energizer battery, given the following:\n",
    "\n",
    "Population 1: Duracell\n",
    "\n",
    "\n",
    "n1 = 100\n",
    "\n",
    "\n",
    "x1 = 308\n",
    "\n",
    "\n",
    "s1 = 84\n",
    "\n",
    "\n",
    "Population 2: Energizer\n",
    "\n",
    "\n",
    "n2 = 100\n",
    "\n",
    "\n",
    "x2 = 254\n",
    "\n",
    "\n",
    "s2 = 67\n"
   ]
  },
  {
   "cell_type": "code",
   "execution_count": 47,
   "id": "17be0dfd",
   "metadata": {},
   "outputs": [
    {
     "name": "stdout",
     "output_type": "stream",
     "text": [
      "Z_Score is 19.358262129888516\n",
      "Critical region is -1.9599639845400545 1.9599639845400545\n"
     ]
    }
   ],
   "source": [
    "sample1_mean=308\n",
    "sample2_mean=100\n",
    "number_of_peoples1=100\n",
    "number_of_peoples2=100\n",
    "\n",
    "sample_std1=84\n",
    "sample_std2=67\n",
    "alpha=0.05\n",
    "\n",
    "\n",
    "#Substituting the given values, we have:\n",
    "t = (sample1_mean - sample2_mean) / np.sqrt((sample_std1**2 / number_of_peoples1) + (sample_std2**2 / number_of_peoples2))\n",
    "\n",
    "t\n",
    "#The degrees of freedom for the t-distribution are given by:\n",
    "#df = (s1^2 / n1 + s2^2 / n2)^2 / ((s1^2 / n1)^2 / (n1 - 1) + (s2^2 / n2)^2 / (n2 - 1))\n",
    "print(f\"Z_Score is {t}\")\n",
    "print(f\"Critical region is {st.norm.ppf(alpha/2)} {-st.norm.ppf(alpha/2)}\")"
   ]
  },
  {
   "cell_type": "markdown",
   "id": "e9fc74b2",
   "metadata": {},
   "source": [
    "We reject null hypothesis since it lies within critical region at alpha=5%.So, number of people preferring Duracell battery is different from the number of people preferring Energizer battery"
   ]
  },
  {
   "cell_type": "markdown",
   "id": "6c7f2a9b",
   "metadata": {},
   "source": [
    "# Problem Statement 13:\n",
    "Pooled estimate of the population variance\n",
    "Does the data provide sufficient evidence to conclude that average percentage\n",
    "increase in the price of sugar differs when it is sold at two different prices?\n",
    "\n",
    "\n",
    "Population 1: Price of sugar = Rs. 27.50\n",
    "\n",
    "\n",
    "n1 = 14\n",
    "\n",
    "\n",
    "x1 = 0.317%\n",
    "\n",
    "\n",
    "s1 = 0.12%\n",
    "\n",
    "\n",
    "Population 2: Price of sugar = Rs. 20.00 \n",
    "\n",
    "n2 = 9\n",
    "\n",
    "\n",
    "x2 = 0.21%\n",
    "\n",
    "\n",
    "s2 = 0.11%"
   ]
  },
  {
   "cell_type": "code",
   "execution_count": 60,
   "id": "42c74908",
   "metadata": {},
   "outputs": [
    {
     "name": "stdout",
     "output_type": "stream",
     "text": [
      "T_score is 0.3931089218182991\n",
      "Critical Region is 1.7207429028118775\n"
     ]
    }
   ],
   "source": [
    "n1 = 14 \n",
    "x1 = 0.317\n",
    "s1 = 0.12 \n",
    "n2 = 9 \n",
    "x2 = 0.21 \n",
    "s2 = 0.11\n",
    "s_1=s1**2\n",
    "s_2=s2**2\n",
    "s=((n1-1)*s_1)+((n2-1)*s_2)\n",
    "n=(n1+n2-2)\n",
    "se=(s/n)**0.5\n",
    "n_1=((1/n1)+(1/n2))**0.5\n",
    "t_score=(x1-x2)/se*n_1\n",
    "\n",
    "print(f\"T_score is {t_score}\")\n",
    "print(f\"Critical Region is {stats.t.ppf(1-0.05,df=n)}\")"
   ]
  },
  {
   "cell_type": "markdown",
   "id": "633385f9",
   "metadata": {},
   "source": [
    "We accept null hypothesis at alpha=5%.So,average price do not increase"
   ]
  },
  {
   "cell_type": "markdown",
   "id": "0b7aa762",
   "metadata": {},
   "source": [
    "# Problem Statement 14:\n",
    "The manufacturers of compact disk players want to test whether a small price\n",
    "reduction is enough to increase sales of their product. Is there evidence that the\n",
    "small price reduction is enough to increase sales of compact disk players?\n",
    "\n",
    "\n",
    "Population 1: Before reduction\n",
    "\n",
    "\n",
    "n1 = 15\n",
    "\n",
    "\n",
    "x1 = Rs. 6598 \n",
    "\n",
    "\n",
    "s1 = Rs. 844\n",
    "\n",
    "\n",
    "Population 2: After reduction\n",
    "\n",
    "n2 = 12\n",
    "\n",
    "\n",
    "x2 = RS. 6870\n",
    "\n",
    "\n",
    "s2 = Rs. 669"
   ]
  },
  {
   "cell_type": "code",
   "execution_count": 67,
   "id": "17a27fca",
   "metadata": {},
   "outputs": [
    {
     "name": "stdout",
     "output_type": "stream",
     "text": [
      "T_score is -0.1364745051598569\n",
      "Critical Region is -1.708140761251899\n"
     ]
    }
   ],
   "source": [
    "n1 = 15 \n",
    "x1 = 6598 \n",
    "s1 = 844 \n",
    "n2 = 12 \n",
    "x2 = 6870 \n",
    "s2 = 669\n",
    "s_1=s1**2\n",
    "s_2=s2**2\n",
    "\n",
    "s=((n1-1)*s_1)+((n2-1)*s_2)\n",
    "n=(n1+n2-2)\n",
    "se=(s/n)**0.5\n",
    "n_1=((1/n1)+(1/n2))**0.5\n",
    "t_score=(x1-x2)/se*n_1\n",
    "\n",
    "print(f\"T_score is {t_score}\")\n",
    "print(f\"Critical Region is {stats.t.ppf(0.05,df=n)}\")"
   ]
  },
  {
   "cell_type": "markdown",
   "id": "de588254",
   "metadata": {},
   "source": [
    "We accept null hypothesis at alpha=5%.So average price remains same"
   ]
  },
  {
   "cell_type": "markdown",
   "id": "4eeea219",
   "metadata": {},
   "source": [
    "# Problem Statement 15:\n",
    "\n",
    "\n",
    "\n",
    "Comparisons of two population proportions when the hypothesized difference is zero\n",
    "Carry out a two-tailed test of the equality of banks’ share of the car loan market in\n",
    "1980 and 1995.\n",
    "\n",
    "\n",
    "Population 1: 1980\n",
    "\n",
    "\n",
    "n1 = 1000\n",
    "\n",
    "\n",
    "x1 = 53\n",
    "\n",
    "\n",
    "𝑝 1 = 0.53\n",
    "\n",
    "\n",
    "Population 2: 1985\n",
    "\n",
    "\n",
    "n2 = 100\n",
    "\n",
    "\n",
    "x2 = 43\n",
    "\n",
    "\n",
    "𝑝 2= 0.53\n"
   ]
  },
  {
   "cell_type": "code",
   "execution_count": 69,
   "id": "716eff10",
   "metadata": {},
   "outputs": [
    {
     "name": "stdout",
     "output_type": "stream",
     "text": [
      "Z_score is 0.0\n",
      "Critical region is -1.6448536269514729\n"
     ]
    }
   ],
   "source": [
    "n1 = 1000 \n",
    "x1 = 53 \n",
    "𝑝1 = 0.53 \n",
    "n2 = 100 \n",
    "x2 = 43 \n",
    "𝑝2= 0.53\n",
    "p=(x1+x2)/(n1+n2)\n",
    "\n",
    "n=(1/n1)+(1/n2)\n",
    "p_1=p*(1-p)\n",
    "Z=(p1-p2)/((p_1*n)**0.5)\n",
    "print(f\"Z_score is {Z}\")\n",
    "print(f\"Critical region is {st.norm.ppf(0.05)}\")"
   ]
  },
  {
   "cell_type": "markdown",
   "id": "21649435",
   "metadata": {},
   "source": [
    "*We can't reject null hypothesis at alpha=10%"
   ]
  },
  {
   "cell_type": "markdown",
   "id": "50a31bea",
   "metadata": {},
   "source": [
    "# Problem Statement 16:\n",
    "\n",
    "\n",
    "Carry out a one-tailed test to determine whether the population proportion of\n",
    "traveler’s check buyers who buy at least $2500 in checks when sweepstakes prizes\n",
    "are offered as at least 10% higher than the proportion of such buyers when no\n",
    "sweepstakes are on.\n",
    "\n",
    "\n",
    "\n",
    "Population 1: With sweepstakes\n",
    "\n",
    "    \n",
    "n1 = 300\n",
    "\n",
    "\n",
    "x1 = 120\n",
    "\n",
    "\n",
    "𝑝 = 0.40\n",
    "\n",
    "\n",
    "\n",
    "Population 2: No sweepstakes\n",
    "\n",
    "n2 = 700\n",
    "\n",
    "    \n",
    "x2 = 140\n",
    "\n",
    "\n",
    "𝑝 2= 0.20"
   ]
  },
  {
   "cell_type": "code",
   "execution_count": 73,
   "id": "95bcfb48",
   "metadata": {},
   "outputs": [
    {
     "name": "stdout",
     "output_type": "stream",
     "text": [
      "Z_score is 3.303749523611152\n",
      "Critical region is 1.6448536269514729\n"
     ]
    }
   ],
   "source": [
    "n1 = 300 # sample sizes,\n",
    "x1 = 120 \n",
    "𝑝1 = 0.40  #where p1 and p2 are the sample proportions\n",
    "n2 = 700 \n",
    "x2 = 140 \n",
    "𝑝2= 0.20\n",
    "p=(x1+x2)/(n1+n2)\n",
    "\n",
    "n=(1/n1)+(1/n2)\n",
    "p_1=p*(1-p)\n",
    "#pooled proportion, p = (x1 + x2) / (n1 + n2) = (120 + 140) / (300 + 700) \n",
    "Z=(p1-p2-0.1)/((p_1*n)**0.5)\n",
    "print(f\"Z_score is {Z}\")\n",
    "print(f\"Critical region is {-st.norm.ppf(0.05)}\")"
   ]
  },
  {
   "cell_type": "markdown",
   "id": "8acd664b",
   "metadata": {},
   "source": [
    "We reject null hypothesis at alpha=5%"
   ]
  },
  {
   "cell_type": "markdown",
   "id": "7078a95d",
   "metadata": {},
   "source": [
    "# Problem Statement 17:\n",
    "A die is thrown 132 times with the following results: Number turned up: 1, 2, 3, 4, 5, 6\n",
    "Frequency: 16, 20, 25, 14, 29, 28\n",
    "Is the die unbiased? Consider the degrees of freedom as 𝑝 − ."
   ]
  },
  {
   "cell_type": "code",
   "execution_count": 82,
   "id": "ad819d39",
   "metadata": {},
   "outputs": [
    {
     "name": "stdout",
     "output_type": "stream",
     "text": [
      "Chi square value is 9.0 and p-value is 0.1090641579497725\n",
      "Die is unbiased.\n"
     ]
    }
   ],
   "source": [
    "observed= [16, 20, 25, 14, 29, 28]\n",
    "frequency= [22,22,22,22,22,22]\n",
    "result=stats.chisquare(observed,frequency)\n",
    "print(f\"Chi square value is {result[0]} and p-value is {result[1]}\")\n",
    "print('Die is unbiased.')"
   ]
  },
  {
   "cell_type": "markdown",
   "id": "8a3d9ea2",
   "metadata": {},
   "source": [
    "Using a chi-square distribution table with 5 degrees of freedom and a significance level of 0.05, the critical value of chi-square is 11.07. Since our calculated chi-square value (9.0) is less than the critical value (0.10), we fail to reject the null hypothesis.\n",
    "\n",
    "Therefore, we do not have sufficient evidence to conclude that the die is biased."
   ]
  },
  {
   "cell_type": "markdown",
   "id": "5b61bdef",
   "metadata": {},
   "source": [
    "# Problem Statement 18:\n",
    "In a certain town, there are about one million eligible voters. A simple random\n",
    "sample of 10,000 eligible voters was chosen to study the relationship between\n",
    "gender and participation in the last election. The results are summarized in the\n",
    "following 2X2 (read two by two) contingency table:"
   ]
  },
  {
   "attachments": {
    "image.png": {
     "image/png": "[encoded data removed]"
    }
   },
   "cell_type": "markdown",
   "id": "8ec74397",
   "metadata": {},
   "source": [
    "![image.png](attachment:image.png)"
   ]
  },
  {
   "cell_type": "markdown",
   "id": "9e088bee",
   "metadata": {},
   "source": [
    "We would want to check whether being a man or a woman (columns) is independent of\n",
    "having voted in the last election (rows). In other words, is “gender and voting independent”?\n"
   ]
  },
  {
   "cell_type": "code",
   "execution_count": 85,
   "id": "8af51f05",
   "metadata": {},
   "outputs": [
    {
     "name": "stdout",
     "output_type": "stream",
     "text": [
      "Chi Square value is 6.660455899328067\n",
      "Critical region with alpha=0.05 is 3.84\n",
      "We reject null hypothesis.It is not gender and voting independent\n"
     ]
    }
   ],
   "source": [
    "observed_voted_men=2792\n",
    "observed_voted_women=3591\n",
    "observed_not_voted_men=1486\n",
    "observed_not_voted_women=2131\n",
    "total_voted=2792+3591\n",
    "total_not_voted=1486+2131\n",
    "total_men=2792+1486\n",
    "total_women=3591+2131\n",
    "expected_voted_men=(total_voted*total_men)/10000\n",
    "expected_voted_women=(total_voted*total_women)/10000\n",
    "expected_not_voted_men=(total_not_voted*total_men)/10000\n",
    "expected_not_voted_women=(total_not_voted*total_women)/10000\n",
    "chisquare1=(((observed_voted_women-expected_voted_women)**2)/expected_voted_women)\n",
    "chisquare2=(((observed_voted_men-expected_voted_men)**2)/expected_voted_men)\n",
    "chisquare3=(((observed_not_voted_men-expected_not_voted_men)**2)/expected_not_voted_men)\n",
    "chisquare4=(((observed_not_voted_women-expected_not_voted_women)**2)/expected_not_voted_women)\n",
    "chisquare=chisquare1+chisquare2+chisquare3+chisquare4\n",
    "print(f\"Chi Square value is {chisquare}\")\n",
    "print(f\"Critical region with alpha=0.05 is 3.84\")\n",
    "print(\"We reject null hypothesis.It is not gender and voting independent\")"
   ]
  },
  {
   "attachments": {
    "image.png": {
     "image/png": "[encoded data removed]"
    }
   },
   "cell_type": "markdown",
   "id": "a18da27b",
   "metadata": {},
   "source": [
    "# Problem Statement 19:\n",
    "A sample of 100 voters are asked which of four candidates they would vote for in an\n",
    "election. The number supporting each candidate is given below:\n",
    "\n",
    "\n",
    "\n",
    "\n",
    "![image.png](attachment:image.png)\n",
    "\n",
    "\n",
    "Do the data suggest that all candidates are equally popular? [Chi-Square = 14.96,with 3 df, 𝑝 0.05 "
   ]
  },
  {
   "cell_type": "code",
   "execution_count": 95,
   "id": "68a9d7ce",
   "metadata": {},
   "outputs": [
    {
     "name": "stdout",
     "output_type": "stream",
     "text": [
      "Chi Square value is 14.959999999999999\n",
      "Critical region with 3df and alpha=0.05 is 3.182\n",
      "We reject null hypothesis. All candidates are not equally popular\n"
     ]
    }
   ],
   "source": [
    "#print(np.mean([41,19,24,16]))\n",
    "obs=[41,19,24,16]\n",
    "exp=[25,25,25,25]\n",
    "result=stats.chisquare(obs,exp)\n",
    "print(f\"Chi Square value is {result[0]}\")\n",
    "print(f\"Critical region with 3df and alpha=0.05 is 3.182\")\n",
    "print(\"We reject null hypothesis. All candidates are not equally popular\")"
   ]
  },
  {
   "cell_type": "markdown",
   "id": "37954548",
   "metadata": {},
   "source": [
    "# Problem Statement 20:\n",
    "Children of three ages are asked to indicate their preference for three photographs of\n",
    "adults. Do the data suggest that there is a significant relationship between age and\n",
    "photograph preference? What is wrong with this study?\n",
    "\n",
    "\n",
    "\n",
    "[Chi-Square = 29.6, with 4 df: 𝑝 < 0.05]."
   ]
  },
  {
   "attachments": {
    "image.png": {
     "image/png": "[encoded data removed]"
    }
   },
   "cell_type": "markdown",
   "id": "87b5ac56",
   "metadata": {},
   "source": [
    "![image.png](attachment:image.png)"
   ]
  },
  {
   "cell_type": "code",
   "execution_count": 94,
   "id": "8cf1db8f",
   "metadata": {},
   "outputs": [
    {
     "name": "stdout",
     "output_type": "stream",
     "text": [
      "Chi Square value is 29.603174603174608\n",
      "Critical region with 4df and alpha=0.01 is 13.277\n",
      "We reject null hypothesis.There is significant relationship between age and photograph preference\n"
     ]
    }
   ],
   "source": [
    "obs=([[18,22,20],[2,28,40],[20,10,40]])\n",
    "result=chi2_contingency(obs)\n",
    "print(f\"Chi Square value is {result[0]}\")\n",
    "print(f\"Critical region with 4df and alpha=0.01 is 13.277\")\n",
    "print(\"We reject null hypothesis.There is significant relationship between age and photograph preference\")"
   ]
  },
  {
   "cell_type": "markdown",
   "id": "f1ce6898",
   "metadata": {},
   "source": [
    "# Problem Statement 21:\n",
    "A study of conformity using the Asch paradigm involved two conditions: one where\n",
    "one confederate supported the true judgement and another where no confederate\n",
    "gave the correct response"
   ]
  },
  {
   "attachments": {
    "image.png": {
     "image/png": "[encoded data removed]"
    }
   },
   "cell_type": "markdown",
   "id": "0f31e2ec",
   "metadata": {},
   "source": [
    "![image.png](attachment:image.png)"
   ]
  },
  {
   "cell_type": "markdown",
   "id": "c58e0674",
   "metadata": {},
   "source": [
    "Is there a significant difference between the \"support\" and \"no support\" conditions in the\n",
    "frequency with which individuals are likely to conform? [Chi-Square = 19.87, with 1 df:\n",
    "𝑝 < 0.05]."
   ]
  },
  {
   "cell_type": "code",
   "execution_count": 92,
   "id": "9e8cdd2d",
   "metadata": {},
   "outputs": [
    {
     "name": "stdout",
     "output_type": "stream",
     "text": [
      "Chi Square value is 18.10344827586207\n",
      "Critical region with 1df and alpha=0.05 is 3.841\n",
      "We reject null hypoythesis.So,there is significant difference between the 'support' and 'no support' conditions in the frequency with which individual  are likely to conform\n"
     ]
    }
   ],
   "source": [
    "obs=np.array([[18,40],[32,10]])\n",
    "result=chi2_contingency(obs)\n",
    "print(f\"Chi Square value is {result[0]}\")\n",
    "print(f\"Critical region with 1df and alpha=0.05 is 3.841\")\n",
    "print(\"We reject null hypoythesis.So,there is significant difference between the 'support' and 'no support' conditions in the frequency with which individual  are likely to conform\")"
   ]
  },
  {
   "cell_type": "markdown",
   "id": "b4d3151d",
   "metadata": {},
   "source": [
    "# Problem Statement 22:\n",
    "We want to test whether short people differ with respect to their leadership qualities\n",
    "(Genghis Khan, Adolf Hitler and Napoleon were all stature-deprived, and how many midget\n",
    "MP's are there?) The following table shows the frequencies with which 43 short people and\n",
    "52 tall people were categorized as \"leaders\", \"followers\" or as \"unclassifiable\". Is there a\n",
    "relationship between height and leadership qualities?\n",
    "[Chi-Square = 10.71, with 2 df: 𝑝 < 0.01].\n"
   ]
  },
  {
   "attachments": {
    "image.png": {
     "image/png": "[encoded data removed]"
    }
   },
   "cell_type": "markdown",
   "id": "bd2054c1",
   "metadata": {},
   "source": [
    "![image.png](attachment:image.png)"
   ]
  },
  {
   "cell_type": "code",
   "execution_count": 93,
   "id": "4760f287",
   "metadata": {},
   "outputs": [
    {
     "name": "stdout",
     "output_type": "stream",
     "text": [
      "Chi Square value is 10.712198008709638\n",
      "Critical region with 2df and alpha=0.01 is 9.92\n",
      "We accept null hypothesis.there is no relationship between height and leadership qualities\n"
     ]
    }
   ],
   "source": [
    "obs=([[12,32],[22,14],[9,6]])\n",
    "result=chi2_contingency(obs)\n",
    "print(f\"Chi Square value is {result[0]}\")\n",
    "print(f\"Critical region with 2df and alpha=0.01 is 9.92\")\n",
    "print(\"We accept null hypothesis.there is no relationship between height and leadership qualities\")"
   ]
  },
  {
   "cell_type": "markdown",
   "id": "8066fdf3",
   "metadata": {},
   "source": [
    "# Problem Statement 23:\n",
    "Each respondent in the Current Population Survey of March 1993 was classified as\n",
    "employed, unemployed, or outside the labor force. The results for men in California age 35-\n",
    "44 can be cross-tabulated by marital status, as follows:"
   ]
  },
  {
   "attachments": {
    "image.png": {
     "image/png": "[encoded data removed]"
    }
   },
   "cell_type": "markdown",
   "id": "42d17d13",
   "metadata": {},
   "source": [
    "![image.png](attachment:image.png)"
   ]
  },
  {
   "cell_type": "code",
   "execution_count": 90,
   "id": "63a14bd1",
   "metadata": {},
   "outputs": [
    {
     "name": "stdout",
     "output_type": "stream",
     "text": [
      "Chi Square value is 31.61310319407798\n",
      "Critical region with 4df and alpha=0.001 is 18.47\n",
      "We reject null hypothesis at alpha=0.001 .there is relationship between martial status and employment status\n"
     ]
    }
   ],
   "source": [
    "obs = np.array([[679,103,114], [63,10,20],[42,18,25]])\n",
    "result=chi2_contingency(obs)\n",
    "print(f\"Chi Square value is {result[0]}\")\n",
    "print(f\"Critical region with 4df and alpha=0.001 is 18.47\")\n",
    "print(\"We reject null hypothesis at alpha=0.001 .there is relationship between martial status and employment status\")"
   ]
  },
  {
   "cell_type": "code",
   "execution_count": 91,
   "id": "087ac2c1",
   "metadata": {},
   "outputs": [],
   "source": [
    "#Intern of Pranathi\n",
    "#Student of DataTrained - Saurav\n",
    "#Date - 27-03-2023\n",
    "#Time -> 17:37"
   ]
  },
  {
   "cell_type": "code",
   "execution_count": null,
   "id": "cd1d60c2",
   "metadata": {},
   "outputs": [],
   "source": []
  }
 ],
 "metadata": {
  "kernelspec": {
   "display_name": "Python 3 (ipykernel)",
   "language": "python",
   "name": "python3"
  },
  "language_info": {
   "codemirror_mode": {
    "name": "ipython",
    "version": 3
   },
   "file_extension": ".py",
   "mimetype": "text/x-python",
   "name": "python",
   "nbconvert_exporter": "python",
   "pygments_lexer": "ipython3",
   "version": "3.9.13"
  }
 },
 "nbformat": 4,
 "nbformat_minor": 5
}
