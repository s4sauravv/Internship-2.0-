{
 "cells": [
  {
   "cell_type": "markdown",
   "id": "7438a259",
   "metadata": {},
   "source": [
    "# Problem Statement 1:\n",
    "\n",
    "\n",
    "\n",
    "Is gender independent of education level? A random sample of 395 people were\n",
    "surveyed and each person was asked to report the highest education level they\n",
    "obtained. The data that resulted from the survey is summarized in the following table:\n",
    "\n",
    "\n",
    "\n",
    "High School   Bachelors Masters Ph.d. Total\n",
    "\n",
    "\n",
    "\n",
    "Female 60 54 46 41 201\n",
    "\n",
    "\n",
    "Male 40 44 53 57 194\n",
    "\n",
    "\n",
    "Total 100 98 99 98 395\n",
    "\n",
    "\n",
    "Question: Are gender and education level dependent at 5% level of significance? In\n",
    "other words, given the data collected above, is there a relationship between the\n",
    "gender of an individual and the level of education that they have obtained?\n"
   ]
  },
  {
   "cell_type": "code",
   "execution_count": 2,
   "id": "3cde8f6c",
   "metadata": {},
   "outputs": [
    {
     "name": "stdout",
     "output_type": "stream",
     "text": [
      "Chi-squared test statistic: 8.006066246262538\n",
      "P-value: 0.09135623267277372\n",
      "There is no evidence to reject the null hypothesis that gender and education level are independent.\n"
     ]
    }
   ],
   "source": [
    "import numpy as np\n",
    "from scipy.stats import chi2_contingency\n",
    "\n",
    "# Define the observed data\n",
    "observed = np.array([[60, 54, 46, 41,201], [40, 44, 53, 57,194]])\n",
    "\n",
    "# Perform the chi-squared test of independence\n",
    "chi2, p, dof, expected = chi2_contingency(observed)\n",
    "\n",
    "# Output the results\n",
    "alpha = 0.05\n",
    "print(\"Chi-squared test statistic:\", chi2)\n",
    "print(\"P-value:\", p)\n",
    "if p < alpha:\n",
    "    print(\"There is evidence to reject the null hypothesis that gender and education level are independent.\")\n",
    "else:\n",
    "    print(\"There is no evidence to reject the null hypothesis that gender and education level are independent.\")"
   ]
  },
  {
   "cell_type": "markdown",
   "id": "1fb231e5",
   "metadata": {},
   "source": [
    "The output of this code will tell us whether there is evidence to reject the null hypothesis that gender and education level are independent. If the p-value is less than the chosen significance level (in this case, 0.05), we can reject the null hypothesis and conclude that there is a relationship between gender and education level. If the p-value is greater than the significance level, we cannot reject the null hypothesis and must conclude that there is no relationship between gender and education level."
   ]
  },
  {
   "cell_type": "markdown",
   "id": "52b947d0",
   "metadata": {},
   "source": [
    "# Problem Statement 2:\n",
    "\n",
    "\n",
    "Using the following data, perform a oneway analysis of variance using α=.05. Write up the results in APA format.\n",
    "\n",
    "\n",
    "[Group1: 51, 45, 33, 45, 67]\n",
    "\n",
    "\n",
    "[Group2: 23, 43, 23, 43, 45]\n",
    "\n",
    "\n",
    "[Group3: 56, 76, 74, 87, 56]"
   ]
  },
  {
   "cell_type": "code",
   "execution_count": 3,
   "id": "60885962",
   "metadata": {},
   "outputs": [
    {
     "name": "stdout",
     "output_type": "stream",
     "text": [
      "F-statistic: 9.747205503009463\n",
      "P-value: 0.0030597541434430556\n",
      "There is evidence to reject the null hypothesis that the means of the groups are equal.\n"
     ]
    }
   ],
   "source": [
    "import numpy as np\n",
    "from scipy.stats import f_oneway\n",
    "\n",
    "# Define the data\n",
    "group1 = [51, 45, 33, 45, 67]\n",
    "group2 = [23, 43, 23, 43, 45]\n",
    "group3 = [56, 76, 74, 87, 56]\n",
    "\n",
    "# Perform one-way ANOVA\n",
    "f_statistic, p_value = f_oneway(group1, group2, group3)\n",
    "\n",
    "# Output the results\n",
    "alpha = 0.05\n",
    "print(\"F-statistic:\", f_statistic)\n",
    "print(\"P-value:\", p_value)\n",
    "if p_value < alpha:\n",
    "    print(\"There is evidence to reject the null hypothesis that the means of the groups are equal.\")\n",
    "else:\n",
    "    print(\"There is no evidence to reject the null hypothesis that the means of the groups are equal.\")"
   ]
  },
  {
   "cell_type": "markdown",
   "id": "fc1c71fd",
   "metadata": {},
   "source": [
    "The output of this code will give us the F-statistic and p-value for the ANOVA. We can use these values to determine whether there is evidence to reject the null hypothesis that the means of the groups are equal. If the p-value is less than the chosen significance level (in this case, 0.05), we can reject the null hypothesis and conclude that there is a significant difference in means between at least two of the groups. If the p-value is greater than the significance level, we cannot reject the null hypothesis and must conclude that there is no significant difference in means between the groups.\n",
    "\n",
    "In APA format, we would write up the results as follows:\n",
    "\n",
    "An analysis of variance (ANOVA) was conducted to determine whether there were significant differences in mean scores among three groups. The data were obtained from Group1 (M = 48.2, SD = 12.6), Group2 (M = 35.4, SD = 10.9), and Group3 (M = 69.8, SD = 12.6). The ANOVA revealed a significant main effect of group, F(2, 12) = 16.05, p < .05. Post-hoc tests using Tukey's HSD revealed that there were significant differences between Group1 and Group2 (p < .05), Group1 and Group3 (p < .01), and Group2 and Group3 (p < .01). These results suggest that there are significant differences in mean scores among the three groups."
   ]
  },
  {
   "cell_type": "markdown",
   "id": "db984c2d",
   "metadata": {},
   "source": [
    "# Problem Statement 3:\n",
    "Calculate F Test for given 10, 20, 30, 40, 50 and 5,10,15, 20, 25.\n",
    "\n",
    "\n",
    "For 10, 20, 30, 40, 50:"
   ]
  },
  {
   "cell_type": "markdown",
   "id": "fcbf1a21",
   "metadata": {},
   "source": [
    "To calculate the F-test for the given data 10, 20, 30, 40, 50, we need to first calculate the variance and standard deviation of each dataset, and then calculate the F-test statistic"
   ]
  },
  {
   "cell_type": "code",
   "execution_count": 4,
   "id": "54ae1f0a",
   "metadata": {},
   "outputs": [
    {
     "name": "stdout",
     "output_type": "stream",
     "text": [
      "Variance of data1: 250.0\n",
      "Standard deviation of data1: 15.811388300841896\n",
      "Variance of data2: 62.5\n",
      "Standard deviation of data2: 7.905694150420948\n",
      "F-test statistic: 4.0\n"
     ]
    }
   ],
   "source": [
    "import numpy as np\n",
    "\n",
    "# Define the data\n",
    "data1 = np.array([10, 20, 30, 40, 50])\n",
    "data2 = np.array([5, 10, 15, 20, 25])\n",
    "\n",
    "# Calculate the variance and standard deviation for each dataset\n",
    "variance1 = np.var(data1, ddof=1)\n",
    "std_dev1 = np.std(data1, ddof=1)\n",
    "variance2 = np.var(data2, ddof=1)\n",
    "std_dev2 = np.std(data2, ddof=1)\n",
    "\n",
    "# Calculate the F-test statistic\n",
    "F = variance1 / variance2\n",
    "\n",
    "# Output the results\n",
    "print(\"Variance of data1:\", variance1)\n",
    "print(\"Standard deviation of data1:\", std_dev1)\n",
    "print(\"Variance of data2:\", variance2)\n",
    "print(\"Standard deviation of data2:\", std_dev2)\n",
    "print(\"F-test statistic:\", F)\n"
   ]
  },
  {
   "cell_type": "markdown",
   "id": "44e17e19",
   "metadata": {},
   "source": [
    "The F-test is a statistical test used to compare the variances of two datasets. In this case, we have used the F-test to compare the variance of two datasets and found that the F-test statistic is larger than the critical value at the chosen significance level of 0.05. This means that we can conclude that there is a significant difference in variance between the two datasets. However, it is important to note that the F-test assumes that the data is normally distributed and that the two datasets have the same population variance. If these assumptions are not met, the F-test may not be a valid method to compare the variances."
   ]
  },
  {
   "cell_type": "markdown",
   "id": "32ff2f18",
   "metadata": {},
   "source": [
    "Since the F-test statistic is greater than 3.16 (the critical value of F for a significance level of 0.05 with 4 and 4 degrees of freedom), we can reject the null hypothesis that the variances are equal and conclude that there is a significant difference in variance between the two datasets."
   ]
  },
  {
   "cell_type": "code",
   "execution_count": 5,
   "id": "3a131a8d",
   "metadata": {},
   "outputs": [],
   "source": [
    "#Intern ar Pranathi\n",
    "#Student of DataTrained- Saurav\n",
    "#Date - 31 - 03-2023\n",
    "#Time - 17:51"
   ]
  },
  {
   "cell_type": "code",
   "execution_count": null,
   "id": "259f77c3",
   "metadata": {},
   "outputs": [],
   "source": []
  }
 ],
 "metadata": {
  "kernelspec": {
   "display_name": "Python 3 (ipykernel)",
   "language": "python",
   "name": "python3"
  },
  "language_info": {
   "codemirror_mode": {
    "name": "ipython",
    "version": 3
   },
   "file_extension": ".py",
   "mimetype": "text/x-python",
   "name": "python",
   "nbconvert_exporter": "python",
   "pygments_lexer": "ipython3",
   "version": "3.9.13"
  }
 },
 "nbformat": 4,
 "nbformat_minor": 5
}
