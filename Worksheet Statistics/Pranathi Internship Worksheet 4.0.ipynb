{
 "cells": [
  {
   "cell_type": "code",
   "execution_count": 6,
   "id": "fab2ffa0",
   "metadata": {},
   "outputs": [],
   "source": [
    "import pandas as pd\n",
    "import numpy as np\n",
    "\n",
    "\n",
    "\n",
    "import scipy.stats as st"
   ]
  },
  {
   "cell_type": "markdown",
   "id": "1b65d0f6",
   "metadata": {},
   "source": [
    "10.\tA teacher wants to know how well her students did on a test compared to the average performance of students across the country. The average score on the test across the country is 75 with a standard deviation of 10. If the teacher's class has an average score of 80, what is the z score for the class?"
   ]
  },
  {
   "cell_type": "code",
   "execution_count": 8,
   "id": "74325d67",
   "metadata": {},
   "outputs": [],
   "source": [
    "avg_score=75\n",
    "std=10"
   ]
  },
  {
   "cell_type": "code",
   "execution_count": 9,
   "id": "fcfe7368",
   "metadata": {},
   "outputs": [],
   "source": [
    "x=80"
   ]
  },
  {
   "cell_type": "code",
   "execution_count": 10,
   "id": "43723cc2",
   "metadata": {},
   "outputs": [
    {
     "data": {
      "text/plain": [
       "0.6914624612740131"
      ]
     },
     "execution_count": 10,
     "metadata": {},
     "output_type": "execute_result"
    }
   ],
   "source": [
    "prob=st.norm.cdf(x,loc=avg_score,scale=std)\n",
    "prob"
   ]
  },
  {
   "cell_type": "markdown",
   "id": "a5b65b11",
   "metadata": {},
   "source": [
    "9. A company produces light bulbs with a mean life of 1000 hours and a standard deviation of 100 hours. If the company wants to provide a warranty for bulbs that last in the top 10% of the distribution, what is the minimum life required for the warranty?"
   ]
  },
  {
   "cell_type": "code",
   "execution_count": null,
   "id": "a342f7dc",
   "metadata": {},
   "outputs": [],
   "source": [
    "avg_mean_life=1000\n",
    "std=100\n"
   ]
  },
  {
   "cell_type": "code",
   "execution_count": null,
   "id": "95afe0c6",
   "metadata": {},
   "outputs": [],
   "source": []
  },
  {
   "cell_type": "code",
   "execution_count": null,
   "id": "90d95cf4",
   "metadata": {},
   "outputs": [],
   "source": []
  },
  {
   "cell_type": "code",
   "execution_count": null,
   "id": "7f85a670",
   "metadata": {},
   "outputs": [],
   "source": []
  },
  {
   "cell_type": "markdown",
   "id": "fcf1cc8d",
   "metadata": {},
   "source": [
    "8.\tA university has a policy that any student who scores below the 25th percentile on an admission test cannot be admitted. If the test scores are normally distributed with a mean of 75 and a standard deviation of 10, what is the minimum score required for admission?"
   ]
  },
  {
   "cell_type": "code",
   "execution_count": 13,
   "id": "a9f8315f",
   "metadata": {},
   "outputs": [],
   "source": [
    "mean=75\n",
    "std=10\n",
    "\n",
    "x=25"
   ]
  },
  {
   "cell_type": "code",
   "execution_count": 16,
   "id": "37e2026a",
   "metadata": {},
   "outputs": [
    {
     "data": {
      "text/plain": [
       "2.866515718791933e-07"
      ]
     },
     "execution_count": 16,
     "metadata": {},
     "output_type": "execute_result"
    }
   ],
   "source": [
    "prob=st.norm.cdf(x,loc=mean,scale=std)\n",
    "prob"
   ]
  },
  {
   "cell_type": "code",
   "execution_count": null,
   "id": "7299e947",
   "metadata": {},
   "outputs": [],
   "source": []
  },
  {
   "cell_type": "code",
   "execution_count": null,
   "id": "77ff4225",
   "metadata": {},
   "outputs": [],
   "source": []
  },
  {
   "cell_type": "markdown",
   "id": "f2172dd7",
   "metadata": {},
   "source": [
    "7.\tA company wants to compare the salaries of its employees with those of other companies in the same industry. The mean salary in the industry is  60,000 per year with a standard deviation of  5,000. If the company's mean salary is $65,000 per year, what is the z score for the company?"
   ]
  },
  {
   "cell_type": "code",
   "execution_count": 17,
   "id": "579c133f",
   "metadata": {},
   "outputs": [
    {
     "data": {
      "text/plain": [
       "0.5"
      ]
     },
     "execution_count": 17,
     "metadata": {},
     "output_type": "execute_result"
    }
   ],
   "source": [
    "population_mean=60000\n",
    "std=5000\n",
    "\n",
    "sample_mean=60000\n",
    "\n",
    "\n",
    "prob=st.norm.cdf(sample_mean,loc=population_mean,scale=std)\n",
    "prob\n",
    "\n"
   ]
  },
  {
   "cell_type": "markdown",
   "id": "76fd8b78",
   "metadata": {},
   "source": [
    "6.\tThe average height of students in a school is 68 inches with a standard deviation of 4 inches. What is the z score of a student who is 72 inches tall?"
   ]
  },
  {
   "cell_type": "code",
   "execution_count": 18,
   "id": "fda4f548",
   "metadata": {},
   "outputs": [
    {
     "data": {
      "text/plain": [
       "0.8413447460685429"
      ]
     },
     "execution_count": 18,
     "metadata": {},
     "output_type": "execute_result"
    }
   ],
   "source": [
    "population_mean=68\n",
    "std=4\n",
    "\n",
    "sample_mean=72\n",
    "\n",
    "\n",
    "z_score=sample_mean-\n",
    "\n"
   ]
  },
  {
   "cell_type": "markdown",
   "id": "dd2cd3ab",
   "metadata": {},
   "source": [
    "5.\tA teacher is trying to determine whether a new teaching method is effective in improving student performance. The teacher wants to be sure that the method is effective, but also wants to avoid false claims. What is the risk of making a type 1 error in this scenario, and how could the teacher minimize this risk?"
   ]
  },
  {
   "cell_type": "markdown",
   "id": "d17c4ac2",
   "metadata": {},
   "source": [
    "In statistical hypothesis testing, a Type 1 error occurs when the null hypothesis is rejected when it is actually true. In the context of the teacher's experiment, a Type 1 error would mean that the new teaching method is believed to be effective when it actually isn't. The risk of making a Type 1 error can be minimized by setting a stringent significance level (alpha level) for the test, which represents the probability of rejecting the null hypothesis when it is actually true. For instance, if the teacher sets the alpha level at 0.01, they will have a 1% chance of making a Type 1 error. By using a smaller alpha level, the teacher can reduce the risk of falsely claiming that the new teaching method is effective.\n",
    "\n",
    "Additionally, the teacher can use statistical power analysis to determine the sample size required to detect a meaningful difference between the performance of students taught with the new method versus the traditional method. Increasing the sample size of the experiment will increase its power, or ability to detect differences between the groups, reducing the risk of a Type 2 error. The teacher can also consider using a randomized controlled trial design, where students are randomly assigned to either the control group or the treatment group, to further minimize bias and the risk of Type 1 error."
   ]
  },
  {
   "cell_type": "markdown",
   "id": "55292be4",
   "metadata": {},
   "source": [
    "4.\tA researcher is testing a hypothesis that a new drug can cure a particular disease. The researcher wants to be sure that the drug is effective, but also wants to avoid false claims. What is the risk of making a type 1 error in this scenario, and how could the researcher minimize this risk?"
   ]
  },
  {
   "cell_type": "markdown",
   "id": "4b10f837",
   "metadata": {},
   "source": [
    "In statistical hypothesis testing, a Type 1 error occurs when the null hypothesis is rejected when it is actually true. In the context of the researcher's experiment, a Type 1 error would mean that the new drug is believed to be effective in curing the disease when it actually isn't. The risk of making a Type 1 error can be minimized by setting a stringent significance level (alpha level) for the test, which represents the probability of rejecting the null hypothesis when it is actually true. For instance, if the researcher sets the alpha level at 0.01, they will have a 1% chance of making a Type 1 error. By using a smaller alpha level, the researcher can reduce the risk of falsely claiming that the new drug is effective."
   ]
  },
  {
   "cell_type": "markdown",
   "id": "2da4249a",
   "metadata": {},
   "source": [
    "Additionally, the researcher can use statistical power analysis to determine the sample size required to detect a meaningful difference between the effectiveness of the new drug versus the current standard treatment. Increasing the sample size of the experiment will increase its power, or ability to detect differences between the groups, reducing the risk of a Type 2 error. The researcher can also consider using a randomized controlled trial design, where patients are randomly assigned to either the control group or the treatment group, to further minimize bias and the risk of Type 1 error. Moreover, the researcher should ensure that the experiment is designed and conducted in a way that minimizes confounding variables and bias, and that the results are analyzed appropriately using appropriate statistical methods."
   ]
  },
  {
   "cell_type": "markdown",
   "id": "0aaf0375",
   "metadata": {},
   "source": [
    "3.\tA marketing company is testing the effectiveness of a new advertising campaign. The company wants to be sure that the campaign is effective, but also wants to avoid spending money on an ineffective campaign. What is the risk of making a type 1 error in this scenario, and how could the company minimize this risk?"
   ]
  },
  {
   "cell_type": "markdown",
   "id": "55a93660",
   "metadata": {},
   "source": [
    "In statistical hypothesis testing, a Type 1 error occurs when the null hypothesis is rejected when it is actually true. In the context of the marketing company's experiment, a Type 1 error would mean that the new advertising campaign is believed to be effective in increasing sales when it actually isn't. The risk of making a Type 1 error can be minimized by setting a stringent significance level (alpha level) for the test, which represents the probability of rejecting the null hypothesis when it is actually true. For instance, if the company sets the alpha level at 0.01, they will have a 1% chance of making a Type 1 error. By using a smaller alpha level, the company can reduce the risk of falsely claiming that the new advertising campaign is effective.\n",
    "\n",
    "Additionally, the company can use statistical power analysis to determine the sample size required to detect a meaningful difference in sales between the customers exposed to the new advertising campaign and those who were not. Increasing the sample size of the experiment will increase its power, or ability to detect differences between the groups, reducing the risk of a Type 2 error. The company can also consider using a randomized controlled trial design, where customers are randomly assigned to either the control group (not exposed to the new advertising campaign) or the treatment group (exposed to the new advertising campaign), to further minimize bias and the risk of Type 1 error.\n",
    "\n",
    "Furthermore, the company should ensure that the experiment is designed and conducted in a way that minimizes confounding variables and bias, and that the results are analyzed appropriately using appropriate statistical methods. They should also consider running the advertising campaign in a smaller, representative market before launching it nationwide, and closely monitor the sales in both the control and treatment groups during the experiment. This will help them identify any unexpected results and adjust the advertising campaign accordingly, minimizing the risk of investing in an ineffective campaign.\n",
    "\n",
    "\n",
    "\n",
    "\n",
    "\n"
   ]
  },
  {
   "cell_type": "markdown",
   "id": "597a25f8",
   "metadata": {},
   "source": [
    "2.\tA court is trying to determine whether a defendant is guilty or innocent of a crime. What is the risk of making a type 2 error in this scenario, and how could the court minimize this risk?"
   ]
  },
  {
   "cell_type": "markdown",
   "id": "bea4300f",
   "metadata": {},
   "source": [
    "In statistical hypothesis testing, a Type 2 error occurs when the null hypothesis is accepted when it is actually false. In the context of a court case, a Type 2 error would mean that the defendant is believed to be innocent when they are actually guilty. The risk of making a Type 2 error can be minimized by setting a lower significance level (alpha level) for the test, which represents the probability of rejecting the null hypothesis when it is actually true. By using a lower alpha level, the court can reduce the risk of falsely acquitting a guilty defendant.\n",
    "\n",
    "Additionally, the court can strive to collect as much relevant evidence as possible, and use appropriate statistical methods to analyze the evidence. The court can also use a higher standard of proof, such as \"beyond a reasonable doubt,\" to make it less likely to accept the null hypothesis when it is actually false.\n",
    "\n",
    "The court can also minimize the risk of Type 2 error by using a larger sample size or by performing additional tests to confirm or refute the evidence presented. The court should ensure that the evidence is relevant and reliable, and that the analysis of the evidence is done by trained professionals. Moreover, the court can consider having multiple judges or a jury to evaluate the evidence, as this can reduce individual biases and errors. Finally, the court should ensure that the defendant receives a fair trial and that their rights are protected throughout the legal process."
   ]
  },
  {
   "cell_type": "markdown",
   "id": "f8bdf0fa",
   "metadata": {},
   "source": [
    "1.\tA drug company is testing a new medication that is designed to lower cholesterol levels in patients. The company wants to be sure that the medication is effective, but also wants to avoid false claims. What is the risk of making a type 1 error in this scenario, and how could the company minimize this risk?"
   ]
  },
  {
   "cell_type": "markdown",
   "id": "d2475d86",
   "metadata": {},
   "source": [
    "In statistics, a Type 1 error, also known as a \"false positive,\" occurs when a hypothesis test incorrectly rejects a true null hypothesis. In the context of testing a new medication to lower cholesterol levels, a Type 1 error would occur if the drug company concludes that the medication is effective in reducing cholesterol levels when it is not actually effective.\n",
    "\n",
    "The risk of making a Type 1 error depends on several factors, such as the sample size, the significance level of the hypothesis test, and the variability of the data. A smaller sample size, a higher significance level, and greater variability in the data all increase the risk of making a Type 1 error.\n",
    "\n",
    "To minimize the risk of making a Type 1 error, the drug company could take several steps:\n",
    "\n",
    "Conduct a well-designed clinical trial: The drug company should design a randomized controlled trial that is large enough to detect meaningful differences in cholesterol levels between the treatment group and the control group. The trial should also be designed to minimize bias and confounding factors.\n",
    "\n",
    "Set an appropriate significance level: The drug company should set an appropriate significance level for the hypothesis test. The significance level represents the probability of making a Type 1 error, and it should be set low enough to minimize the risk of false positives while still allowing for meaningful results.\n",
    "\n",
    "\n",
    "\n",
    "Conduct multiple tests: The drug company could conduct multiple tests to confirm the results of the initial trial. This could include replicating the study in a different population or using different methods to measure cholesterol levels.\n",
    "\n",
    "By taking these steps, the drug company can minimize the risk of making a Type 1 error while still ensuring that the medication is effective in reducing cholesterol levels."
   ]
  },
  {
   "cell_type": "code",
   "execution_count": null,
   "id": "9d7a73c6",
   "metadata": {},
   "outputs": [],
   "source": []
  }
 ],
 "metadata": {
  "kernelspec": {
   "display_name": "Python 3 (ipykernel)",
   "language": "python",
   "name": "python3"
  },
  "language_info": {
   "codemirror_mode": {
    "name": "ipython",
    "version": 3
   },
   "file_extension": ".py",
   "mimetype": "text/x-python",
   "name": "python",
   "nbconvert_exporter": "python",
   "pygments_lexer": "ipython3",
   "version": "3.9.13"
  }
 },
 "nbformat": 4,
 "nbformat_minor": 5
}
