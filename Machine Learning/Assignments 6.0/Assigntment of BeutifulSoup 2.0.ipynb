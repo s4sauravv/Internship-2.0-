{
 "cells": [
  {
   "cell_type": "markdown",
   "id": "3123c2e0",
   "metadata": {},
   "source": [
    "In this assignment students have to find the frequency of words in a webpage. User can use urllib and BeautifulSoup to extract text from webpage.\n",
    "\n",
    "\n",
    "Hint:\n",
    "\n",
    "\n",
    "from bs4 import BeautifulSoup\n",
    "\n",
    "\n",
    "import urllib.request\n",
    "\n",
    "\n",
    "import nltk\n",
    "\n",
    "\n",
    "response = urllib.request.urlopen('http://php.net/')\n",
    "\n",
    "\n",
    "html = response.read()\n",
    "\n",
    "\n",
    "soup = BeautifulSoup(html,\"html5lib\")"
   ]
  },
  {
   "cell_type": "code",
   "execution_count": 4,
   "id": "57a534ae",
   "metadata": {},
   "outputs": [],
   "source": [
    "#Lets import Libraries for extracting text\n",
    "from bs4 import BeautifulSoup\n",
    "import re #Regex library\n",
    "from collections import Counter #To check counts\n",
    "\n"
   ]
  },
  {
   "cell_type": "code",
   "execution_count": 5,
   "id": "946172c2",
   "metadata": {},
   "outputs": [],
   "source": [
    "#Lets load all words\n",
    "url = 'http://php.net/'\n",
    "page = urllib.request.urlopen(url)\n",
    "soup = BeautifulSoup(page, 'html.parser')\n",
    "\n"
   ]
  },
  {
   "cell_type": "code",
   "execution_count": 6,
   "id": "41e64774",
   "metadata": {},
   "outputs": [],
   "source": [
    "#Lets remove extra spaces\n",
    "text = soup.get_text()\n",
    "text = re.sub(r'\\s+', ' ', text) \n",
    "\n"
   ]
  },
  {
   "cell_type": "code",
   "execution_count": 7,
   "id": "cd8e2cae",
   "metadata": {},
   "outputs": [
    {
     "name": "stdout",
     "output_type": "stream",
     "text": [
      "Counter({'the': 179, 'php': 166, '8': 101, 'of': 82, 'is': 60, 'for': 58, 'this': 56, 'release': 55, 'in': 51, 'and': 49, 'to': 49, '2': 49, 'downloads': 46, 'source': 46, 'windows': 41, '0': 40, 'please': 38, '1': 36, 'can': 35, 'be': 35, 'found': 35, 'version': 34, 'on': 31, 'page': 29, 'a': 26, 'download': 26, 'list': 26, 'changes': 26, 'team': 25, 'visit': 25, '2023': 24, 'changelog': 23, 'net': 22, 'development': 21, 'availability': 21, 'our': 21, 'released': 20, 'announces': 20, 'immediate': 20, 'all': 20, 'binaries': 20, 'recorded': 20, 'users': 19, 'are': 19, 'upgrade': 19, '2022': 18, 'security': 16, 'extensions': 16, 'encouraged': 16, 'bug': 14, 'rc': 14, 'upgrading': 13, 'file': 12, 'fix': 11, '4': 11, 'new': 10, 'test': 10, 'you': 10, 'or': 10, 'cve': 9, 'candidate': 9, 'features': 8, 'other': 8, 'nov': 8, 'an': 7, 'next': 7, 'g': 7, 'more': 7, '7': 7, 'reporting': 6, 'files': 6, 'archive': 6, 'system': 6, '5': 6, '28': 6, '13': 6, '14': 6, 'available': 6, 'it': 6, 'will': 6, 'information': 6, 'production': 6, 'read': 6, 'news': 6, 'that': 5, '16': 5, 'feb': 5, '27': 5, '26': 5, '24': 5, 'testing': 5, 'pleased': 5, 'announce': 5, 'cycle': 5, 'rough': 5, 'outline': 5, 'which': 5, 'specified': 5, 'wiki': 5, 'carefully': 5, 'report': 5, 'any': 5, 'issues': 5, 'do': 5, 'not': 5, 'use': 5, 'early': 5, 'complete': 5, 'notes': 5, 'these': 5, 'also': 5, 'planned': 5, 'signatures': 5, 'manifest': 5, 'qa': 5, 'site': 5, 'thank': 5, 'helping': 5, 'us': 5, 'make': 5, 'better': 5, 'oct': 5, 'language': 4, 'predefined': 4, 'related': 4, '18': 4, '3': 4, '6': 4, 'types': 3, 'classes': 3, 'general': 3, 'as': 3, 'database': 3, 'with': 3, 's': 3, 'services': 3, 'search': 3, '17': 3, 'addresses': 3, '0567': 3, '0568': 3, '0662': 3, 'advised': 3, '15': 3, '05': 3, 'jan': 3, 'continuing': 3, '33': 3, '12': 3, '25': 3, 'sep': 3, '11': 3, 'help': 2, 'introduction': 2, 'reference': 2, 'basic': 2, 'variables': 2, 'constants': 2, 'control': 2, 'exceptions': 2, 'attributes': 2, 'supported': 2, 'installed': 2, 'session': 2, 'user': 2, 'current': 2, 'authentication': 2, 'handling': 2, 'command': 2, 'line': 2, 'dynamic': 2, 'manipulation': 2, 'specific': 2, 'support': 2, 'processing': 2, 'text': 2, 'web': 2, 'menu': 2, 'item': 2, 'previous': 2, 'man': 2, 'scroll': 2, 'goto': 2, 'popular': 2, 'apr': 2, 'mar': 2, '02': 2, 'much': 2, 'seventh': 2, 'sixth': 2, 'rc5': 2, 'fifth': 2, 'continues': 2, 'fourth': 2, '29': 2, 'rc3': 2, 'group': 2, 'hypertext': 1, 'preprocessor': 1, 'documentation': 1, 'get': 1, 'involved': 1, 'getting': 1, 'started': 1, 'simple': 1, 'tutorial': 1, 'syntax': 1, 'expressions': 1, 'operators': 1, 'structures': 1, 'functions': 1, 'objects': 1, 'namespaces': 1, 'enumerations': 1, 'errors': 1, 'fibers': 1, 'generators': 1, 'references': 1, 'explained': 1, 'interfaces': 1, 'context': 1, 'options': 1, 'parameters': 1, 'protocols': 1, 'wrappers': 1, 'considerations': 1, 'cgi': 1, 'binary': 1, 'apache': 1, 'module': 1, 'filesystem': 1, 'error': 1, 'submitted': 1, 'data': 1, 'hiding': 1, 'keeping': 1, 'http': 1, 'cookies': 1, 'sessions': 1, 'dealing': 1, 'xforms': 1, 'uploads': 1, 'using': 1, 'remote': 1, 'connection': 1, 'persistent': 1, 'connections': 1, 'usage': 1, 'garbage': 1, 'collection': 1, 'dtrace': 1, 'tracing': 1, 'function': 1, 'affecting': 1, 'behaviour': 1, 'audio': 1, 'formats': 1, 'compression': 1, 'cryptography': 1, 'date': 1, 'time': 1, 'human': 1, 'character': 1, 'encoding': 1, 'image': 1, 'generation': 1, 'mail': 1, 'mathematical': 1, 'non': 1, 'mime': 1, 'output': 1, 'process': 1, 'engine': 1, 'server': 1, 'variable': 1, 'type': 1, 'only': 1, 'xml': 1, 'gui': 1, 'keyboard': 1, 'shortcuts': 1, 'j': 1, 'k': 1, 'p': 1, 'n': 1, 'bottom': 1, 'top': 1, 'h': 1, 'homepage': 1, 'focus': 1, 'box': 1, 'purpose': 1, 'scripting': 1, 'especially': 1, 'suited': 1, 'fast': 1, 'flexible': 1, 'pragmatic': 1, 'powers': 1, 'everything': 1, 'from': 1, 'your': 1, 'blog': 1, 'most': 1, 'websites': 1, 'world': 1, 'what': 1, '08': 1, 'dec': 1, 'marks': 1, 'latest': 1, 'minor': 1, 'comes': 1, 'numerous': 1, 'improvements': 1, 'such': 1, 'readonly': 1, 'disjunctive': 1, 'normal': 1, 'form': 1, 'dnf': 1, 'stand': 1, 'alone': 1, 'null': 1, 'false': 1, 'true': 1, 'random': 1, 'extension': 1, 'traits': 1, 'deprecate': 1, 'properties': 1, 'migration': 1, 'guide': 1, 'manual': 1, 'consult': 1, 'detailed': 1, 'backward': 1, 'incompatible': 1, 'kudos': 1, 'contributors': 1, 'supporters': 1, 'note': 1, 'last': 1, 'x': 1, 'series': 1, 'continue': 1, 'until': 1, 'check': 1, 'versions': 1, 'rc7': 1, 'ready': 1, 'december': 1, '8th': 1, '10': 1, '24th': 1, '03': 1, 'fixes': 1, 'oob': 1, 'due': 1, 'insufficient': 1, 'input': 1, 'validation': 1, 'imageloadfont': 1, 'buffer': 1, 'overflow': 1, 'hash_update': 1, 'long': 1, 'parameter': 1, '10th': 1, 'october': 1, '30': 1, 'third': 1, '13th': 1, 'older': 1, 'entries': 1, 'upcoming': 1, 'conferencessymfonycon': 1, 'brussels': 1, '2023symfonyonline': 1, 'june': 1, '2023international': 1, 'conference': 1, 'berlin': 1, '2023php': 1, 'tek': 1, 'chicago': 1, 'il': 1, 'events': 1, 'special': 1, 'thanks': 1, 'social': 1, 'media': 1, 'official_php': 1, 'copyright': 1, '2001': 1, 'my': 1, 'contact': 1, 'sites': 1, 'privacy': 1, 'policy': 1, 'view': 1})\n"
     ]
    }
   ],
   "source": [
    "#Lets \n",
    "words = re.findall(r'\\w+', text.lower()) #match one or more word characters\n",
    "word_counts = Counter(words)\n",
    "\n",
    "print(word_counts)"
   ]
  },
  {
   "cell_type": "code",
   "execution_count": 8,
   "id": "ffe34e60",
   "metadata": {},
   "outputs": [],
   "source": [
    "#Intern at Pranathi\n",
    "#Student of DataTrained - Saurav\n",
    "#Date - 19-04-2023\n",
    "#Time-10:03"
   ]
  },
  {
   "cell_type": "code",
   "execution_count": null,
   "id": "007db93e",
   "metadata": {},
   "outputs": [],
   "source": []
  }
 ],
 "metadata": {
  "kernelspec": {
   "display_name": "Python 3 (ipykernel)",
   "language": "python",
   "name": "python3"
  },
  "language_info": {
   "codemirror_mode": {
    "name": "ipython",
    "version": 3
   },
   "file_extension": ".py",
   "mimetype": "text/x-python",
   "name": "python",
   "nbconvert_exporter": "python",
   "pygments_lexer": "ipython3",
   "version": "3.9.13"
  }
 },
 "nbformat": 4,
 "nbformat_minor": 5
}
