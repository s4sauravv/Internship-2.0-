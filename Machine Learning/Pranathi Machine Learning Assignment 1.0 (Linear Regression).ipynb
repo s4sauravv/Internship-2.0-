{
 "cells": [
  {
   "cell_type": "markdown",
   "id": "0fc879b4",
   "metadata": {},
   "source": [
    "# Build the linear regression model using scikit learn in boston data to predict \n",
    "'Price' based on other dependent variable.\n",
    "\n",
    "\n",
    "Here is the code to load the data:\n",
    "\n",
    "\n",
    "import numpy as np\n",
    "\n",
    "\n",
    "import pandas as pd\n",
    "\n",
    "\n",
    "import scipy.stats as stats\n",
    "\n",
    "\n",
    "import matplotlib.pyplot as plt\n",
    "\n",
    "\n",
    "import sklearn\n",
    "\n",
    "\n",
    "from sklearn.datasets import load_boston\n",
    "\n",
    "\n",
    "boston = load_boston()\n"
   ]
  },
  {
   "cell_type": "code",
   "execution_count": 4,
   "id": "67acf1f9",
   "metadata": {},
   "outputs": [],
   "source": [
    "# import necessary libraries\n",
    "import numpy as np\n",
    "import pandas as pd\n",
    "import scipy.stats as stats\n",
    "import matplotlib.pyplot as plt\n",
    "import sklearn\n",
    "from sklearn.datasets import load_boston\n",
    "from sklearn.linear_model import LinearRegression\n",
    "from sklearn.model_selection import train_test_split\n",
    "from sklearn.metrics import mean_squared_error, r2_score\n",
    "\n",
    "import warnings\n",
    "warnings.filterwarnings('ignore')"
   ]
  },
  {
   "cell_type": "code",
   "execution_count": 5,
   "id": "43a1d3ce",
   "metadata": {},
   "outputs": [],
   "source": [
    "# load the Boston dataset\n",
    "boston = load_boston()"
   ]
  },
  {
   "cell_type": "code",
   "execution_count": 6,
   "id": "d83f7030",
   "metadata": {},
   "outputs": [],
   "source": [
    "# create a Pandas dataframe from the dataset\n",
    "df = pd.DataFrame(boston.data, columns=boston.feature_names)"
   ]
  },
  {
   "cell_type": "code",
   "execution_count": 7,
   "id": "ca392d84",
   "metadata": {},
   "outputs": [],
   "source": [
    "# add the target variable to the dataframe\n",
    "df['Price'] = boston.target"
   ]
  },
  {
   "cell_type": "code",
   "execution_count": 8,
   "id": "fc8adc49",
   "metadata": {},
   "outputs": [],
   "source": [
    "# split the data into training and testing sets\n",
    "X_train, X_test, y_train, y_test = train_test_split(df[boston.feature_names], df['Price'], test_size=0.3, random_state=42)"
   ]
  },
  {
   "cell_type": "code",
   "execution_count": 9,
   "id": "7a7c432c",
   "metadata": {},
   "outputs": [],
   "source": [
    "# create a linear regression model\n",
    "model = LinearRegression()\n"
   ]
  },
  {
   "cell_type": "code",
   "execution_count": 10,
   "id": "c407b4fb",
   "metadata": {},
   "outputs": [
    {
     "data": {
      "text/plain": [
       "LinearRegression()"
      ]
     },
     "execution_count": 10,
     "metadata": {},
     "output_type": "execute_result"
    }
   ],
   "source": [
    "# fit the model to the training data\n",
    "model.fit(X_train, y_train)\n"
   ]
  },
  {
   "cell_type": "code",
   "execution_count": 11,
   "id": "b013cf4b",
   "metadata": {},
   "outputs": [],
   "source": [
    "# make predictions on the test data\n",
    "y_pred = model.predict(X_test)\n"
   ]
  },
  {
   "cell_type": "code",
   "execution_count": 12,
   "id": "cf4e7120",
   "metadata": {},
   "outputs": [
    {
     "name": "stdout",
     "output_type": "stream",
     "text": [
      "Mean squared error:  21.517444231177336\n",
      "R-squared score:  0.7112260057484916\n"
     ]
    }
   ],
   "source": [
    "# evaluate the model using mean squared error and R-squared score\n",
    "mse = mean_squared_error(y_test, y_pred)\n",
    "r2 = r2_score(y_test, y_pred)\n",
    "\n",
    "print(\"Mean squared error: \", mse)\n",
    "print(\"R-squared score: \", r2)"
   ]
  },
  {
   "cell_type": "markdown",
   "id": "d1169d4f",
   "metadata": {},
   "source": [
    "# Lets do Hyperparameter Tuning"
   ]
  },
  {
   "cell_type": "code",
   "execution_count": 14,
   "id": "2c1bfb66",
   "metadata": {},
   "outputs": [],
   "source": [
    "from sklearn.linear_model import Ridge,Lasso,RidgeCV,LassoCV"
   ]
  },
  {
   "cell_type": "code",
   "execution_count": 16,
   "id": "8a1500c4",
   "metadata": {},
   "outputs": [
    {
     "data": {
      "text/plain": [
       "LassoCV(max_iter=100, normalize=True)"
      ]
     },
     "execution_count": 16,
     "metadata": {},
     "output_type": "execute_result"
    }
   ],
   "source": [
    "lasscv=LassoCV(alphas = None , max_iter =100,normalize=True)\n",
    "lasscv.fit(X_train,y_train)"
   ]
  },
  {
   "cell_type": "code",
   "execution_count": 17,
   "id": "6d50772c",
   "metadata": {},
   "outputs": [
    {
     "data": {
      "text/plain": [
       "0.0003722775328799811"
      ]
     },
     "execution_count": 17,
     "metadata": {},
     "output_type": "execute_result"
    }
   ],
   "source": [
    "#best alpha paremetere\n",
    "alpha=lasscv.alpha_\n",
    "alpha"
   ]
  },
  {
   "cell_type": "code",
   "execution_count": 18,
   "id": "45358bf9",
   "metadata": {},
   "outputs": [
    {
     "data": {
      "text/plain": [
       "Lasso(alpha=0.0003722775328799811)"
      ]
     },
     "execution_count": 18,
     "metadata": {},
     "output_type": "execute_result"
    }
   ],
   "source": [
    "#Now that we have best parameter,Lets use Lasso regression and see how well our data has fitted before\n",
    "lasso_reg=Lasso(alpha)\n",
    "lasso_reg.fit(X_train,y_train)"
   ]
  },
  {
   "cell_type": "code",
   "execution_count": 19,
   "id": "56dc355a",
   "metadata": {},
   "outputs": [
    {
     "data": {
      "text/plain": [
       "0.7111579499091616"
      ]
     },
     "execution_count": 19,
     "metadata": {},
     "output_type": "execute_result"
    }
   ],
   "source": [
    "lasso_reg.score(X_test,y_test)"
   ]
  },
  {
   "cell_type": "markdown",
   "id": "aa9a6875",
   "metadata": {},
   "source": [
    "So, what its indicate now ,why we are trying Lasso regression beacuse we thought that linear regression is overfitted here also getting a same result which means that we either use a linear regression or lasso both are giving same .it means our model has not over fitted . so that conclusion is we can make here . our model is not over fitted."
   ]
  },
  {
   "cell_type": "markdown",
   "id": "f5e6e106",
   "metadata": {},
   "source": [
    "# Using Ridge Regression Model\n",
    "\n",
    "Ridge will return best alpha and coefficients after performing 10 Cross validation."
   ]
  },
  {
   "cell_type": "code",
   "execution_count": 20,
   "id": "654e1dce",
   "metadata": {},
   "outputs": [
    {
     "data": {
      "text/plain": [
       "RidgeCV(alphas=array([0.001, 0.011, 0.021, 0.031, 0.041, 0.051, 0.061, 0.071, 0.081,\n",
       "       0.091]),\n",
       "        normalize=True)"
      ]
     },
     "execution_count": 20,
     "metadata": {},
     "output_type": "execute_result"
    }
   ],
   "source": [
    "# Ridge will return best alpha and coefficients after performing 10 Cross validation\n",
    "\n",
    "ridgecv=RidgeCV(alphas =np.arange(0.001,0.1,0.01),normalize=True)\n",
    "ridgecv.fit(X_train,y_train)"
   ]
  },
  {
   "cell_type": "code",
   "execution_count": 21,
   "id": "f2f48da9",
   "metadata": {},
   "outputs": [
    {
     "data": {
      "text/plain": [
       "0.020999999999999998"
      ]
     },
     "execution_count": 21,
     "metadata": {},
     "output_type": "execute_result"
    }
   ],
   "source": [
    "ridgecv.alpha_"
   ]
  },
  {
   "cell_type": "code",
   "execution_count": 23,
   "id": "df2c982d",
   "metadata": {},
   "outputs": [
    {
     "data": {
      "text/plain": [
       "Ridge(alpha=0.020999999999999998)"
      ]
     },
     "execution_count": 23,
     "metadata": {},
     "output_type": "execute_result"
    }
   ],
   "source": [
    "ridge_model = Ridge(alpha=ridgecv.alpha_)\n",
    "ridge_model.fit(X_train,y_train)"
   ]
  },
  {
   "cell_type": "code",
   "execution_count": 24,
   "id": "23eb87d1",
   "metadata": {},
   "outputs": [
    {
     "data": {
      "text/plain": [
       "0.7110350912621927"
      ]
     },
     "execution_count": 24,
     "metadata": {},
     "output_type": "execute_result"
    }
   ],
   "source": [
    "ridge_model.score(X_test,y_test)"
   ]
  },
  {
   "cell_type": "markdown",
   "id": "8eb8207c",
   "metadata": {},
   "source": [
    "we got around same R2 using ridge regression as well . so its safe to say there is no overfitting"
   ]
  },
  {
   "cell_type": "code",
   "execution_count": 31,
   "id": "38215735",
   "metadata": {},
   "outputs": [],
   "source": [
    "pred = ridge_model.predict(X_test)"
   ]
  },
  {
   "cell_type": "markdown",
   "id": "4db60b9a",
   "metadata": {},
   "source": [
    "# Best Fit Line"
   ]
  },
  {
   "cell_type": "code",
   "execution_count": 32,
   "id": "a2b2c10b",
   "metadata": {},
   "outputs": [
    {
     "data": {
      "image/png": "[encoded data removed]",
      "text/plain": [
       "<Figure size 640x480 with 1 Axes>"
      ]
     },
     "metadata": {},
     "output_type": "display_data"
    }
   ],
   "source": [
    "plt.scatter(y_test,pred,)\n",
    "plt.xlabel('Actual Data')\n",
    "plt.ylabel('Predicted Data')\n",
    "plt.title('Linear Regression Graph')\n",
    "plt.tight_layout()"
   ]
  },
  {
   "cell_type": "code",
   "execution_count": 13,
   "id": "e056890f",
   "metadata": {},
   "outputs": [],
   "source": [
    "#Intern at Pranathi \n",
    "#Student of Datatrained- Saurav\n",
    "#Date - 06-04-2023\n",
    "#Time - 12:05"
   ]
  },
  {
   "cell_type": "code",
   "execution_count": null,
   "id": "eb8d8730",
   "metadata": {},
   "outputs": [],
   "source": []
  }
 ],
 "metadata": {
  "kernelspec": {
   "display_name": "Python 3 (ipykernel)",
   "language": "python",
   "name": "python3"
  },
  "language_info": {
   "codemirror_mode": {
    "name": "ipython",
    "version": 3
   },
   "file_extension": ".py",
   "mimetype": "text/x-python",
   "name": "python",
   "nbconvert_exporter": "python",
   "pygments_lexer": "ipython3",
   "version": "3.9.13"
  }
 },
 "nbformat": 4,
 "nbformat_minor": 5
}
